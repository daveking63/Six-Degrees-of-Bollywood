{
 "cells": [
  {
   "cell_type": "markdown",
   "metadata": {},
   "source": [
    "<h2>SNA of Bollywood Films - Phase 1: The Dataset and Statistical Overview</h2>\n",
    "\n",
    "Think of 6 Degrees of Kevin Bacon -- only this time, it's a social network analysis (SNA) of the actors and directors of Bollywood films from for the 50 years from 1970-2018 (the modern era). This project is a reincarnation and expansion of an earlier project that was part of a tutorial and workshop on social network analysis (SNA) that I conducted at HICSS-47 (2014). That tutorial looked at social networks in Bollywood movies for all the Bollywood films from 2008-2013. The slides from that earlier tutorial are provided here for reference. This current rendition expands the sample from 6 years of films to the 49 years of films from 1970 to 2018.\n",
    "\n",
    "The genesis of my initial work, as well as this expansion, is found not only in the simple games, applications, and research revolving around the \"Six Degrees of Kevin Bacon\" (based on Hollywood films), but also the larger body of SNA including the concepts of degrees of separation, clustering, and small world networks:\n",
    "\n",
    "<ul>\n",
    "<li><a href=\"https://en.wikipedia.org/wiki/Six_Degrees_of_Kevin_Bacon\">Six Degrees of Kevin Bacon</a></li>\n",
    "<li><a href=\"https://oracleofbacon.org/center.php\">The Center of the Hollywood Universe</a></li>\n",
    "<li><a href=\"https://en.wikipedia.org/wiki/Small-world_network\">Small-world Networks</a></li>\n",
    "</ul>\n",
    "\n",
    "The project involves three intertwined phases. The first phase focuses on the creation of the data set on which the SNA analysis is based along with a brief statistical overview of the data set. The second phase is devoted to a SNA of this dataset -- looking primarily at who works with whom and who the key players are from a SNA perspective. Finally, the third phase combines this data with another data set based on 'Hindi Film Families' in order to look at the participation and influence of these families in Bollywood films. The analysis in all 3 phases is housed in 3 separate Jupyter iPython notebooks.\n",
    "\n",
    "<ol>\n",
    "    <li>SNA of Bollywood Films - Phase 1: The Dataset and Statistical Overview</li>\n",
    "    <li>SNA of Bollywood Films - Phase 2: Participation and Influence of Directors and Actors</li>\n",
    "    <li>SNA of Bollywood Films - Phase 3: The Role of Film Families in Bollywood</li>\n",
    "</ol>\n",
    "\n",
    "<h3><a class=\"anchor\" id=\"toc\">Table of Contents</a></h3>\n",
    "\n",
    "1. [Introduction](#intro)<br>\n",
    "2. [Constructing the Data Set](#dataset)<br>\n",
    "3. [Transforming the data set into a Dataframe](#dataframe)<br>\n",
    "4. [Getting the Lay of the Land: Structure and Contents of the Dataframe](#lay_land)<br>\n"
   ]
  },
  {
   "cell_type": "code",
   "execution_count": 1,
   "metadata": {},
   "outputs": [],
   "source": [
    "from IPython.core.interactiveshell import InteractiveShell\n",
    "InteractiveShell.ast_node_interactivity = \"all\""
   ]
  },
  {
   "cell_type": "code",
   "execution_count": 2,
   "metadata": {},
   "outputs": [
    {
     "data": {
      "application/javascript": [
       "IPython.OutputArea.prototype._should_scroll = function(lines) {\n",
       "    return false;\n",
       "}\n"
      ],
      "text/plain": [
       "<IPython.core.display.Javascript object>"
      ]
     },
     "metadata": {},
     "output_type": "display_data"
    }
   ],
   "source": [
    "%%javascript\n",
    "IPython.OutputArea.prototype._should_scroll = function(lines) {\n",
    "    return false;\n",
    "}"
   ]
  },
  {
   "cell_type": "markdown",
   "metadata": {},
   "source": [
    "<h3>Constructing the Data Set</h3>\n",
    "\n",
    "The foundation for the data set comes from a wikipedia page indexing the <a href=\"https://en.wikipedia.org/wiki/Lists_of_Bollywood_films\">Lists of Bollywood Films</a> for the years from 1940 to 2018. For the moment, I'm leaving the earlier years from 1940-1969 for future analysis, primarily because it is extremely labor intensive working with the wide variety of data formats, missing data, and errors found in even smaller subsets of the films in these lists. \\[Note: the IMDB data sets provide info about Bollywood films and actors, but it is not as comprehensive as the lists provided in Wikipedia.]\n",
    "\n",
    "Each entry in the <i>Lists</i> designates a link to a wikipedia page devoted to the Bollywood films for a single year. The structure of all the links is simple (e.g. the link for 2018 is wikipedia.org/wiki/List_of_Bollywood_films_of_2018). This makes it straightforward to write a program to download each of the 50 pages in this sample, which is what I did -- see the Python (3.+) program in this repository labeled <a href='https://github.com/daveking63/Six-Degrees-of-Bollywood/blob/master/retrieveListofBollywoodFilmsbyYear.py'><i>retrieveListofBollywoodFilmsbyYear.py</i></a>. Once the pages were downloaded, they were each stored in a local (HTML) file for further analysis.\n",
    "\n",
    "Each of the downloaded webpages contains an HTML table of information about each of the films produced with in a given year. While the structure and content of the pages and tables varied from one decade, and often one year, to the next, all of the tables provided information about the following for each film:\n",
    "\n",
    "<ul>\n",
    "  <li>year of release</li>\n",
    "  <li>title</li>\n",
    "  <li>HTML link to a wikipedia page devoted to that title</li>\n",
    "  <li>director(s) (one or more)</li>\n",
    "  <li>cast (i.e. list of actors names in the film)</li>\n",
    "  <li>genre(s) (one or more tags denoting the type of movie, e.g. Romance, Drama, Comedy, etc.)</li>\n",
    "</ul>\n",
    "\n",
    "Again, a program -- <a href='https://github.com/daveking63/Six-Degrees-of-Bollywood/blob/master/bollySetUp-HTMLLists.py'><i>bollySetUp-HTMLLists.py</i></a> -- was used to extract the rows from each of the 50 tables and to create a single, consolidated table for all of the films from all of the years. A quick look at this Python 3 program will reveal that it employs a small set of functions based on Beautiful Soup package along with a number of simple text and regular expression \"re\" function calls. In the program, the title and it's associated page link are defined as strings, while the director, cast and genre variables are all Python lists because they contain 0 or more entries.  At the moment, the results are stored row-by-row in an Excel file whose name is <a href='https://github.com/daveking63/Six-Degrees-of-Bollywood/blob/master/bollywoodData.xlsx'><i>bollywoodData.xlsx</i></a>).\n",
    "\n",
    "<h3>Transforming the data set into a Dataframe</h3>\n",
    "\n",
    "Given that the data is in an .xlsx file, one of the first steps I've taken in producing a statistical overview of the data is to read the file with a pandas 'read_excel' method or function which transforms it into a pandas 'dataframe'.\n",
    "\n",
    "Note: While I could have read the file and transformed it into a variety of formats, I selected pandas primarily because of it's analytical capabilities (for a summary of these, see <a href=\"https://github.com/daveking63/Jupyter-iPython-Notebooks\"> <i>Pandas Notes</i></a> - a Python notebook provided in one of my other repositories)."
   ]
  },
  {
   "cell_type": "code",
   "execution_count": 21,
   "metadata": {},
   "outputs": [
    {
     "name": "stdout",
     "output_type": "stream",
     "text": [
      "Type of bollywoodDF: <class 'pandas.core.frame.DataFrame'>\n"
     ]
    }
   ],
   "source": [
    "import numpy as np\n",
    "import pandas as pd\n",
    "import matplotlib as plt\n",
    "\n",
    "# read bollywoodData.xlsx transforming it to a pandas dataframe\n",
    "bollywoodPath = \"c:/Research/Bollywood/\"\n",
    "bollywoodXLFile = bollywoodPath + \"bollywoodData.xlsx\"\n",
    "bollywoodDF = pd.read_excel(bollywoodXLFile, sheet_name=\"bollywoodData\")\n",
    "print('Type of bollywoodDF:',type(bollywoodDF))\n"
   ]
  },
  {
   "cell_type": "markdown",
   "metadata": {},
   "source": [
    "  Given the 'bollywoodDF' dataframe, we should get a sense of its structure (size, shape, column names and types, and its row index) and the contents of it's cells. "
   ]
  },
  {
   "cell_type": "code",
   "execution_count": 23,
   "metadata": {
    "scrolled": true
   },
   "outputs": [
    {
     "name": "stdout",
     "output_type": "stream",
     "text": [
      "1. Number of dimensions: bollywoodDF.ndim 2\n",
      "\n",
      "2. Number of elements in each dimension: bollywoodDF.shape (4908, 9)\n",
      "\n",
      "3. Range of row numbers: bollywoodDF.index:\n",
      "\n",
      "RangeIndex(start=0, stop=4908, step=1)\n",
      "\n",
      "4. Names of columns: bollywoodDF.columns:\n",
      "\n",
      "Index(['_id', 'movieID', 'movieTitle', 'movieYear', 'movieLink',\n",
      "       'movieDirector', 'movieCast', 'movieGenre', 'count'],\n",
      "      dtype='object')\n",
      "\n",
      "5. Size -- number of elements (rows x columns): bollywoodDF.size 44172\n",
      "\n",
      "6. Info about row index and column names and types and : bollywoodDF.info()\n",
      "\n",
      "<class 'pandas.core.frame.DataFrame'>\n",
      "RangeIndex: 4908 entries, 0 to 4907\n",
      "Data columns (total 9 columns):\n",
      "_id              4908 non-null int64\n",
      "movieID          4908 non-null object\n",
      "movieTitle       4908 non-null object\n",
      "movieYear        4908 non-null int64\n",
      "movieLink        4154 non-null object\n",
      "movieDirector    4083 non-null object\n",
      "movieCast        4540 non-null object\n",
      "movieGenre       3572 non-null object\n",
      "count            4908 non-null int64\n",
      "dtypes: int64(3), object(6)\n",
      "memory usage: 345.2+ KB\n",
      "None\n"
     ]
    }
   ],
   "source": [
    "# Dimensional Structure\n",
    "\n",
    "print(\"1. Number of dimensions: bollywoodDF.ndim\", bollywoodDF.ndim)\n",
    "print()\n",
    "print(\"2. Number of elements in each dimension: bollywoodDF.shape\", bollywoodDF.shape)\n",
    "print(\"\")\n",
    "print(\"3. Range of row numbers: bollywoodDF.index:\")\n",
    "print(\"\")\n",
    "print(bollywoodDF.index)\n",
    "print(\"\")\n",
    "print(\"4. Names of columns: bollywoodDF.columns:\")\n",
    "print(\"\")\n",
    "print(bollywoodDF.columns)\n",
    "print(\"\")\n",
    "print(\"5. Size -- number of elements (rows x columns): bollywoodDF.size\", bollywoodDF.size)\n",
    "print(\"\")\n",
    "print(\"6. Info about row index and column names and types and : bollywoodDF.info()\")\n",
    "print(\"\")\n",
    "print(bollywoodDF.info())"
   ]
  },
  {
   "cell_type": "markdown",
   "metadata": {},
   "source": [
    "Based on this information, it's easy to see that it's a two dimensional dataframe (rows x columns). There are 4908 rows and 9 columns in the dataframe.  The row index indicates that they are numbered from 0 to 4907. The 9 column names were taken from the header row in the Excel table and include:\n",
    "\n",
    "    _id, movieID, movieTitle, movieYear, movieLink, \n",
    "    movieDirector, movieCast, movieGenre, and count\n",
    "    \n",
    "The combination of 4908 rows and 9 columns results in 44172 cells.\n",
    "\n",
    "In addition to the column names, the 'dataframe.info()' method or function also provides details about the column type. As it notes, there were 3 columns containing integers and 6 columns containing 'objects' which in this case is 'strings'. Finally, the 'info' method provides the number of non-null cells by column. So, for instance, while there are 4908 cells in each column, in the 'movieLink' column only 4154 of them have non-null values. The rest of the 754 cells is missing.\n",
    "\n",
    "Although the 'info' method encompasses all the information provided by the 'dataframe.columns' and 'dataframe.index' methods, it isn't easy to extract individual pieces of info from its results. For example, if you want to create a list of column names for other programming purposes (which often happens), you can't pull it easily from 'info' but you can get it from the dataframe.columns method.\n",
    "\n",
    "While the column names and types provide some hints about the contents of the cells in a particular column, the only way to really understand the contents is to look a few cells for each of the columns.  A simple way to do this is with the head and tail methods or functions.  The 'head' method displays the rows at the top, while the tail displays the rows at the bottom.  By default the display 5 rows, but you designate more rows or less."
   ]
  },
  {
   "cell_type": "code",
   "execution_count": 35,
   "metadata": {},
   "outputs": [
    {
     "name": "stdout",
     "output_type": "stream",
     "text": [
      "First 5 rows of the dataframe: bollyWoodDF.head()\n"
     ]
    },
    {
     "data": {
      "text/html": [
       "<div>\n",
       "<style scoped>\n",
       "    .dataframe tbody tr th:only-of-type {\n",
       "        vertical-align: middle;\n",
       "    }\n",
       "\n",
       "    .dataframe tbody tr th {\n",
       "        vertical-align: top;\n",
       "    }\n",
       "\n",
       "    .dataframe thead th {\n",
       "        text-align: right;\n",
       "    }\n",
       "</style>\n",
       "<table border=\"1\" class=\"dataframe\">\n",
       "  <thead>\n",
       "    <tr style=\"text-align: right;\">\n",
       "      <th></th>\n",
       "      <th>_id</th>\n",
       "      <th>movieID</th>\n",
       "      <th>movieTitle</th>\n",
       "      <th>movieYear</th>\n",
       "      <th>movieLink</th>\n",
       "      <th>movieDirector</th>\n",
       "      <th>movieCast</th>\n",
       "      <th>movieGenre</th>\n",
       "      <th>count</th>\n",
       "    </tr>\n",
       "  </thead>\n",
       "  <tbody>\n",
       "    <tr>\n",
       "      <th>0</th>\n",
       "      <td>0</td>\n",
       "      <td>1970-0</td>\n",
       "      <td>Aag Aur Daag</td>\n",
       "      <td>1970</td>\n",
       "      <td>/wiki/Aag_Aur_Daag</td>\n",
       "      <td>A. Salaam</td>\n",
       "      <td>Joy Mukherjee|Madan Puri</td>\n",
       "      <td>Action</td>\n",
       "      <td>1</td>\n",
       "    </tr>\n",
       "    <tr>\n",
       "      <th>1</th>\n",
       "      <td>1</td>\n",
       "      <td>1970-1</td>\n",
       "      <td>Aan Milo Sajna</td>\n",
       "      <td>1970</td>\n",
       "      <td>/wiki/Aan_Milo_Sajna</td>\n",
       "      <td>Mukul Dutt</td>\n",
       "      <td>Asha Parekh|Rajesh Khanna|Vinod Khanna</td>\n",
       "      <td>Drama</td>\n",
       "      <td>1</td>\n",
       "    </tr>\n",
       "    <tr>\n",
       "      <th>2</th>\n",
       "      <td>2</td>\n",
       "      <td>1970-2</td>\n",
       "      <td>Aansoo Aur Muskan</td>\n",
       "      <td>1970</td>\n",
       "      <td>/wiki/Aansoo_Aur_Muskan</td>\n",
       "      <td>P. Madhavan</td>\n",
       "      <td>Bindu|Padmini</td>\n",
       "      <td>Drama</td>\n",
       "      <td>1</td>\n",
       "    </tr>\n",
       "    <tr>\n",
       "      <th>3</th>\n",
       "      <td>3</td>\n",
       "      <td>1970-3</td>\n",
       "      <td>Abhinetri</td>\n",
       "      <td>1970</td>\n",
       "      <td>/wiki/Abhinetri</td>\n",
       "      <td>Subodh Mukherjee</td>\n",
       "      <td>Shashi Kapoor|Hema Malini|Deb Mukherjee</td>\n",
       "      <td>Drama</td>\n",
       "      <td>1</td>\n",
       "    </tr>\n",
       "    <tr>\n",
       "      <th>4</th>\n",
       "      <td>4</td>\n",
       "      <td>1970-4</td>\n",
       "      <td>Bachpan</td>\n",
       "      <td>1970</td>\n",
       "      <td>/wiki/Bachpan</td>\n",
       "      <td>Kotayya Pratyagatma</td>\n",
       "      <td>Sanjeev Kumar|Tanuja</td>\n",
       "      <td>Drama</td>\n",
       "      <td>1</td>\n",
       "    </tr>\n",
       "  </tbody>\n",
       "</table>\n",
       "</div>"
      ],
      "text/plain": [
       "   _id movieID         movieTitle  movieYear                movieLink  \\\n",
       "0    0  1970-0       Aag Aur Daag       1970       /wiki/Aag_Aur_Daag   \n",
       "1    1  1970-1     Aan Milo Sajna       1970     /wiki/Aan_Milo_Sajna   \n",
       "2    2  1970-2  Aansoo Aur Muskan       1970  /wiki/Aansoo_Aur_Muskan   \n",
       "3    3  1970-3          Abhinetri       1970          /wiki/Abhinetri   \n",
       "4    4  1970-4            Bachpan       1970            /wiki/Bachpan   \n",
       "\n",
       "         movieDirector                                movieCast movieGenre  \\\n",
       "0            A. Salaam                 Joy Mukherjee|Madan Puri     Action   \n",
       "1           Mukul Dutt   Asha Parekh|Rajesh Khanna|Vinod Khanna      Drama   \n",
       "2          P. Madhavan                            Bindu|Padmini      Drama   \n",
       "3     Subodh Mukherjee  Shashi Kapoor|Hema Malini|Deb Mukherjee      Drama   \n",
       "4  Kotayya Pratyagatma                     Sanjeev Kumar|Tanuja      Drama   \n",
       "\n",
       "   count  \n",
       "0      1  \n",
       "1      1  \n",
       "2      1  \n",
       "3      1  \n",
       "4      1  "
      ]
     },
     "execution_count": 35,
     "metadata": {},
     "output_type": "execute_result"
    }
   ],
   "source": [
    "print(\"First 5 rows of the dataframe: bollyWoodDF.head()\")\n",
    "bollywoodDF.head()"
   ]
  },
  {
   "cell_type": "code",
   "execution_count": 33,
   "metadata": {},
   "outputs": [
    {
     "name": "stdout",
     "output_type": "stream",
     "text": [
      "Last 5 rows of the dataframe: bollywoodDF.tail()\n"
     ]
    },
    {
     "data": {
      "text/html": [
       "<div>\n",
       "<style scoped>\n",
       "    .dataframe tbody tr th:only-of-type {\n",
       "        vertical-align: middle;\n",
       "    }\n",
       "\n",
       "    .dataframe tbody tr th {\n",
       "        vertical-align: top;\n",
       "    }\n",
       "\n",
       "    .dataframe thead th {\n",
       "        text-align: right;\n",
       "    }\n",
       "</style>\n",
       "<table border=\"1\" class=\"dataframe\">\n",
       "  <thead>\n",
       "    <tr style=\"text-align: right;\">\n",
       "      <th></th>\n",
       "      <th>_id</th>\n",
       "      <th>movieID</th>\n",
       "      <th>movieTitle</th>\n",
       "      <th>movieYear</th>\n",
       "      <th>movieLink</th>\n",
       "      <th>movieDirector</th>\n",
       "      <th>movieCast</th>\n",
       "      <th>movieGenre</th>\n",
       "      <th>count</th>\n",
       "    </tr>\n",
       "  </thead>\n",
       "  <tbody>\n",
       "    <tr>\n",
       "      <th>4903</th>\n",
       "      <td>4903</td>\n",
       "      <td>2018-116</td>\n",
       "      <td>Mangal Ho</td>\n",
       "      <td>2018</td>\n",
       "      <td>/wiki/Mangal_Ho</td>\n",
       "      <td>Pritish Chakraborty</td>\n",
       "      <td>Pritish Chakraborty|Aanushka Ramesh|Sanjay Mis...</td>\n",
       "      <td>SciFi|Comedy</td>\n",
       "      <td>1</td>\n",
       "    </tr>\n",
       "    <tr>\n",
       "      <th>4904</th>\n",
       "      <td>4904</td>\n",
       "      <td>2018-117</td>\n",
       "      <td>The Accidental Prime Minister (film)</td>\n",
       "      <td>2018</td>\n",
       "      <td>/wiki/The_Accidental_Prime_Minister_(film)</td>\n",
       "      <td>Vijay Ratnakar Gutte</td>\n",
       "      <td>Anupam Kher|Akshaye Khanna</td>\n",
       "      <td>Biopic</td>\n",
       "      <td>1</td>\n",
       "    </tr>\n",
       "    <tr>\n",
       "      <th>4905</th>\n",
       "      <td>4905</td>\n",
       "      <td>2018-118</td>\n",
       "      <td>Amavas</td>\n",
       "      <td>2018</td>\n",
       "      <td>/wiki/Amavas</td>\n",
       "      <td>Vijay Ratnakar Gutte</td>\n",
       "      <td>Anupam Kher|Akshaye Khanna</td>\n",
       "      <td>Biopic</td>\n",
       "      <td>1</td>\n",
       "    </tr>\n",
       "    <tr>\n",
       "      <th>4906</th>\n",
       "      <td>4906</td>\n",
       "      <td>2018-119</td>\n",
       "      <td>Zero (2018 film)</td>\n",
       "      <td>2018</td>\n",
       "      <td>/wiki/Zero_(2018_film)</td>\n",
       "      <td>Aanand L. Rai</td>\n",
       "      <td>Shah Rukh Khan|Katrina Kaif|Anushka Sharma|Tig...</td>\n",
       "      <td>Comedy|Drama</td>\n",
       "      <td>1</td>\n",
       "    </tr>\n",
       "    <tr>\n",
       "      <th>4907</th>\n",
       "      <td>4907</td>\n",
       "      <td>2018-120</td>\n",
       "      <td>Simmba</td>\n",
       "      <td>2018</td>\n",
       "      <td>/wiki/Simmba</td>\n",
       "      <td>Rohit Shetty</td>\n",
       "      <td>Ranveer Singh|Sara Ali Khan|Sonu Sood</td>\n",
       "      <td>Action|Comedy</td>\n",
       "      <td>1</td>\n",
       "    </tr>\n",
       "  </tbody>\n",
       "</table>\n",
       "</div>"
      ],
      "text/plain": [
       "       _id   movieID                            movieTitle  movieYear  \\\n",
       "4903  4903  2018-116                             Mangal Ho       2018   \n",
       "4904  4904  2018-117  The Accidental Prime Minister (film)       2018   \n",
       "4905  4905  2018-118                                Amavas       2018   \n",
       "4906  4906  2018-119                      Zero (2018 film)       2018   \n",
       "4907  4907  2018-120                                Simmba       2018   \n",
       "\n",
       "                                       movieLink         movieDirector  \\\n",
       "4903                             /wiki/Mangal_Ho   Pritish Chakraborty   \n",
       "4904  /wiki/The_Accidental_Prime_Minister_(film)  Vijay Ratnakar Gutte   \n",
       "4905                                /wiki/Amavas  Vijay Ratnakar Gutte   \n",
       "4906                      /wiki/Zero_(2018_film)         Aanand L. Rai   \n",
       "4907                                /wiki/Simmba          Rohit Shetty   \n",
       "\n",
       "                                              movieCast     movieGenre  count  \n",
       "4903  Pritish Chakraborty|Aanushka Ramesh|Sanjay Mis...   SciFi|Comedy      1  \n",
       "4904                         Anupam Kher|Akshaye Khanna         Biopic      1  \n",
       "4905                         Anupam Kher|Akshaye Khanna         Biopic      1  \n",
       "4906  Shah Rukh Khan|Katrina Kaif|Anushka Sharma|Tig...   Comedy|Drama      1  \n",
       "4907              Ranveer Singh|Sara Ali Khan|Sonu Sood  Action|Comedy      1  "
      ]
     },
     "execution_count": 33,
     "metadata": {},
     "output_type": "execute_result"
    }
   ],
   "source": [
    "print(\"Last 5 rows of the dataframe: bollywoodDF.tail()\")\n",
    "bollywoodDF.tail()"
   ]
  },
  {
   "cell_type": "markdown",
   "metadata": {},
   "source": [
    "With one exception (missing values), the 'heads's and 'tail's methods provide a pretty good understanding of the contents in the various columns and cells:\n",
    "\n",
    "<ol>\n",
    "    <li>_id -- this is a numerical 'id' used to indicate the ordered position of the row (i.e. movie) in the dataframe. Because it is unique, it can be used by other programs as a 'hashed' index. My choice of this particular  label ('\\_id') was purposeful because this is the label that the 'document-database' MongoDB searches for when it tries to construct and index for a 'collection' of documents (see the notebook <a href=\"https://github.com/daveking63/Jupyter-iPython-Notebooks/blob/master/SemiStructuredData_PythonDicts_JSON_MongoDB_PyMongo.ipynb\">Working with Semi-Structured Data: Python Dictionaries, JSON, MongoDB and PyMongo</a> in another of my repositories).</li>\n",
    "    <li>movieID -- string indicating the position of the movie within a given year. Number starts at 0. For example, as shown the first movie (chronologically) in 1970 is 1970-0, the second 1970-1, etc.</li>\n",
    "    <li>movieTitle -- title of the movie</li>\n",
    "    <li>movieYear -- number representing the year released</li>\n",
    "    <li>movieLink -- sting representing a link (usually) to wikipedia web page (complete link is prefaced by http://wikipedia/...)</li>\n",
    "    <li>movieDirector -- string containing list of director names separated by a pipe '|' </li>\n",
    "    <li>movieCast -- string containing list of cast member names separated by a pipe '|'</li>\n",
    "    <li>movieGenre -- string containing list of genre names separated by a pipe '|'. As Wikipedia notes, \"A film genre is a motion-picture category based  on similarities either in the narrative elements or in the emotional response to the film\"</li>\n",
    "    <li>count -- used programmatically as a quick way to compute total counts</li>\n",
    "</ol>\n",
    "\n",
    "The pipe symbol '|' is often used to create a string to represent a list of entities. In this way, variables or fields whose values are lists of entities can be entered and stored in a table or spreadsheet (just like they were in the bollywoodData.xlsx spreadsheet). Of course, if they are stored table cell in this manner, then they'll have to be split programmatically before they can be used in virtually any kind of analysis. This is why, other formats and data structures are (e.g. Python dictionaries) preferable. However, for the time being I'm going to ignore other options and will contine to use the current dataframe.\n",
    "\n",
    "<h3>Statistical Overview</h3>\n",
    "\n",
    "In it's current form, there's not much of interest to statistically summarize in the Bollywood dataframe ('bollywoodDF) except maybe the number of movies for various year. So, let start by first computing some counts of the number of directors, cast members, and genres for each.  In order to do this we're going to have to figure out how to work with the 'piped' strings. If all we want to do is determine the number contained in the piped string, then we could use something like the 'findall' method found in the regular expressions ('re') library. For example,"
   ]
  },
  {
   "cell_type": "code",
   "execution_count": 95,
   "metadata": {
    "scrolled": false
   },
   "outputs": [
    {
     "name": "stdout",
     "output_type": "stream",
     "text": [
      "cast members: Joy Mukherjee|Madan Puri  -- number in cast: 2\n",
      "cast members: Asha Parekh|Rajesh Khanna|Vinod Khanna  -- number in cast: 3\n",
      "cast members: Bindu|Padmini  -- number in cast: 2\n",
      "cast members: Shashi Kapoor|Hema Malini|Deb Mukherjee  -- number in cast: 3\n",
      "cast members: Sanjeev Kumar|Tanuja  -- number in cast: 2\n"
     ]
    }
   ],
   "source": [
    "import re\n",
    "\n",
    "for i in range(5):\n",
    "    castStr = bollywoodDF.loc[i,'movieCast']\n",
    "    castCnt = len(re.findall(r\"\\|\",castStr)) + 1\n",
    "    print(\"cast members:\", castStr, \" -- number in cast:\", castCnt)"
   ]
  },
  {
   "cell_type": "markdown",
   "metadata": {},
   "source": [
    "Another way to do it, would be to 'split' the string into individual names, append them to a list, and then determine the length of the list. This is better if want to separate the string into individual entities. "
   ]
  },
  {
   "cell_type": "code",
   "execution_count": 65,
   "metadata": {},
   "outputs": [
    {
     "name": "stdout",
     "output_type": "stream",
     "text": [
      "cast list: ['Joy Mukherjee', 'Madan Puri']  -- number in cast: 2\n",
      "cast list: ['Asha Parekh', 'Rajesh Khanna', 'Vinod Khanna']  -- number in cast: 3\n",
      "cast list: ['Bindu', 'Padmini']  -- number in cast: 2\n",
      "cast list: ['Shashi Kapoor', 'Hema Malini', 'Deb Mukherjee']  -- number in cast: 3\n",
      "cast list: ['Sanjeev Kumar', 'Tanuja']  -- number in cast: 2\n"
     ]
    }
   ],
   "source": [
    "for i in range(20):\n",
    "    cast = bollywoodDF.loc[i,'movieCast']\n",
    "    castList = cast.split('|')\n",
    "    castCnt = len(castList)\n",
    "    print(\"cast list:\", castList, \" -- number in cast:\", castCnt)"
   ]
  },
  {
   "cell_type": "markdown",
   "metadata": {},
   "source": [
    "For the time being we'll stick with the 'findall'. I going to calculate the counts for movieDirectors, movieCast, and movieGenre. Once calculated, I'm going to add them to the bollywoodDF. Before, I do this however, I need to talk about missing values. In the original spreadsheet, missing values were denoted by 'NA.' When the spreadsheet was transformed into a dataframe, these missing values were converted to 'nan' which is a special float that pandas uses to denote 'missing'. When you try to 'split' or 'find' a particular character in a float, an error is thrown. In this case the moral of the story is before you 'split' or apply 'findall' to a cell value, check to see if it's a float. If it's not then go ahead. if it is, set it to missing and proceed. This is what I've done below."
   ]
  },
  {
   "cell_type": "code",
   "execution_count": 116,
   "metadata": {},
   "outputs": [
    {
     "name": "stdout",
     "output_type": "stream",
     "text": [
      "Expanded dataframe rows and columns: (4908, 12)\n",
      "\n",
      "Expanded column names:\n",
      "\n",
      "Index(['_id', 'movieID', 'movieTitle', 'movieYear', 'movieLink',\n",
      "       'movieDirector', 'movieCast', 'movieGenre', 'count', 'numDirectors',\n",
      "       'numCast', 'numGenre'],\n",
      "      dtype='object')\n",
      "\n",
      "Missing count and types:\n",
      "\n",
      "<class 'pandas.core.frame.DataFrame'>\n",
      "RangeIndex: 4908 entries, 0 to 4907\n",
      "Data columns (total 12 columns):\n",
      "_id              4908 non-null int64\n",
      "movieID          4908 non-null object\n",
      "movieTitle       4908 non-null object\n",
      "movieYear        4908 non-null int64\n",
      "movieLink        4154 non-null object\n",
      "movieDirector    4083 non-null object\n",
      "movieCast        4540 non-null object\n",
      "movieGenre       3572 non-null object\n",
      "count            4908 non-null int64\n",
      "numDirectors     4083 non-null float64\n",
      "numCast          4540 non-null float64\n",
      "numGenre         3572 non-null float64\n",
      "dtypes: float64(3), int64(3), object(6)\n",
      "memory usage: 460.2+ KB\n"
     ]
    }
   ],
   "source": [
    "numDirectors = []\n",
    "numCast = []\n",
    "numGenre = []\n",
    "\n",
    "start = 0\n",
    "end = bollywoodDF.shape[0]\n",
    "\n",
    "for i in range(start, end):\n",
    "    director = bollywoodDF.loc[i,'movieDirector']\n",
    "    cast = bollywoodDF.loc[i, 'movieCast']\n",
    "    genre = bollywoodDF.loc[i,'movieGenre']\n",
    "    #\n",
    "    if type(director) != float:\n",
    "        directorCnt = len(re.findall(r\"\\|\",director)) + 1\n",
    "    else:\n",
    "        directorCnt = director\n",
    "        \n",
    "    if type(cast) != float:\n",
    "        castCnt = len(re.findall(r\"\\|\",cast)) + 1\n",
    "    else:\n",
    "        castCnt = cast\n",
    "        \n",
    "    if type(genre) != float:\n",
    "        genreCnt = len(re.findall(r\"\\|\",genre)) + 1\n",
    "    else:\n",
    "        genreCnt = genre\n",
    "    #\n",
    "    numDirectors.append(directorCnt)\n",
    "    numCast.append(castCnt)\n",
    "    numGenre.append(genreCnt)\n",
    "\n",
    "# Convert count lists into pandas series. \n",
    "# These can be easily added to the original dataframe\n",
    "\n",
    "numDirSeries = pd.Series(numDirectors)\n",
    "numCastSeries = pd.Series(numCast)\n",
    "numGenreSeries = pd.Series(numGenre)\n",
    "\n",
    "bollywoodDF['numDirectors'] = numDirSeries.values\n",
    "bollywoodDF['numCast'] = numCastSeries.values\n",
    "bollywoodDF['numGenre'] = numGenreSeries.values\n",
    "\n",
    "print('Expanded dataframe rows and columns:', bollywoodDF.shape)\n",
    "print(\"\")\n",
    "print(\"Expanded column names:\")\n",
    "print(\"\")\n",
    "print(bollywoodDF.columns)\n",
    "print(\"\")\n",
    "print(\"Missing count and types:\")\n",
    "print(\"\")\n",
    "bollywoodDF.info()\n"
   ]
  },
  {
   "cell_type": "code",
   "execution_count": 128,
   "metadata": {
    "scrolled": true
   },
   "outputs": [
    {
     "data": {
      "text/html": [
       "<div>\n",
       "<style scoped>\n",
       "    .dataframe tbody tr th:only-of-type {\n",
       "        vertical-align: middle;\n",
       "    }\n",
       "\n",
       "    .dataframe tbody tr th {\n",
       "        vertical-align: top;\n",
       "    }\n",
       "\n",
       "    .dataframe thead th {\n",
       "        text-align: right;\n",
       "    }\n",
       "</style>\n",
       "<table border=\"1\" class=\"dataframe\">\n",
       "  <thead>\n",
       "    <tr style=\"text-align: right;\">\n",
       "      <th></th>\n",
       "      <th>count</th>\n",
       "      <th>mean</th>\n",
       "      <th>std</th>\n",
       "      <th>min</th>\n",
       "      <th>25%</th>\n",
       "      <th>50%</th>\n",
       "      <th>75%</th>\n",
       "      <th>max</th>\n",
       "    </tr>\n",
       "  </thead>\n",
       "  <tbody>\n",
       "    <tr>\n",
       "      <th>_id</th>\n",
       "      <td>4908.0</td>\n",
       "      <td>2453.500000</td>\n",
       "      <td>1416.961891</td>\n",
       "      <td>0.0</td>\n",
       "      <td>1226.75</td>\n",
       "      <td>2453.5</td>\n",
       "      <td>3680.25</td>\n",
       "      <td>4907.0</td>\n",
       "    </tr>\n",
       "    <tr>\n",
       "      <th>movieYear</th>\n",
       "      <td>4908.0</td>\n",
       "      <td>1995.308680</td>\n",
       "      <td>14.112328</td>\n",
       "      <td>1970.0</td>\n",
       "      <td>1983.00</td>\n",
       "      <td>1995.0</td>\n",
       "      <td>2008.00</td>\n",
       "      <td>2018.0</td>\n",
       "    </tr>\n",
       "    <tr>\n",
       "      <th>count</th>\n",
       "      <td>4908.0</td>\n",
       "      <td>1.000000</td>\n",
       "      <td>0.000000</td>\n",
       "      <td>1.0</td>\n",
       "      <td>1.00</td>\n",
       "      <td>1.0</td>\n",
       "      <td>1.00</td>\n",
       "      <td>1.0</td>\n",
       "    </tr>\n",
       "    <tr>\n",
       "      <th>numDirectors</th>\n",
       "      <td>4083.0</td>\n",
       "      <td>1.005878</td>\n",
       "      <td>0.076452</td>\n",
       "      <td>1.0</td>\n",
       "      <td>1.00</td>\n",
       "      <td>1.0</td>\n",
       "      <td>1.00</td>\n",
       "      <td>2.0</td>\n",
       "    </tr>\n",
       "    <tr>\n",
       "      <th>numCast</th>\n",
       "      <td>4540.0</td>\n",
       "      <td>3.482819</td>\n",
       "      <td>1.717403</td>\n",
       "      <td>1.0</td>\n",
       "      <td>3.00</td>\n",
       "      <td>3.0</td>\n",
       "      <td>4.00</td>\n",
       "      <td>18.0</td>\n",
       "    </tr>\n",
       "    <tr>\n",
       "      <th>numGenre</th>\n",
       "      <td>3572.0</td>\n",
       "      <td>1.460246</td>\n",
       "      <td>0.801384</td>\n",
       "      <td>1.0</td>\n",
       "      <td>1.00</td>\n",
       "      <td>1.0</td>\n",
       "      <td>2.00</td>\n",
       "      <td>8.0</td>\n",
       "    </tr>\n",
       "  </tbody>\n",
       "</table>\n",
       "</div>"
      ],
      "text/plain": [
       "               count         mean          std     min      25%     50%  \\\n",
       "_id           4908.0  2453.500000  1416.961891     0.0  1226.75  2453.5   \n",
       "movieYear     4908.0  1995.308680    14.112328  1970.0  1983.00  1995.0   \n",
       "count         4908.0     1.000000     0.000000     1.0     1.00     1.0   \n",
       "numDirectors  4083.0     1.005878     0.076452     1.0     1.00     1.0   \n",
       "numCast       4540.0     3.482819     1.717403     1.0     3.00     3.0   \n",
       "numGenre      3572.0     1.460246     0.801384     1.0     1.00     1.0   \n",
       "\n",
       "                  75%     max  \n",
       "_id           3680.25  4907.0  \n",
       "movieYear     2008.00  2018.0  \n",
       "count            1.00     1.0  \n",
       "numDirectors     1.00     2.0  \n",
       "numCast          4.00    18.0  \n",
       "numGenre         2.00     8.0  "
      ]
     },
     "execution_count": 128,
     "metadata": {},
     "output_type": "execute_result"
    }
   ],
   "source": [
    "describeBollywood = bollywoodDF.describe().transpose()\n",
    "describeBollywood"
   ]
  },
  {
   "cell_type": "code",
   "execution_count": 135,
   "metadata": {},
   "outputs": [
    {
     "data": {
      "text/plain": [
       "_id              0.000000\n",
       "movieYear        0.000000\n",
       "count            0.000000\n",
       "numDirectors    16.809291\n",
       "numCast          7.497963\n",
       "numGenre        27.220864\n",
       "Name: count, dtype: float64"
      ]
     },
     "execution_count": 135,
     "metadata": {},
     "output_type": "execute_result"
    }
   ],
   "source": [
    "PercentMissing = 1 -describeBollywood['count']/4908\n",
    "PercentMissing * 100 "
   ]
  },
  {
   "cell_type": "markdown",
   "metadata": {},
   "source": [
    "Here, I've applied describe to the expanded bollywoodDF. I also transposed the results from describe and assigned them to a variable 'decribeBollywood'. This variable is also a dataframe which can be analyzed like any other dataframe.\n",
    "\n",
    "When 'describe' is used without any parameter settings, it automatically describes all of the 'numeric' variables in the dataframe. Focusing on the number of directors, cast members and genres, here are some of the patterns we can observe from the above statistics:\n",
    "\n",
    "<ul>\n",
    "    <li><i>Number of Directors per movie</i>: It's clear that the overwhelming majority of films have one director. The mean number of directors is 1.0 with a standard deviation close to 0 and the first, second and third quartiles are all 1.0. While 16% of the movies were missing the name(s) of the director(s), it's not likely the pattern would have varied much if the percent were lower.</li>\n",
    "    <li><i>Number of Cast members per movie</i>: On the average the number of reported cast members per movie was around 3.0-3.5 although there was a fair bit of variability. More specifically, the mean number was 3.5 with a standard deviation of 1.7, while the 1st and 2nd quartiles were 3.0 and the 3rd quartile was 4.0. Additionally, the max number of cast members in a movie was 18. What this indicates is that the reported list of cast members in the original listings is focused on the primary leads or stars of the movie. As those with Bollywood movies know, the total cast tend to be very large. Given that 7% of the movies had not data on cast members, there's a good chance the variability would have been larger if there had been fewer missing numbers.</li>\n",
    "    <li><i>Number of Genres per movie</i>: The average number of genres used to characterize a movie is somewhere between 1 and 2. Again, the mean was close to 1.5 with a standard deviation of .8, while the lst and 2nd quartiles where 1.0 and the 3rd quartile was 2.0. The max was 8 -- which is pretty useless from a consumer's standpoint. Given that close to 30% of the movies had no genres assigned, there is again a good chance that the genre patterns might have changed with this additional information.</li>\n",
    "</ul>\n",
    "This info is a bit dry. More interesting patterns start to arise when we look at changes in these counts overtime and drill into the specific values -- that is, which directors, cast members and genres dominate the Bollywood landscape and how have these names and labels changed overtime.   "
   ]
  },
  {
   "cell_type": "code",
   "execution_count": 7,
   "metadata": {},
   "outputs": [
    {
     "data": {
      "text/plain": [
       "Index(['_id', 'movieID', 'movieTitle', 'movieYear', 'movieLink',\n",
       "       'movieDirector', 'movieCast', 'movieGenre', 'count', 'movieDecade'],\n",
       "      dtype='object')"
      ]
     },
     "execution_count": 7,
     "metadata": {},
     "output_type": "execute_result"
    }
   ],
   "source": [
    "years = bollywoodDF['movieYear']\n",
    "    \n",
    "decades = []\n",
    "for each in years:\n",
    "    decade = int(np.floor(each / 10) * 10)\n",
    "    decades.append(decade)\n",
    "se = pd.Series(decades)\n",
    "\n",
    "bollyWoodDF['movieDecade'] = se.values\n",
    "\n",
    "bollyWoodDF.columns[0:]"
   ]
  },
  {
   "cell_type": "code",
   "execution_count": 8,
   "metadata": {},
   "outputs": [
    {
     "name": "stdout",
     "output_type": "stream",
     "text": [
      "\n",
      "groupby for the 'movieDecade' column:\n",
      "my_groupby_array = bollyWoodDF.groupby('movieDecade')['movieDecade'].count()\n"
     ]
    },
    {
     "data": {
      "text/plain": [
       "pandas.core.series.Series"
      ]
     },
     "execution_count": 8,
     "metadata": {},
     "output_type": "execute_result"
    },
    {
     "data": {
      "text/plain": [
       "Int64Index([1970, 1980, 1990, 2000, 2010], dtype='int64', name='movieDecade')"
      ]
     },
     "execution_count": 8,
     "metadata": {},
     "output_type": "execute_result"
    },
    {
     "name": "stdout",
     "output_type": "stream",
     "text": [
      "\n",
      "Results for Series\n"
     ]
    },
    {
     "data": {
      "text/plain": [
       "movieDecade\n",
       "1970     809\n",
       "1980    1046\n",
       "1990     953\n",
       "2000    1039\n",
       "2010    1061\n",
       "Name: movieDecade, dtype: int64"
      ]
     },
     "execution_count": 8,
     "metadata": {},
     "output_type": "execute_result"
    }
   ],
   "source": [
    "print(\"\")\n",
    "print(\"groupby for the 'movieDecade' column:\")\n",
    "print(\"my_groupby_array = bollyWoodDF.groupby('movieDecade')['movieDecade'].count()\")\n",
    "my_groupby_array = bollyWoodDF.groupby('movieDecade')['movieDecade'].count()\n",
    "type(my_groupby_array)\n",
    "my_groupby_array.index\n",
    "print(\"\")\n",
    "print(\"Results for Series\")\n",
    "my_groupby_array"
   ]
  },
  {
   "cell_type": "code",
   "execution_count": 9,
   "metadata": {},
   "outputs": [],
   "source": [
    "# Five Year Periods"
   ]
  },
  {
   "cell_type": "code",
   "execution_count": 10,
   "metadata": {},
   "outputs": [
    {
     "data": {
      "text/plain": [
       "Index(['_id', 'movieID', 'movieTitle', 'movieYear', 'movieLink',\n",
       "       'movieDirector', 'movieCast', 'movieGenre', 'count', 'movieDecade',\n",
       "       'movieYears5'],\n",
       "      dtype='object')"
      ]
     },
     "execution_count": 10,
     "metadata": {},
     "output_type": "execute_result"
    }
   ],
   "source": [
    "years = bollyWoodDF['movieYear']\n",
    "    \n",
    "Years5 = []\n",
    "for each in years:\n",
    "    Year5 = int(np.floor(each / 5) * 5)\n",
    "    Years5.append(Year5)\n",
    "se = pd.Series(Years5)\n",
    "\n",
    "bollyWoodDF['movieYears5'] = se.values\n",
    "\n",
    "bollyWoodDF.columns[0:]"
   ]
  },
  {
   "cell_type": "code",
   "execution_count": 11,
   "metadata": {},
   "outputs": [
    {
     "name": "stdout",
     "output_type": "stream",
     "text": [
      "\n",
      "groupby for the 'movieYears5' column:\n",
      "my_groupby_array = bollyWoodDF.groupby('movieYears5')['movieYears5'].count()\n"
     ]
    },
    {
     "data": {
      "text/plain": [
       "pandas.core.series.Series"
      ]
     },
     "execution_count": 11,
     "metadata": {},
     "output_type": "execute_result"
    },
    {
     "data": {
      "text/plain": [
       "Int64Index([1970, 1975, 1980, 1985, 1990, 1995, 2000, 2005, 2010, 2015], dtype='int64', name='movieYears5')"
      ]
     },
     "execution_count": 11,
     "metadata": {},
     "output_type": "execute_result"
    },
    {
     "name": "stdout",
     "output_type": "stream",
     "text": [
      "\n",
      "Results for Series\n"
     ]
    },
    {
     "data": {
      "text/plain": [
       "movieYears5\n",
       "1970    412\n",
       "1975    397\n",
       "1980    574\n",
       "1985    472\n",
       "1990    524\n",
       "1995    429\n",
       "2000    523\n",
       "2005    516\n",
       "2010    586\n",
       "2015    475\n",
       "Name: movieYears5, dtype: int64"
      ]
     },
     "execution_count": 11,
     "metadata": {},
     "output_type": "execute_result"
    }
   ],
   "source": [
    "print(\"\")\n",
    "print(\"groupby for the 'movieYears5' column:\")\n",
    "print(\"my_groupby_array = bollyWoodDF.groupby('movieYears5')['movieYears5'].count()\")\n",
    "my_groupby_array = bollyWoodDF.groupby('movieYears5')['movieYears5'].count()\n",
    "type(my_groupby_array)\n",
    "my_groupby_array.index\n",
    "print(\"\")\n",
    "print(\"Results for Series\")\n",
    "my_groupby_array"
   ]
  },
  {
   "cell_type": "code",
   "execution_count": 12,
   "metadata": {},
   "outputs": [
    {
     "data": {
      "text/plain": [
       "(10,)"
      ]
     },
     "execution_count": 12,
     "metadata": {},
     "output_type": "execute_result"
    }
   ],
   "source": [
    "my_groupby_array.shape"
   ]
  },
  {
   "cell_type": "code",
   "execution_count": 13,
   "metadata": {},
   "outputs": [
    {
     "data": {
      "text/plain": [
       "movieYears5\n",
       "1970    412\n",
       "1975    397\n",
       "1980    574\n",
       "1985    472\n",
       "1990    524\n",
       "1995    429\n",
       "2000    523\n",
       "2005    516\n",
       "2010    586\n",
       "2015    475\n",
       "Name: movieYears5, dtype: int64"
      ]
     },
     "execution_count": 13,
     "metadata": {},
     "output_type": "execute_result"
    }
   ],
   "source": [
    "my_groupby_array"
   ]
  },
  {
   "cell_type": "code",
   "execution_count": 15,
   "metadata": {},
   "outputs": [
    {
     "data": {
      "text/plain": [
       "<matplotlib.axes._subplots.AxesSubplot at 0x18518ebb780>"
      ]
     },
     "execution_count": 15,
     "metadata": {},
     "output_type": "execute_result"
    },
    {
     "data": {
      "image/png": "[encoded data removed]",
      "text/plain": [
       "<Figure size 432x288 with 1 Axes>"
      ]
     },
     "metadata": {
      "needs_background": "light"
     },
     "output_type": "display_data"
    }
   ],
   "source": [
    "import matplotlib.pyplot as plt\n",
    "my_groupby_array.plot.bar(color=\"blue\")\n",
    "plt.show()"
   ]
  },
  {
   "cell_type": "markdown",
   "metadata": {},
   "source": [
    "In the bollyWoodDF the movieDictor, movieCast and movieGenre columns all permit multiple entries.  When multiple entries appear the individual entries are separated by pipes '|'. In order to analyze these columns we need to convert the dataframe into a Python dictionary. Once that's done we can analyze the fields in the dictionary in a variety of ways."
   ]
  },
  {
   "cell_type": "code",
   "execution_count": 21,
   "metadata": {},
   "outputs": [
    {
     "name": "stdout",
     "output_type": "stream",
     "text": [
      "2 ['Joy Mukherjee', 'Madan Puri']\n",
      "3 ['Asha Parekh', 'Rajesh Khanna', 'Vinod Khanna']\n",
      "2 ['Bindu', 'Padmini']\n",
      "3 ['Shashi Kapoor', 'Hema Malini', 'Deb Mukherjee']\n",
      "2 ['Sanjeev Kumar', 'Tanuja']\n",
      "1 ['Helen']\n",
      "4 ['Sunil Dutt', 'Asha Parekh', 'Mumtaz', 'Pran']\n",
      "2 ['Shashi Kapoor', 'Jennifer Kendal']\n",
      "2 ['Shatrughan Sinha', 'Anil Dhawan']\n",
      "1 ['Madan Puri']\n"
     ]
    }
   ],
   "source": [
    "for i in range(0,10):\n",
    "    castStr = bollyWoodDF.loc[i,'movieCast']\n",
    "    castList = castStr.split('|')\n",
    "    print(len(castList), castList)"
   ]
  },
  {
   "cell_type": "code",
   "execution_count": null,
   "metadata": {},
   "outputs": [],
   "source": []
  }
 ],
 "metadata": {
  "CodeCell": {
   "cm_config": {
    "lineWrapping": true
   }
  },
  "MarkdownCell": {
   "cm_config": {
    "lineWrapping": true
   }
  },
  "kernelspec": {
   "display_name": "Python 3",
   "language": "python",
   "name": "python3"
  },
  "language_info": {
   "codemirror_mode": {
    "name": "ipython",
    "version": 3
   },
   "file_extension": ".py",
   "mimetype": "text/x-python",
   "name": "python",
   "nbconvert_exporter": "python",
   "pygments_lexer": "ipython3",
   "version": "3.6.6"
  }
 },
 "nbformat": 4,
 "nbformat_minor": 2
}
