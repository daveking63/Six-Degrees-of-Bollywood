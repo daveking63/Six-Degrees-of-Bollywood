{
 "cells": [
  {
   "cell_type": "markdown",
   "metadata": {},
   "source": [
    "<h2>SNA of Bollywood Films - Phase 1: The Dataset and Statistical Overview</h2>\n",
    "\n",
    "Think of 6 Degrees of Kevin Bacon -- only this time, it's a social network analysis (SNA) of the actors and directors of Bollywood films of the last 50 years from 1970-2018 (the 'modern era'). This project is a reincarnation and expansion of an earlier project that was part of a tutorial and workshop on social network analysis (SNA) that I conducted at HICSS-47 (2014). That tutorial looked at social networks in Bollywood movies for all the Bollywood films from 2008-2013. The slides from that earlier tutorial are provided here for reference. This current rendition expands the sample from 6 years of films to the 49 years of films from 1970 to 2018.\n",
    "\n",
    "\\[note: from this point forward will either refer to the 49 years as ~50 years or 1970 to the present.\\]\n",
    "\n",
    "The genesis of my initial work, as well as this expansion, is found not only in the simple games, applications, and research revolving around the \"Six Degrees of Kevin Bacon\" (based on Hollywood films), but also the larger body of SNA including the concepts of degrees of separation, clustering, and small world networks:\n",
    "\n",
    "<ul>\n",
    "<li><a href=\"https://en.wikipedia.org/wiki/Six_Degrees_of_Kevin_Bacon\">Six Degrees of Kevin Bacon</a></li>\n",
    "<li><a href=\"https://oracleofbacon.org/center.php\">The Center of the Hollywood Universe</a></li>\n",
    "<li><a href=\"https://en.wikipedia.org/wiki/Small-world_network\">Small-world Networks</a></li>\n",
    "</ul>\n",
    "\n",
    "The project involves three intertwined phases. The first phase focuses on the creation of the data set on which the SNA analysis is based along with a statistical overview of the data set including an analysis of the survival rates of directors, actors and genre. The second phase is devoted to a SNA of this dataset -- looking primarily at who works with whom and who the key players are from a SNA perspective. Finally, the third phase combines this data with another data set based on 'Hindi Film Families' in order to look at the participation and influence of these families in Bollywood films. The analysis in all 3 phases is housed in 3 separate Jupyter iPython notebooks.\n",
    "\n",
    "<ol>\n",
    "    <li>SNA of Bollywood Films - Phase 1: The Dataset and Statistical Overview</li>\n",
    "    <li>SNA of Bollywood Films - Phase 2: Participation and Influence of Directors and Actors</li>\n",
    "    <li>SNA of Bollywood Films - Phase 3: The Role of Film Families in Bollywood</li>\n",
    "</ol>\n",
    "\n",
    "<h3><a class=\"anchor\" id=\"toc\">Table of Contents</a></h3>\n",
    "\n",
    "1. <a href='#intro'>Introduction</a><br>\n",
    "2. <a href='#dataset'>Constructing the Data Set</a><br>\n",
    "3. <a href='#dataframe'>Transforming the Excel Data Set into a Dataframe</a><br>\n",
    "   <a href='#df_structure'>General Structure of the BollywoodDF Dataframe</a><br>\n",
    "   <a href='#df_contents'>General Cell contents of the BollywoodDF Dataframe</a><br>\n",
    "4. <a href='#stat_overview'>Statistical Overview</a><br>\n",
    "   <a href='#num_movies_year'>Number of Movies by Year</a><br>\n",
    "   <a href='#num_dirs_cast_genre_year'>Number of Directors, Cast and Genre per Year</a><br>\n",
    "   --   <a href='#using_findall'>Using Findall to Analyze Director, Cast and Genre Counts</a><br>\n",
    "   --   <a href='#describe'>Describing Director, Cast and Genre Counts</a><br>\n",
    "   <a href='#longitudinal'>Longitudinal Analysis of the Number of Directosr, Cast Members and Genre</a><br>\n",
    "   <a href='#most_active_dirs_cast_genre'>Most Active Directors, Headline Cast Members, and Genre</a><br>\n",
    "   --   <a href='#dictionary'>Creating a Python Dictionary from Bollywood Dataframe</a><br>\n",
    "   --   <a href='#analyze_individual'>Analyzing Individual Directors, Cast Members and Genre Counts: Python Counters</a><br>\n",
    "   --   <a href='#skewed_distribution'>Skewed Distributions for Ranked Listings of Directors, Cast Members and Genre\n",
    " </a><br>\n",
    "   --   <a href='#dictionary_longitudinal_individuals'>Creating a Dictionary for Longitudinal Analysis of Individual Entity Counts and Rankings</a><br>\n",
    " <a href='#individual_entities'>Patterns of Interest in Individual Directors, Cast Members and Genre</a><br>\n",
    "   --   <a href='#view_top'>View from the Top: How Many Movies and How Many Years?</a><br>\n",
    "   --   <a href='#top_directors'>Analysis of 'Top' Individual Directors</a><br>\n",
    "   --   <a href='#top_cast'>Analysis of 'Top' Individual Starring Cast Members</a><br>\n",
    "   --   <a href='#top_genre'>Analysis of 'Top' Individual Genre</a><br>\n",
    "5. <a href='#lifespan'>Analyzing the 'Lifespan' of Directors, Cast Members, and Genre</a><br>\n",
    "   --   <a href='#data_setup'>Setting up the Data for Estimating Survival Rates</a><br>\n",
    "   --   <a href='#estimating_analyzing'>Estimating and Analyzing the Survival Functions and Probabilities for Directors, Starring Cast, and Genre</a><br>\n",
    "   --   <a href='#fitting_directors'>Lifespan of Directors: Fitting and Estimation</a><br>\n",
    "   --   <a href='#discussing_directors'>Lifespan of Directors: Results and Discussion of Fitting and Estimation</a><br>\n",
    "   --   <a href='#fitting_cast'>Lifespan of Starring Cast: Fitting and Estimation</a><br>\n",
    "   --   <a href='#discussing_cast'>Lifespan of Starring Cast: Results and Discussion of Fitting and Estimation</a><br>\n",
    "   --   <a href='#fitting_genre'>Lifespan of Genre: Fitting and Estimation</a><br>\n",
    "   --   <a href='#discussing_genre'>Lifespan of Genre: Results and Discussion of Fitting and Estimation</a><br>\n",
    "6. <a href='#closing'>Closing Comments and Next Phase</a><br></a><br>"
   ]
  },
  {
   "cell_type": "code",
   "execution_count": 1,
   "metadata": {},
   "outputs": [],
   "source": [
    "from IPython.core.interactiveshell import InteractiveShell\n",
    "InteractiveShell.ast_node_interactivity = \"all\""
   ]
  },
  {
   "cell_type": "code",
   "execution_count": 2,
   "metadata": {},
   "outputs": [
    {
     "data": {
      "application/javascript": [
       "IPython.OutputArea.prototype._should_scroll = function(lines) {\n",
       "    return false;\n",
       "}\n"
      ],
      "text/plain": [
       "<IPython.core.display.Javascript object>"
      ]
     },
     "metadata": {},
     "output_type": "display_data"
    }
   ],
   "source": [
    "%%javascript\n",
    "IPython.OutputArea.prototype._should_scroll = function(lines) {\n",
    "    return false;\n",
    "}"
   ]
  },
  {
   "cell_type": "markdown",
   "metadata": {},
   "source": [
    "<a id='dataset'></a>"
   ]
  },
  {
   "cell_type": "markdown",
   "metadata": {},
   "source": [
    "<h3>Constructing the Data Set</h3>\n",
    "<a href='#toc'>Return to TOC</a>\n",
    "\n",
    "The foundation for the data set comes from a wikipedia page indexing the <a href=\"https://en.wikipedia.org/wiki/Lists_of_Bollywood_films\">Lists of Bollywood Films</a> for the years from 1940 to 2018. For the moment, I'm leaving the earlier years from 1940-1969 for future analysis, primarily because it is extremely labor intensive working with the wide variety of data formats, missing data, and errors found in even smaller subsets of the films in these lists. \\[Note: the IMDB data sets provide info about Bollywood films and actors, but it is not as comprehensive as the lists provided in Wikipedia.]\n",
    "\n",
    "Each entry in the <i>Lists</i> designates a link to a wikipedia page devoted to the Bollywood films for a single year. The structure of all the links is simple (e.g. the link for 2018 is wikipedia.org/wiki/List_of_Bollywood_films_of_2018). This makes it straightforward to write a program to download each of the 50 pages in this sample, which is what I did -- see the Python (3.+) program in this repository labeled <a href='https://github.com/daveking63/Six-Degrees-of-Bollywood/blob/master/retrieveListofBollywoodFilmsbyYear.py'><i>retrieveListofBollywoodFilmsbyYear.py</i></a>. Once the pages were downloaded, they were each stored in a local (HTML) file for further analysis.\n",
    "\n",
    "Each of the downloaded webpages contains an HTML table of information about each of the films produced with in a given year. While the structure and content of the pages and tables varied from one decade, and often one year, to the next, all of the tables provided information about the following for each film:\n",
    "\n",
    "<ul>\n",
    "  <li>year of release</li>\n",
    "  <li>title</li>\n",
    "  <li>HTML link to a wikipedia page devoted to that title</li>\n",
    "  <li>director(s) (one or more)</li>\n",
    "  <li>cast (i.e. list of actors names in the film)</li>\n",
    "  <li>genre(s) (one or more tags denoting the type of movie, e.g. Romance, Drama, Comedy, etc.)</li>\n",
    "</ul>\n",
    "\n",
    "Again, a program -- <a href='https://github.com/daveking63/Six-Degrees-of-Bollywood/blob/master/bollySetUp-HTMLLists.py'><i>bollySetUp-HTMLLists.py</i></a> -- was used to extract the rows from each of the 50 tables and to create a single, consolidated table for all of the films from all of the years. A quick look at this Python 3 program will reveal that it employs a small set of functions based on Beautiful Soup package along with a number of simple text and regular expression \"re\" function calls. In the program, the title and it's associated page link are defined as strings, while the director, cast and genre variables are all Python lists because they contain 0 or more entries.  At the moment, the results are stored row-by-row in an Excel file whose name is <a href='https://github.com/daveking63/Six-Degrees-of-Bollywood/blob/master/bollywoodData.xlsx'><i>bollywoodData.xlsx</i></a>).\n",
    "\n",
    "\\[note: One of the problems with the current set is that there are a number of missing directors names for a series of years. There are a couple of ways to address this:\n",
    "<ul>\n",
    "<li>Wikipedia Links: Download all the wikipedia links/pages provided in the original Bollywood yearly lists. Although they aren't necessarily uniform from movie to movie, for many of them it may be straightforward to access the missing directors and casts.</li>\n",
    "<li>IMDB Database: The IMDB database has data on Indian movies of all languages. I haven't check yet, but much of the missing info may be included.</li>\n",
    "</ul>\n",
    "\n",
    "Regardless, I'll probably look into both of these possibilities sometime in the near future, assuming this analysis yields some interesting results.\\]"
   ]
  },
  {
   "cell_type": "markdown",
   "metadata": {},
   "source": [
    " <a id='dataframe'></a>"
   ]
  },
  {
   "cell_type": "markdown",
   "metadata": {},
   "source": [
    "<h3>Transforming the Excel data set into a Dataframe</h3>\n",
    "<a href='#toc'>Return to TOC</a>\n",
    "\n",
    "Given that the data is in an .xlsx file, one of the first steps in producing a statistical overview of the data is to read the file with the pandas 'read_excel' method or function which transforms the file into a pandas 'dataframe'.\n",
    "\n",
    "Note: While the file could have been read and transformed it into a variety of formats, the pandas dataframe was chosen primarily because of it's built-in analytical capabilities (for a summary of these, see <a href=\"https://github.com/daveking63/Jupyter-iPython-Notebooks\"> <i>Pandas Notes</i></a> - a Python notebook provided in one of my other repositories)."
   ]
  },
  {
   "cell_type": "code",
   "execution_count": 3,
   "metadata": {},
   "outputs": [
    {
     "name": "stdout",
     "output_type": "stream",
     "text": [
      "Type of bollywoodDF: <class 'pandas.core.frame.DataFrame'>\n"
     ]
    }
   ],
   "source": [
    "import numpy as np\n",
    "import pandas as pd\n",
    "import matplotlib as plt\n",
    "\n",
    "# read bollywoodData.xlsx transforming it to a pandas dataframe\n",
    "bollywoodPath = \"c:/Research/Bollywood/\"\n",
    "bollywoodXLFile = bollywoodPath + \"bollywoodData.xlsx\"\n",
    "bollywoodDF = pd.read_excel(bollywoodXLFile, sheet_name=\"bollywoodData\")\n",
    "print('Type of bollywoodDF:',type(bollywoodDF))\n"
   ]
  },
  {
   "cell_type": "markdown",
   "metadata": {},
   "source": [
    "<a id = 'df_structure'></a>"
   ]
  },
  {
   "cell_type": "markdown",
   "metadata": {},
   "source": [
    "<h4>General Structure of the BollywoodDF DataFrame</h4>\n",
    "<a href='#toc'>Return to TOC</a>\n",
    "\n",
    "It's easy to get a general sense of the dataframe's structure by making a few simple calls including - size, shape, column names and types, row index - and by viewing the contents of some of it's cells. "
   ]
  },
  {
   "cell_type": "code",
   "execution_count": 4,
   "metadata": {
    "scrolled": false
   },
   "outputs": [
    {
     "name": "stdout",
     "output_type": "stream",
     "text": [
      "1. Number of dimensions: bollywoodDF.ndim 2\n",
      "\n",
      "2. Number of elements in each dimension: bollywoodDF.shape (4908, 10)\n",
      "\n",
      "3. Range of row numbers: bollywoodDF.index:\n",
      "\n",
      "RangeIndex(start=0, stop=4908, step=1)\n",
      "\n",
      "4. Names of columns: bollywoodDF.columns:\n",
      "\n",
      "Index(['_id', 'movieID', 'movieTitle', 'movieYear', 'movie5Year', 'movieLink',\n",
      "       'movieDirector', 'movieCast', 'movieGenre', 'count'],\n",
      "      dtype='object')\n",
      "\n",
      "5. Size -- number of elements (rows x columns): bollywoodDF.size 49080\n",
      "\n",
      "6. Info about row index and column names and types and : bollywoodDF.info()\n",
      "\n",
      "<class 'pandas.core.frame.DataFrame'>\n",
      "RangeIndex: 4908 entries, 0 to 4907\n",
      "Data columns (total 10 columns):\n",
      "_id              4908 non-null int64\n",
      "movieID          4908 non-null object\n",
      "movieTitle       4908 non-null object\n",
      "movieYear        4908 non-null int64\n",
      "movie5Year       4908 non-null int64\n",
      "movieLink        4154 non-null object\n",
      "movieDirector    4126 non-null object\n",
      "movieCast        4540 non-null object\n",
      "movieGenre       3572 non-null object\n",
      "count            4908 non-null int64\n",
      "dtypes: int64(4), object(6)\n",
      "memory usage: 383.5+ KB\n",
      "None\n"
     ]
    }
   ],
   "source": [
    "# Dimensional Structure\n",
    "\n",
    "print(\"1. Number of dimensions: bollywoodDF.ndim\", bollywoodDF.ndim)\n",
    "print()\n",
    "print(\"2. Number of elements in each dimension: bollywoodDF.shape\", bollywoodDF.shape)\n",
    "print(\"\")\n",
    "print(\"3. Range of row numbers: bollywoodDF.index:\")\n",
    "print(\"\")\n",
    "print(bollywoodDF.index)\n",
    "print(\"\")\n",
    "print(\"4. Names of columns: bollywoodDF.columns:\")\n",
    "print(\"\")\n",
    "print(bollywoodDF.columns)\n",
    "print(\"\")\n",
    "print(\"5. Size -- number of elements (rows x columns): bollywoodDF.size\", bollywoodDF.size)\n",
    "print(\"\")\n",
    "print(\"6. Info about row index and column names and types and : bollywoodDF.info()\")\n",
    "print(\"\")\n",
    "print(bollywoodDF.info())"
   ]
  },
  {
   "cell_type": "markdown",
   "metadata": {},
   "source": [
    "Based on this information, it's clear that it's a two dimensional dataframe (rows x columns). There are 4908 rows and 9 columns in the dataframe.  The row index indicates that they are numbered from 0 to 4907. The 9 column names were taken from the header row in the Excel table and include:\n",
    "\n",
    "    _id, movieID, movieTitle, movieYear, movieLink, \n",
    "    movieDirector, movieCast, movieGenre, and count\n",
    "    \n",
    "The combination of 4908 rows and 9 columns results in 44172 cells.\n",
    "\n",
    "In addition to the column names, the 'dataframe.info()' method or function also provides details about the column types. As shown, there were 3 columns containing integers and 6 columns containing 'objects' which were all 'strings'. The 'info' method also provides the number of non-null cells by column. So, for instance, while there are 4908 cells in each column, in the 'movieLink' column only 4154 of them have non-null values. The other 754 cells had 'null' or missing values.\n",
    "\n",
    "While the column names and types provide some hints about the contents of the cells in a particular column, the only way to really understand the contents is to look at a few rows in the dataframe.  This is easily done the 'head' and 'tail' methods.  The 'head' method displays rows at the top, while the 'tail' displays rows at the bottom.  By default 5 rows are displayed, but you can designate more or less. For instance head(10) would display 10 rows."
   ]
  },
  {
   "cell_type": "markdown",
   "metadata": {},
   "source": [
    "<a id = 'df_contents'></a>"
   ]
  },
  {
   "cell_type": "markdown",
   "metadata": {},
   "source": [
    "<h4>General Cell Contents of the BollywoodDF DataFrame</h4>\n",
    "<a href='#toc'>Return to TOC</a>"
   ]
  },
  {
   "cell_type": "code",
   "execution_count": 5,
   "metadata": {},
   "outputs": [
    {
     "name": "stdout",
     "output_type": "stream",
     "text": [
      "General Cell and Row Contents of bollywoodDF:\n",
      "\n",
      "First 5 rows of the dataframe: bollywoodDF.head()\n",
      "\n",
      "   _id movieID         movieTitle  movieYear  movie5Year  \\\n",
      "0    0  1970-0       Aag Aur Daag       1970        1970   \n",
      "1    1  1970-1     Aan Milo Sajna       1970        1970   \n",
      "2    2  1970-2  Aansoo Aur Muskan       1970        1970   \n",
      "3    3  1970-3          Abhinetri       1970        1970   \n",
      "4    4  1970-4            Bachpan       1970        1970   \n",
      "\n",
      "                 movieLink        movieDirector  \\\n",
      "0       /wiki/Aag_Aur_Daag            A. Salaam   \n",
      "1     /wiki/Aan_Milo_Sajna           Mukul Dutt   \n",
      "2  /wiki/Aansoo_Aur_Muskan          P. Madhavan   \n",
      "3          /wiki/Abhinetri     Subodh Mukherjee   \n",
      "4            /wiki/Bachpan  Kotayya Pratyagatma   \n",
      "\n",
      "                                 movieCast movieGenre  count  \n",
      "0                 Joy Mukherjee|Madan Puri     Action      1  \n",
      "1   Asha Parekh|Rajesh Khanna|Vinod Khanna      Drama      1  \n",
      "2                            Bindu|Padmini      Drama      1  \n",
      "3  Shashi Kapoor|Hema Malini|Deb Mukherjee      Drama      1  \n",
      "4                     Sanjeev Kumar|Tanuja      Drama      1  \n",
      "\n",
      "Last 5 rows of the dataframe: bollywoodDF.tail()\n",
      "\n",
      "       _id   movieID                            movieTitle  movieYear  \\\n",
      "4903  4903  2018-116                             Mangal Ho       2018   \n",
      "4904  4904  2018-117  The Accidental Prime Minister (film)       2018   \n",
      "4905  4905  2018-118                                Amavas       2018   \n",
      "4906  4906  2018-119                      Zero (2018 film)       2018   \n",
      "4907  4907  2018-120                                Simmba       2018   \n",
      "\n",
      "      movie5Year                                   movieLink  \\\n",
      "4903        2015                             /wiki/Mangal_Ho   \n",
      "4904        2015  /wiki/The_Accidental_Prime_Minister_(film)   \n",
      "4905        2015                                /wiki/Amavas   \n",
      "4906        2015                      /wiki/Zero_(2018_film)   \n",
      "4907        2015                                /wiki/Simmba   \n",
      "\n",
      "             movieDirector                                          movieCast  \\\n",
      "4903   Pritish Chakraborty  Pritish Chakraborty|Aanushka Ramesh|Sanjay Mis...   \n",
      "4904  Vijay Ratnakar Gutte                         Anupam Kher|Akshaye Khanna   \n",
      "4905  Vijay Ratnakar Gutte                         Anupam Kher|Akshaye Khanna   \n",
      "4906         Aanand L. Rai  Shah Rukh Khan|Katrina Kaif|Anushka Sharma|Tig...   \n",
      "4907          Rohit Shetty              Ranveer Singh|Sara Ali Khan|Sonu Sood   \n",
      "\n",
      "         movieGenre  count  \n",
      "4903   SciFi|Comedy      1  \n",
      "4904         Biopic      1  \n",
      "4905         Biopic      1  \n",
      "4906   Comedy|Drama      1  \n",
      "4907  Action|Comedy      1  \n"
     ]
    }
   ],
   "source": [
    "print(\"General Cell and Row Contents of bollywoodDF:\")\n",
    "print(\"\")\n",
    "print(\"First 5 rows of the dataframe: bollywoodDF.head()\")\n",
    "print(\"\")\n",
    "print(bollywoodDF.head())\n",
    "print(\"\")\n",
    "print(\"Last 5 rows of the dataframe: bollywoodDF.tail()\")\n",
    "print(\"\")\n",
    "print(bollywoodDF.tail())"
   ]
  },
  {
   "cell_type": "markdown",
   "metadata": {},
   "source": [
    "With one exception (missing values), the 'heads's and 'tail's methods provide a pretty good understanding of the types of data in the various columns and cells:\n",
    "\n",
    "<ol>\n",
    "    <li>_id -- this is a numerical 'id' used to indicate the ordered position of the row (i.e. movie) in the dataframe. Because it is unique, it can be used by other programs as a 'hashed' index. My choice of this particular label ('\\_id') was purposeful because this is the label that the 'document-database' MongoDB searches for when it tries to construct an index for a 'collection' of documents (see the notebook <a href=\"https://github.com/daveking63/Jupyter-iPython-Notebooks/blob/master/SemiStructuredData_PythonDicts_JSON_MongoDB_PyMongo.ipynb\">Working with Semi-Structured Data: Python Dictionaries, JSON, MongoDB and PyMongo</a> in another of my repositories).</li>\n",
    "    <li>movieID -- string indicating the position of the movie within a given year. Number starts at 0. For example, as shown the first movie (chronologically) in 1970 is 1970-0, the second 1970-1, etc.</li>\n",
    "    <li>movieTitle -- title of the movie.</li>\n",
    "    <li>movieYear -- number representing the year released.</li>\n",
    "    <li>movie5Year -- number represent a the \"lustrum\" (5 year period) in which the movieYear falls (e.g. 1970 is in the interval 1970-74, 1981 in the interval 1980-85, and 1999 in the interval 1995-99). This column or field is used later in the analysis.\n",
    "    <li>movieLink -- sting representing a link (usually) to wikipedia web page (complete link is prefaced by http://wikipedia/...).</li>\n",
    "    <li>movieDirector -- string containing list of director names separated by a pipe '|'.</li>\n",
    "    <li>movieCast -- string containing list of 'headline' cast member names separated by a pipe '|'. This list is usually only a small segment of the complete cast list. Creating a complete cast list would require downloading the associated 'movieLink' page and scraping the html for the complete list, something I'll leave for another day.</li>\n",
    "    <li>movieGenre -- string containing list of genre names separated by a pipe '|'. As Wikipedia notes, \"A film genre is a motion-picture category based  on similarities either in the narrative elements or in the emotional response to the film\".</li>\n",
    "    <li>count -- used programmatically as a quick way to compute total counts (often in other applications like Excel).</li>\n",
    "</ol>\n",
    "\n",
    "The pipe symbol '|', or some other unique symbol (e.g. double colons '::'), is often used to create a string representing a  concatenated list of entities. In this way, variables or fields whose values are lists of entities can be entered and stored in a table or spreadsheet (just like they were in the bollywoodData.xlsx spreadsheet). Of course, if a concatenated string of this sort is stored in a spreadsheet, then it wii have to be split programmatically before it can be used in virtually any kind of analysis. This is why, other formats and data structures (e.g. Python dictionaries) are preferable. However, for the time being we'll stick with the current dataframe and ignore the other options."
   ]
  },
  {
   "cell_type": "markdown",
   "metadata": {},
   "source": [
    "<a id='stat_overview'></a>"
   ]
  },
  {
   "cell_type": "markdown",
   "metadata": {},
   "source": [
    "<h3>Statistical Overview</h3>\n",
    "<a href='#toc'>Return to TOC</a>\n",
    "\n",
    "In it's current form (with the 'piped' strings) there's not much to summarize statistically, except the movie count by year."
   ]
  },
  {
   "cell_type": "markdown",
   "metadata": {},
   "source": [
    "<a id='num_movies_year'></a>"
   ]
  },
  {
   "cell_type": "markdown",
   "metadata": {},
   "source": [
    "<h4>Number of Movies by Year</h4>\n",
    "<a href='#toc'>Return to TOC</a>\n",
    "\n",
    "There are a variety of ways to determine how frequently particular values occur in a column. One straightforward method is pandas 'value_counts'. This is what is done with the 'movieYear' column. The results are sorted by year via the 'sort_index' method. Left unsorted, the order of the years can be unpredictable."
   ]
  },
  {
   "cell_type": "code",
   "execution_count": 6,
   "metadata": {},
   "outputs": [
    {
     "name": "stdout",
     "output_type": "stream",
     "text": [
      "total number of movies from 2017-2018: 4908\n",
      "mean number of movies per year - 1970-2018: 100.0\n",
      "mean number of movies per year - 1970-2004: 95.0\n",
      "mean number of movies per year - 2005-2018: 113.0\n",
      "\n",
      "Top 5 counts of movies by Year\n"
     ]
    },
    {
     "data": {
      "text/plain": [
       "1970    69\n",
       "1971    85\n",
       "1972    95\n",
       "1973    74\n",
       "1974    89\n",
       "Name: movieYear, dtype: int64"
      ]
     },
     "execution_count": 6,
     "metadata": {},
     "output_type": "execute_result"
    },
    {
     "name": "stdout",
     "output_type": "stream",
     "text": [
      "\n",
      "Bottom 5  counts of movies by Year\n"
     ]
    },
    {
     "data": {
      "text/plain": [
       "2014    141\n",
       "2015    113\n",
       "2016    121\n",
       "2017    120\n",
       "2018    121\n",
       "Name: movieYear, dtype: int64"
      ]
     },
     "execution_count": 6,
     "metadata": {},
     "output_type": "execute_result"
    },
    {
     "name": "stdout",
     "output_type": "stream",
     "text": [
      "\n",
      "Statistical description of movieYear counts:\n"
     ]
    },
    {
     "data": {
      "text/plain": [
       "count     49.000000\n",
       "mean     100.163265\n",
       "std       21.734522\n",
       "min       39.000000\n",
       "25%       85.000000\n",
       "50%      102.000000\n",
       "75%      116.000000\n",
       "max      141.000000\n",
       "Name: movieYear, dtype: float64"
      ]
     },
     "execution_count": 6,
     "metadata": {},
     "output_type": "execute_result"
    },
    {
     "name": "stdout",
     "output_type": "stream",
     "text": [
      "\n"
     ]
    },
    {
     "data": {
      "text/plain": [
       "<matplotlib.axes._subplots.AxesSubplot at 0x1df43a9ae10>"
      ]
     },
     "execution_count": 6,
     "metadata": {},
     "output_type": "execute_result"
    }
   ],
   "source": [
    "numberOfMoviesByYear = bollywoodDF.movieYear.value_counts().sort_index()\n",
    "\n",
    "totMovies = numberOfMoviesByYear.sum()\n",
    "print(\"total number of movies from 2017-2018:\", totMovies)\n",
    "print(\"mean number of movies per year - 1970-2018:\", round(numberOfMoviesByYear.mean(),0))\n",
    "print(\"mean number of movies per year - 1970-2004:\", round(numberOfMoviesByYear[0:35].mean(),0))\n",
    "print(\"mean number of movies per year - 2005-2018:\", round(numberOfMoviesByYear[35:49].mean(),0))\n",
    "print(\"\")\n",
    "print(\"Top 5 counts of movies by Year\")\n",
    "numberOfMoviesByYear.head(5)\n",
    "print(\"\")\n",
    "print(\"Bottom 5  counts of movies by Year\")\n",
    "numberOfMoviesByYear.tail(5)\n",
    "print(\"\")\n",
    "print(\"Statistical description of movieYear counts:\")\n",
    "numberOfMoviesByYear.describe()\n",
    "print(\"\")\n",
    "numberOfMoviesByYear.plot(kind='line', title='Number of Movies by Year:')"
   ]
  },
  {
   "cell_type": "markdown",
   "metadata": {},
   "source": [
    "Looking at the 'line' plot of the counts, it's obvious that over the time period from 1970 to the present there's been substantial variability in the number of movies released per year. The mean number of releases for the ~50 year period was 100 movies per year with a standard deviation around 22 movies per year. The number of releases was at its lowest (39 movies) in 1986 and its highest (141 movies) in 2014. Within this variability, at least 3 patterns are discernible: (1) the number appears to seesaw back and forth every year or so; (2) there's an inflection point somewhere between 1995 and 2005; and (3) from 2005 to the present the mean number of movies released per year has increased, going from 95 movies per year before 2005 to 112 movies after 2005). Both the bottom point in the mid-80s to late-80s and the inflection point in the latter part of the 90s and early 2000s are well documented in various historial accounts of Bollywood:\n",
    "\n",
    ">In the late 1980s, Hindi cinema experienced another period of stagnation, with a decline in box office turnout, due to increasing violence, decline in musical melodic quality, and rise in video piracy, leading to middle-class family audiences abandoning theaters...\n",
    "\n",
    ">The 2000s saw a growth in Bollywood's recognition across the world due to a growing and prospering NRI and Desi communities overseas. A fast growth in the Indian economy and a demand for quality entertainment in this era, led the nation's film-making to new heights in terms of production values, cinematography and innovative story lines as well as technical advances in areas such as special effects and animation."
   ]
  },
  {
   "cell_type": "markdown",
   "metadata": {},
   "source": [
    "<a id='num_dirs_cast_genre_year'></a>"
   ]
  },
  {
   "cell_type": "markdown",
   "metadata": {},
   "source": [
    "<h4>Number of Directors, Cast and Genre per Year</h4>\n",
    "<a href='#toc'>Return to TOC</a>\n",
    "\n",
    "In order to summarize the trends in the number of directors, starring cast members, and genre by year or any other factor, the 'piped' strings need to be either converted into a count or into individual elements that can be counted. If all we want to do is count the number of individual elements in the string, then we could use something like the 'findall' method found in the regular expressions ('re') library. Take, for instance, the cast represented by the string 'Parekh|Rajesh Khanna|Vinod Khanna'. If the 're.findall' method is applied to the string (see below), it will indicate that there are 2 'pipe' symbols in the string, implying that there are 3 cast members. If, however, the individual elements are needed for further analysis, then the string can be 'split' into a list of individual elements and saved for later use. The length of the list will provied the associated count. Both methods -- finall and split -- are demonstrated below."
   ]
  },
  {
   "cell_type": "code",
   "execution_count": 7,
   "metadata": {
    "scrolled": false
   },
   "outputs": [
    {
     "name": "stdout",
     "output_type": "stream",
     "text": [
      "Using 're.findall' to count cast members:\n",
      "\n",
      "Original string: Joy Mukherjee|Madan Puri  -- number in cast: 2\n",
      "Original string: Asha Parekh|Rajesh Khanna|Vinod Khanna  -- number in cast: 3\n",
      "Original string: Bindu|Padmini  -- number in cast: 2\n",
      "\n",
      "Using '.split' to create cast list:\n",
      "\n",
      "Split into castList: ['Joy Mukherjee', 'Madan Puri']  -- number in cast: 2\n",
      "Split into castList: ['Asha Parekh', 'Rajesh Khanna', 'Vinod Khanna']  -- number in cast: 3\n",
      "Split into castList: ['Bindu', 'Padmini']  -- number in cast: 2\n"
     ]
    }
   ],
   "source": [
    "import re\n",
    "\n",
    "print(\"Using 're.findall' to count cast members:\")\n",
    "print(\"\")\n",
    "for i in range(3):\n",
    "    castStr = bollywoodDF.loc[i,'movieCast']\n",
    "    castCnt = len(re.findall(r\"\\|\",castStr)) + 1\n",
    "    print(\"Original string:\", castStr, \" -- number in cast:\", castCnt)\n",
    "print(\"\")\n",
    "\n",
    "print(\"Using '.split' to create cast list:\")\n",
    "print(\"\")\n",
    "for i in range(3):\n",
    "    cast = bollywoodDF.loc[i,'movieCast']\n",
    "    castList = cast.split('|')\n",
    "    castCnt = len(castList)\n",
    "    print(\"Split into castList:\", castList,\" -- number in cast:\", castCnt)"
   ]
  },
  {
   "cell_type": "markdown",
   "metadata": {},
   "source": [
    "<a id='using_findall'></a>"
   ]
  },
  {
   "cell_type": "markdown",
   "metadata": {},
   "source": [
    "<h5>Using Findall to Analyze Director, Cast and Genre Counts</h5>\n",
    "<a href='#toc'>Return to TOC</a>\n",
    "\n",
    "For the time being, let's use the 'findall' method to calculate the number (count) of movieDirectors, movieCast, and movieGenre for each film. Once calculated, they'll be added to the bollywoodDF dataframe. However, before this is don, the notion of 'missing values' needs some attention. In the original spreadsheet, missing values were denoted by 'NA.' When the spreadsheet was transformed into a 'pandas dataframe', these missing values were converted to 'nan' (a special 'float' value) used in the pandas package to denote 'missing'. When a 'split' or 'find' method is applied to a float, as opposed to a string, an error occurs. The moral of the story is, before applying 'split' or 'findall' to a cell value, check to see if it's a float. If it's not, then go ahead. If it is, set it to missing and proceed. This is what's done below."
   ]
  },
  {
   "cell_type": "code",
   "execution_count": 8,
   "metadata": {},
   "outputs": [
    {
     "name": "stdout",
     "output_type": "stream",
     "text": [
      "Expanded dataframe rows and columns: (4908, 13)\n",
      "\n",
      "Expanded column names:\n",
      "\n",
      "Index(['_id', 'movieID', 'movieTitle', 'movieYear', 'movie5Year', 'movieLink',\n",
      "       'movieDirector', 'movieCast', 'movieGenre', 'count', 'numDirectors',\n",
      "       'numCast', 'numGenre'],\n",
      "      dtype='object')\n",
      "\n",
      "Missing count and types:\n",
      "\n",
      "<class 'pandas.core.frame.DataFrame'>\n",
      "RangeIndex: 4908 entries, 0 to 4907\n",
      "Data columns (total 13 columns):\n",
      "_id              4908 non-null int64\n",
      "movieID          4908 non-null object\n",
      "movieTitle       4908 non-null object\n",
      "movieYear        4908 non-null int64\n",
      "movie5Year       4908 non-null int64\n",
      "movieLink        4154 non-null object\n",
      "movieDirector    4126 non-null object\n",
      "movieCast        4540 non-null object\n",
      "movieGenre       3572 non-null object\n",
      "count            4908 non-null int64\n",
      "numDirectors     4126 non-null float64\n",
      "numCast          4540 non-null float64\n",
      "numGenre         3572 non-null float64\n",
      "dtypes: float64(3), int64(4), object(6)\n",
      "memory usage: 498.5+ KB\n"
     ]
    }
   ],
   "source": [
    "# Finding number of entities in a concatenated strings\n",
    "# joined by pipe '|' symbol for fields in dataframe.\n",
    "# For each movie and column of focus, append the number\n",
    "# to a list\n",
    "\n",
    "\n",
    "def countEntitiesInString(entDF,entCol):\n",
    "    start = 0\n",
    "    end = entDF.shape[0]\n",
    "    entList = []\n",
    "    for i in range(start, end):\n",
    "        entity = bollywoodDF.loc[i,entCol]\n",
    "        if type(entity) != float:\n",
    "            entityCnt = len(re.findall(r\"\\|\",entity)) + 1\n",
    "        else:\n",
    "            entityCnt = entity\n",
    "        entList.append(entityCnt)\n",
    "    numSeries = pd.Series(entList)\n",
    "    return numSeries\n",
    "\n",
    "directors = countEntitiesInString(bollywoodDF,'movieDirector')\n",
    "bollywoodDF['numDirectors'] = directors.values\n",
    "directors = countEntitiesInString(bollywoodDF,'movieCast')\n",
    "bollywoodDF['numCast'] = directors.values\n",
    "directors = countEntitiesInString(bollywoodDF,'movieGenre')\n",
    "bollywoodDF['numGenre'] = directors.values\n",
    "\n",
    "print('Expanded dataframe rows and columns:', bollywoodDF.shape)\n",
    "print(\"\")\n",
    "print(\"Expanded column names:\")\n",
    "print(\"\")\n",
    "print(bollywoodDF.columns)\n",
    "print(\"\")\n",
    "print(\"Missing count and types:\")\n",
    "print(\"\")\n",
    "bollywoodDF.info()"
   ]
  },
  {
   "cell_type": "markdown",
   "metadata": {},
   "source": [
    "<a id='describe'></a>"
   ]
  },
  {
   "cell_type": "markdown",
   "metadata": {},
   "source": [
    "<h5>Describing Director, Cast and Genre Counts</h5>\n",
    "<a href='#toc'>Return to TOC</a>\n",
    "\n",
    "With the count columns in hand, the 'describe' method can be used to statistically summarize these numerical columns. By default, this method actually produces a dataframe whose columns are the numerical columns in the dataframe being analyzed and whose rows are the statistics (including mean, std, min, the first three quartiles of the distribution, and the max). Since it's the columns that are of major interest and not the rows, the columns and rows have been transposed. Additionally, this new dataframe has been assigned to a variable called 'describeBollywood'. In this way, it can be used in further analyses (which is what is done below in calculating the number and % of missing values)."
   ]
  },
  {
   "cell_type": "code",
   "execution_count": 9,
   "metadata": {
    "scrolled": true
   },
   "outputs": [
    {
     "data": {
      "text/html": [
       "<div>\n",
       "<style scoped>\n",
       "    .dataframe tbody tr th:only-of-type {\n",
       "        vertical-align: middle;\n",
       "    }\n",
       "\n",
       "    .dataframe tbody tr th {\n",
       "        vertical-align: top;\n",
       "    }\n",
       "\n",
       "    .dataframe thead th {\n",
       "        text-align: right;\n",
       "    }\n",
       "</style>\n",
       "<table border=\"1\" class=\"dataframe\">\n",
       "  <thead>\n",
       "    <tr style=\"text-align: right;\">\n",
       "      <th></th>\n",
       "      <th>count</th>\n",
       "      <th>mean</th>\n",
       "      <th>std</th>\n",
       "      <th>min</th>\n",
       "      <th>25%</th>\n",
       "      <th>50%</th>\n",
       "      <th>75%</th>\n",
       "      <th>max</th>\n",
       "      <th>Missing</th>\n",
       "      <th>%Missing</th>\n",
       "    </tr>\n",
       "  </thead>\n",
       "  <tbody>\n",
       "    <tr>\n",
       "      <th>numDirectors</th>\n",
       "      <td>4126.0</td>\n",
       "      <td>1.006302</td>\n",
       "      <td>0.079141</td>\n",
       "      <td>1.0</td>\n",
       "      <td>1.0</td>\n",
       "      <td>1.0</td>\n",
       "      <td>1.0</td>\n",
       "      <td>2.0</td>\n",
       "      <td>782.0</td>\n",
       "      <td>15.93</td>\n",
       "    </tr>\n",
       "    <tr>\n",
       "      <th>numCast</th>\n",
       "      <td>4540.0</td>\n",
       "      <td>3.482819</td>\n",
       "      <td>1.717403</td>\n",
       "      <td>1.0</td>\n",
       "      <td>3.0</td>\n",
       "      <td>3.0</td>\n",
       "      <td>4.0</td>\n",
       "      <td>18.0</td>\n",
       "      <td>368.0</td>\n",
       "      <td>7.50</td>\n",
       "    </tr>\n",
       "    <tr>\n",
       "      <th>numGenre</th>\n",
       "      <td>3572.0</td>\n",
       "      <td>1.460246</td>\n",
       "      <td>0.801384</td>\n",
       "      <td>1.0</td>\n",
       "      <td>1.0</td>\n",
       "      <td>1.0</td>\n",
       "      <td>2.0</td>\n",
       "      <td>8.0</td>\n",
       "      <td>1336.0</td>\n",
       "      <td>27.22</td>\n",
       "    </tr>\n",
       "  </tbody>\n",
       "</table>\n",
       "</div>"
      ],
      "text/plain": [
       "               count      mean       std  min  25%  50%  75%   max  Missing  \\\n",
       "numDirectors  4126.0  1.006302  0.079141  1.0  1.0  1.0  1.0   2.0    782.0   \n",
       "numCast       4540.0  3.482819  1.717403  1.0  3.0  3.0  4.0  18.0    368.0   \n",
       "numGenre      3572.0  1.460246  0.801384  1.0  1.0  1.0  2.0   8.0   1336.0   \n",
       "\n",
       "              %Missing  \n",
       "numDirectors     15.93  \n",
       "numCast           7.50  \n",
       "numGenre         27.22  "
      ]
     },
     "execution_count": 9,
     "metadata": {},
     "output_type": "execute_result"
    }
   ],
   "source": [
    "# totMovies was calculated earlier - can be found in a variety of ways\n",
    "# since it is the total number of rows in the bollywoodDF\n",
    "\n",
    "describeBollywood = bollywoodDF[['numDirectors','numCast','numGenre']]\n",
    "describeBollywood = describeBollywood.describe().transpose()\n",
    "describeBollywood['Missing'] = totMovies - describeBollywood['count']\n",
    "describeBollywood['%Missing'] = round(describeBollywood['Missing']/totMovies * 100,2)\n",
    "describeBollywood"
   ]
  },
  {
   "cell_type": "markdown",
   "metadata": {},
   "source": [
    "Focusing on the number of directors, cast members and genre, here are some observable patterns in the above statistics: \n",
    "\n",
    "<ul>\n",
    "    <li><i>Number of Directors per movie</i>: The vast majority of films (worldwide) have one director. That's also the case in this sample where the mean and all the quartiles are all 1.0. The oddity is a film with two directors of which there were 24 out 4083 films (or 0.6%, a number produced by the formula bollywoodDF['numDirectors'].value_counts()). In this case it's unlikely that this pattern would have changed, even if there were no missing values.</li>\n",
    "    <li><i>Number of Cast members per movie</i>: On the 'average' the number of reported 'starring' cast members per movie was around 3.0-3.5, although there was a fair bit of variability. More specifically, the mean number was 3.5 with a standard deviation of 1.7, while the 1st and 2nd quartiles(the median) were 3.0 and the 3rd quartile was 4.0. Additionally, the max number of cast members in a movie was 18. Given that 7% of the movies had no cast members listed, there's a chance that the variability would have been larger, if there had been fewer missing values.</li>\n",
    "    <li><i>Number of Genres per movie</i>: The average number of genres used to characterize a movie is somewhere between 1 and 2. Again, the mean was close to 1.5 with a standard deviation of .8, while the lst and 2nd quartiles where 1.0 and the 3rd quartile was 2.0. The max was 8 -- which is pretty useless from a consumer's standpoint. Given that approximately 30% of the movies had no genres assigned, there's a chance that the genre patterns might have changed with this additional information. Although, the chance is probably pretty since a handful of genre account for the overwhelming majority of thematic labels used to classify movies.</li>\n",
    "</ul>   "
   ]
  },
  {
   "cell_type": "markdown",
   "metadata": {},
   "source": [
    "<a id='longitudinal'></a>"
   ]
  },
  {
   "cell_type": "markdown",
   "metadata": {},
   "source": [
    "<h4>Longitudinal Analysis of the Number of Directors, Cast Members and Genre</h4>\n",
    "<a href='#toc'>Return to TOC</a>\n",
    "\n",
    "To get a sense of how the various counts of the number of directors, cast and genre have shifted since 1970 to the present, the numbers can be grouped by time. In this instance, the counts are first grouped by 'movieYear' and then for the 5 year time intervals captured in the column 'movie5Year'. This is basically the same thing that was done earlier to plot the number of movies by year, except that the plot was based on the 'value_count' method rather than the 'groupby' method.   \n",
    "\n",
    "The following need to be specified in order to group the results by a specific column:\n",
    "\n",
    "<ol>\n",
    "    <li>column to 'groupby' -- 'movieYear' or 'movie5Year'</li>\n",
    "    <li>columns of interest in a list - ['numDirectors','numCast','numGenre'] </li>\n",
    "    <li>statistic (method) to compute -- mean</li>\n",
    "</ol>\n",
    "\n",
    "After they're grouped, the columns of interest can be summarized and plotted by time period (year or 5 year)."
   ]
  },
  {
   "cell_type": "code",
   "execution_count": 10,
   "metadata": {},
   "outputs": [
    {
     "data": {
      "text/plain": [
       "<matplotlib.axes._subplots.AxesSubplot at 0x1df43375cf8>"
      ]
     },
     "execution_count": 10,
     "metadata": {},
     "output_type": "execute_result"
    },
    {
     "data": {
      "image/png": "[encoded data removed]",
      "text/plain": [
       "<Figure size 432x288 with 1 Axes>"
      ]
     },
     "metadata": {
      "needs_background": "light"
     },
     "output_type": "display_data"
    },
    {
     "data": {
      "text/plain": [
       "<matplotlib.axes._subplots.AxesSubplot at 0x1df4336d6d8>"
      ]
     },
     "execution_count": 10,
     "metadata": {},
     "output_type": "execute_result"
    },
    {
     "data": {
      "image/png": "[encoded data removed]",
      "text/plain": [
       "<Figure size 432x288 with 1 Axes>"
      ]
     },
     "metadata": {
      "needs_background": "light"
     },
     "output_type": "display_data"
    }
   ],
   "source": [
    "import matplotlib.pyplot as plt\n",
    "\n",
    "colList = ['numDirectors','numCast','numGenre']\n",
    "\n",
    "# computations and analysis for yearly counts\n",
    "\n",
    "grpByYr = 'movieYear'\n",
    "meanNumOverTime = bollywoodDF.groupby(grpByYr)[colList].mean()\n",
    "title1 = \"Mean Number of Directors, Cast, and Genre per Movie per Year\"\n",
    "meanNumOverTime.plot.line(title=title1)\n",
    "plt.show()\n",
    "\n",
    "# computations and analysis for 5 year intervals\n",
    "grpBy5Yr = 'movie5Year'\n",
    "meanNumOverTime5 = bollywoodDF.groupby(grpBy5Yr)[colList].mean()\n",
    "title2 = \"Mean Number of Directors, Cast, and Genre per Movie per 5 Year Interval\"\n",
    "meanNumOverTime5.plot.line(title=title2)\n"
   ]
  },
  {
   "cell_type": "markdown",
   "metadata": {},
   "source": [
    "When averaged over the years:\n",
    "<ol>\n",
    "    <li>Regardless of the time frame used for grouping, the mean number of directors per movie is 1. This is the case no matter which movie industry we're talking about and what time periods are aggregated. Hence, the 'flat' line at the bottom of the chart </li>\n",
    "    <li>While there has been substantial variability in the mean number of starring cast members per movie, the number has been systematically rising over time.</li>\n",
    "    <li>The mean number of genre used to describe a movie jumps around between 1 and 2 in a seemingly random fashion, although the number peaked in the mid-80s and has generally declined since then.</li> \n",
    "</ol>\n",
    "\n",
    "While these figures are mildly interesting, what's more intriguing is the lifespan and longitudinal patterns exhibited by the individual directors, cast members and genre and that underline these aggregate patterns. This is the analysis that follows."
   ]
  },
  {
   "cell_type": "markdown",
   "metadata": {},
   "source": [
    "<a id='most_active_dirs_cast_genre'></a>"
   ]
  },
  {
   "cell_type": "markdown",
   "metadata": {},
   "source": [
    "<h4>Most Active Directors, Headline Cast Members, and Genre</h4>\n",
    "<a href='#toc'>Return to TOC</a>\n",
    "\n",
    "To move to the next step in the analysis (and to support the SNA in Phases 2 and 3), the individual strings representing each of the individual entities first need to be deconstructed (i.e. in our terms 'split'). In order to save the names of the individual entities once they're split, a different data structure is needed.\n",
    "\n",
    "Having conducted a large number of similar analyses, the structure that comes immediately to mind is a Python dictionary. There are a variety of sources that explain the details behind Python dictionaries including a recent <a href=\"https://github.com/daveking63/Jupyter-iPython-Notebooks/blob/master/SemiStructuredData_PythonDicts_JSON_MongoDB_PyMongo.ipynb\">notebook I put together on using dictionaries for analyzing semi-structured data</a>."
   ]
  },
  {
   "cell_type": "markdown",
   "metadata": {},
   "source": [
    "<a id='dictionary'>"
   ]
  },
  {
   "cell_type": "markdown",
   "metadata": {},
   "source": [
    "<h5>Creating a Python Dictionary from the Bollywood Dataframe</h5>\n",
    "<a href='#toc'>Return to TOC</a>\n",
    "\n",
    "Succinctly put, a python <i>dictionary</i> (denoted 'dict') is  a 'mutable' collection of 'key:value' pairs where the pairs are separated by colons. Each 'key' is a pair is an immutable data type (integer, string or tuple) that is unique and each value is mutuable and can be of virtually any data type including another dictionary. The pairs within the collection are separated by commas and encased in 'curly' braces '{}'.\n",
    "\n",
    "In this case the dictionary will actually be a nested dictionary of dictionaries. Here, the initial dictionary will basically consist of a collection of (inner) dictionaries each representing one of the 4908 rows in the dataframe/table That is,\n",
    "\n",
    "    bollywoodDict = {\n",
    "                     rowID_0:{colName0:cellValue, colName1:cellValue, ..., colNameN},\n",
    "                     rowID_1:{colName0:cellValue, colName1:cellValue, ..., colNameN},\n",
    "                     ...\n",
    "                     rowID_m:{colName0:cellValue, colName1:cellValue, ..., colNameN}\n",
    "                     }\n",
    "\n",
    "\n",
    "For example, a dictionary entry representing the last row in our bollywoodDF dataframe might be:\n",
    "\n",
    "    {4907:{'_id':4907, 'movieID':'2018-120', 'movieTitle':'Simmba', 'movieYear':2018, 'movie5Year':2015,\n",
    "          'movieDirector': 'Rohit Shetty', 'movieCast':'Singh|Sara Ali Khan|Sonu Sood',\n",
    "          'movieGenre':'Action|Comedy', 'count':1, 'numDirectors':1, 'numCast':3, 'numGenre':2]}\n",
    "          \n",
    "It usually takes a bit of finagling to set up a dictionary. However, in this case, there is a built-in pandas' method called 'DataFrame.to_dict' which will convert the current dataframe to a dictionary."
   ]
  },
  {
   "cell_type": "code",
   "execution_count": 11,
   "metadata": {},
   "outputs": [
    {
     "name": "stdout",
     "output_type": "stream",
     "text": [
      "Sample values from first 4 rows of dictionary:\n",
      "\n",
      "0 {'_id': 0, 'movieID': '1970-0', 'movieTitle': 'Aag Aur Daag', 'movieYear': 1970, 'movie5Year': 1970, 'movieLink': '/wiki/Aag_Aur_Daag', 'movieDirector': 'A. Salaam', 'movieCast': 'Joy Mukherjee|Madan Puri', 'movieGenre': 'Action', 'count': 1, 'numDirectors': 1.0, 'numCast': 2.0, 'numGenre': 1.0}\n",
      "\n",
      "1 {'_id': 1, 'movieID': '1970-1', 'movieTitle': 'Aan Milo Sajna', 'movieYear': 1970, 'movie5Year': 1970, 'movieLink': '/wiki/Aan_Milo_Sajna', 'movieDirector': 'Mukul Dutt', 'movieCast': 'Asha Parekh|Rajesh Khanna|Vinod Khanna', 'movieGenre': 'Drama', 'count': 1, 'numDirectors': 1.0, 'numCast': 3.0, 'numGenre': 1.0}\n",
      "\n",
      "2 {'_id': 2, 'movieID': '1970-2', 'movieTitle': 'Aansoo Aur Muskan', 'movieYear': 1970, 'movie5Year': 1970, 'movieLink': '/wiki/Aansoo_Aur_Muskan', 'movieDirector': 'P. Madhavan', 'movieCast': 'Bindu|Padmini', 'movieGenre': 'Drama', 'count': 1, 'numDirectors': 1.0, 'numCast': 2.0, 'numGenre': 1.0}\n",
      "\n",
      "3 {'_id': 3, 'movieID': '1970-3', 'movieTitle': 'Abhinetri', 'movieYear': 1970, 'movie5Year': 1970, 'movieLink': '/wiki/Abhinetri', 'movieDirector': 'Subodh Mukherjee', 'movieCast': 'Shashi Kapoor|Hema Malini|Deb Mukherjee', 'movieGenre': 'Drama', 'count': 1, 'numDirectors': 1.0, 'numCast': 3.0, 'numGenre': 1.0}\n",
      "\n"
     ]
    }
   ],
   "source": [
    "# converting dataframe representation to a dictionary\n",
    "\n",
    "bollywoodDict = bollywoodDF.to_dict('index')\n",
    "cnt = 0\n",
    "\n",
    "print(\"Sample values from first 4 rows of dictionary:\")\n",
    "print(\"\")\n",
    "for ky, val in bollywoodDict.items():\n",
    "    if cnt < 4:\n",
    "        print(ky,val)\n",
    "        print(\"\")\n",
    "    cnt += 1"
   ]
  },
  {
   "cell_type": "markdown",
   "metadata": {},
   "source": [
    "Once this is done, it's simple enough to 'split' the concatenated strings (i.e. 'entity1|entity2|...') into lists of individual strings (i.e. \\['entity1','entity2',...\\] that can be stored in the dictionary. This is done below:"
   ]
  },
  {
   "cell_type": "code",
   "execution_count": 12,
   "metadata": {},
   "outputs": [
    {
     "name": "stdout",
     "output_type": "stream",
     "text": [
      "Sample values for first and last movies in bollywoodDict:\n",
      "\n",
      "{'_id': 4906, 'movieID': '2018-119', 'movieTitle': 'Zero (2018 film)', 'movieYear': 2018, 'movie5Year': 2015, 'movieLink': '/wiki/Zero_(2018_film)', 'movieDirector': 'Aanand L. Rai', 'movieCast': 'Shah Rukh Khan|Katrina Kaif|Anushka Sharma|Tigmanshu Dhulia', 'movieGenre': 'Comedy|Drama', 'count': 1, 'numDirectors': 1.0, 'numCast': 4.0, 'numGenre': 2.0, 'movieDirectorList': ['Aanand L. Rai'], 'movieCastList': ['Shah Rukh Khan', 'Katrina Kaif', 'Anushka Sharma', 'Tigmanshu Dhulia'], 'movieGenreList': ['Comedy', 'Drama']}\n",
      "\n",
      "{'_id': 4907, 'movieID': '2018-120', 'movieTitle': 'Simmba', 'movieYear': 2018, 'movie5Year': 2015, 'movieLink': '/wiki/Simmba', 'movieDirector': 'Rohit Shetty', 'movieCast': 'Ranveer Singh|Sara Ali Khan|Sonu Sood', 'movieGenre': 'Action|Comedy', 'count': 1, 'numDirectors': 1.0, 'numCast': 3.0, 'numGenre': 2.0, 'movieDirectorList': ['Rohit Shetty'], 'movieCastList': ['Ranveer Singh', 'Sara Ali Khan', 'Sonu Sood'], 'movieGenreList': ['Action', 'Comedy']}\n"
     ]
    }
   ],
   "source": [
    "# converting string representations to lists by splitting strings at the pipe symbol '|'\n",
    "\n",
    "def convertStringToList(movieDict, entityString):\n",
    "    listOfEntities = []\n",
    "    for ky in movieDict.keys():\n",
    "        entities = movieDict[ky][entityString]\n",
    "        if type(entities) != float:\n",
    "            entityList = entities.split('|')\n",
    "        else:\n",
    "            entityList = []\n",
    "        listOfEntities.append(entityList)\n",
    "    return listOfEntities    \n",
    " \n",
    "# normally I'd simply replace the values of the original keys.\n",
    "# But, just in case things get screwed up while I'm testing it out I'll keep\n",
    "# the original strings for backup. Also, it comes in handy sometimes\n",
    "# for writing the data to a tabular file\n",
    "\n",
    "directorLists = convertStringToList(bollywoodDict, 'movieDirector')\n",
    "castLists = convertStringToList(bollywoodDict, 'movieCast')\n",
    "genreLists = convertStringToList(bollywoodDict, 'movieGenre')\n",
    "\n",
    "for ky in bollywoodDict.keys():\n",
    "    bollywoodDict[ky]['movieDirectorList']= directorLists[ky]\n",
    "    bollywoodDict[ky]['movieCastList'] = castLists[ky]\n",
    "    bollywoodDict[ky]['movieGenreList'] = genreLists[ky]\n",
    "\n",
    "print(\"Sample values for first and last movies in bollywoodDict:\")\n",
    "print(\"\")\n",
    "print(bollywoodDict[4906])\n",
    "print(\"\")\n",
    "print(bollywoodDict[4907])     "
   ]
  },
  {
   "cell_type": "markdown",
   "metadata": {},
   "source": [
    "<a id='analyze_individual'></a>"
   ]
  },
  {
   "cell_type": "markdown",
   "metadata": {},
   "source": [
    "<h5>Analyzing Individual Directors, Cast Members and Genre Counts: Python Counters</h5>\n",
    "<a href='#toc'>Return to TOC</a>\n",
    "\n",
    "Now that we have the lists of directors, cast members and genre for each movie, we can use a Python 'counter' (part of the 'collections' class) to create a list of all individual directors, headline cast members, and assigned genre along with the frequency with which they appear.\n",
    "\n",
    "What each counter (designated as directorCnt, castMemCnt, and genreCnt) provides is a list of tuples of the form '\\[('e1',c1),('e2',c2),...,('eN',cN)\\]' where 'e' is a string representing a director name, cast member name, or genre label and 'c' is a number representing the frequency with which the name or label appears. For directors and cast members these lists are long, 1867 and 3336 respectively. For genre the list is short (107). Because the first two lists are too long to enumerate on 'paper' I decided to simply list the top 25 for each followed by a bar chart for each of the top 25 lists. A list of the top N along with their associated counts can be generated by the counter method '.most_common(N)'. In this case it would be '.most_common(25)'."
   ]
  },
  {
   "cell_type": "code",
   "execution_count": 13,
   "metadata": {},
   "outputs": [
    {
     "name": "stdout",
     "output_type": "stream",
     "text": [
      "Number of unique movie director names for all films from 1970-2018: 1867\n",
      "\n",
      "Top 25 Directors who directed most movies from 1970-2018\n",
      "[('Mahesh Bhatt', 38), ('David Dhawan', 35), ('Priyadarshan', 27), ('Vikram Bhatt', 26), ('Ram Gopal Varma', 24), ('Hrishikesh Mukherjee', 23), ('K. Bapaiah', 22), ('Shyam Benegal', 20), ('Shibu Mitra', 19), ('Prakash Mehra', 18), ('Basu Chatterjee', 18), ('Harmesh Malhotra', 18), ('B.R. Ishara', 17), ('Manmohan Desai', 17), ('Subhash Ghai', 17), ('Shakti Samanta', 16), ('Dev Anand', 16), ('T. Rama Rao', 16), ('Prakash Jha', 16), ('Raj Kanwar', 16), ('Ravikant Nagaich', 15), ('Yash Chopra', 15), ('Umesh Mehra', 15), ('Deepak Bahry', 14), ('Ketan Mehta', 14)]\n",
      "\n",
      "Number of unique headline cast members for all films from 1970-2018: 3336\n",
      "\n",
      "Top 25 Starring Cast Members who acted in the most movies from 1970-2018\n",
      "[('Mithun Chakraborty', 174), ('Pran', 171), ('Amitabh Bachchan', 156), ('Dharmendra', 150), ('Jeetendra', 134), ('Jackie Shroff', 128), ('Rekha', 125), ('Sanjay Dutt', 125), ('Anupam Kher', 118), ('Rishi Kapoor', 117), ('Govinda', 113), ('Akshay Kumar', 113), ('Hema Malini', 107), ('Rajesh Khanna', 105), ('Shatrughan Sinha', 100), ('Vinod Khanna', 99), ('Raj Babbar', 98), ('Anil Kapoor', 96), ('Naseeruddin Shah', 91), ('Shashi Kapoor', 90), ('Sunil Shetty', 87), ('Shabana Azmi', 85), ('Salman Khan', 85), ('Sanjeev Kumar', 81), ('Paresh Rawal', 80)]\n",
      "\n",
      "Number of unique genre for all films from 1970-2018: 107\n",
      "\n",
      "Top 25 Genre that were applied to the most movies from 1970-2018\n",
      "[('Drama', 1498), ('Romance', 781), ('Action', 756), ('Comedy', 643), ('Thriller', 376), ('Crime', 224), ('Family', 200), ('Musical', 101), ('Horror', 100), ('Social', 88), ('Romantic', 49), ('Fantasy', 37), ('Adventure', 33), ('Adult', 29), ('Mystery', 25), ('Animation', 17), ('War', 17), ('Suspense', 15), ('Biopic', 15), ('Historical', 14), ('Erotic', 13), ('Sports', 13), ('Political', 10), ('Children', 8), ('Psychological', 7)]\n",
      "\n"
     ]
    }
   ],
   "source": [
    "import collections as cl\n",
    "\n",
    "def createEntityCnt(movieDict,entityListName):   \n",
    "    entityCnt = cl.Counter()\n",
    "    for ky in movieDict.keys():\n",
    "        for eName in movieDict[ky][entityListName]:\n",
    "            if type(eName) != float:\n",
    "                entityCnt[eName] += 1\n",
    "    return entityCnt\n",
    "\n",
    "# 'Counters' of director, cast member and genre counts\n",
    "# from createEntityCnt function.\n",
    "\n",
    "directorCnt = createEntityCnt(bollywoodDict,'movieDirectorList')\n",
    "castMemCnt = createEntityCnt(bollywoodDict,'movieCastList')\n",
    "genreCnt = createEntityCnt(bollywoodDict,'movieGenreList')\n",
    "\n",
    "# Top 25 entities generated # from each Counter by applyiing\n",
    "# '.most_common(N)' method to the Counters.\n",
    "\n",
    "top25Directors = directorCnt.most_common(25)\n",
    "top25CastMembers = castMemCnt.most_common(25)\n",
    "top25Genre = genreCnt.most_common(25)\n",
    "\n",
    "# Top 25 listings for each entity type\n",
    "\n",
    "print('Number of unique movie director names for all films from 1970-2018:', len(directorCnt))\n",
    "print(\"\")\n",
    "print('Top 25 Directors who directed most movies from 1970-2018')\n",
    "top25Directors = directorCnt.most_common(25)\n",
    "print(top25Directors)\n",
    "print(\"\")\n",
    "\n",
    "print('Number of unique headline cast members for all films from 1970-2018:', len(castMemCnt))\n",
    "print(\"\")\n",
    "print('Top 25 Starring Cast Members who acted in the most movies from 1970-2018')\n",
    "top25CastMembers = castMemCnt.most_common(25)\n",
    "print(top25CastMembers)\n",
    "print(\"\")\n",
    "\n",
    "print('Number of unique genre for all films from 1970-2018:', len(genreCnt))\n",
    "print(\"\")\n",
    "print('Top 25 Genre that were applied to the most movies from 1970-2018')\n",
    "top25Genre = genreCnt.most_common(25)\n",
    "print(top25Genre)\n",
    "print(\"\")"
   ]
  },
  {
   "cell_type": "markdown",
   "metadata": {},
   "source": [
    "In their current state, each of the the Counters obviously consists of a set of tuples that are in descending order by frequency of occurrence. Before the data can be plotted these list of tuples need to be converted into vectors or a dataframe (of vectors). The following code does this for each of the Counters (top25Directors, top25CastMembers, and top25Gengre). First, the list of tuples for Counter is converted into two lists (e.g. topDirectors into dirNames and numDirMovies). Then, the 6 lists created by the conversion are are all combined into a dataframe called 'movieCntsDF'."
   ]
  },
  {
   "cell_type": "code",
   "execution_count": 14,
   "metadata": {
    "scrolled": true
   },
   "outputs": [
    {
     "name": "stdout",
     "output_type": "stream",
     "text": [
      "Structure of and sample rows from dataframe movieCntsDF:\n"
     ]
    },
    {
     "data": {
      "text/plain": [
       "(25, 6)"
      ]
     },
     "execution_count": 14,
     "metadata": {},
     "output_type": "execute_result"
    },
    {
     "data": {
      "text/html": [
       "<div>\n",
       "<style scoped>\n",
       "    .dataframe tbody tr th:only-of-type {\n",
       "        vertical-align: middle;\n",
       "    }\n",
       "\n",
       "    .dataframe tbody tr th {\n",
       "        vertical-align: top;\n",
       "    }\n",
       "\n",
       "    .dataframe thead th {\n",
       "        text-align: right;\n",
       "    }\n",
       "</style>\n",
       "<table border=\"1\" class=\"dataframe\">\n",
       "  <thead>\n",
       "    <tr style=\"text-align: right;\">\n",
       "      <th></th>\n",
       "      <th>dirNames</th>\n",
       "      <th>numDirMovies</th>\n",
       "      <th>castNames</th>\n",
       "      <th>numCastMovies</th>\n",
       "      <th>genre</th>\n",
       "      <th>numGenreMovies</th>\n",
       "    </tr>\n",
       "  </thead>\n",
       "  <tbody>\n",
       "    <tr>\n",
       "      <th>0</th>\n",
       "      <td>Mahesh Bhatt</td>\n",
       "      <td>38</td>\n",
       "      <td>Mithun Chakraborty</td>\n",
       "      <td>174</td>\n",
       "      <td>Drama</td>\n",
       "      <td>1498</td>\n",
       "    </tr>\n",
       "    <tr>\n",
       "      <th>1</th>\n",
       "      <td>David Dhawan</td>\n",
       "      <td>35</td>\n",
       "      <td>Pran</td>\n",
       "      <td>171</td>\n",
       "      <td>Romance</td>\n",
       "      <td>781</td>\n",
       "    </tr>\n",
       "    <tr>\n",
       "      <th>2</th>\n",
       "      <td>Priyadarshan</td>\n",
       "      <td>27</td>\n",
       "      <td>Amitabh Bachchan</td>\n",
       "      <td>156</td>\n",
       "      <td>Action</td>\n",
       "      <td>756</td>\n",
       "    </tr>\n",
       "  </tbody>\n",
       "</table>\n",
       "</div>"
      ],
      "text/plain": [
       "       dirNames  numDirMovies           castNames  numCastMovies    genre  \\\n",
       "0  Mahesh Bhatt            38  Mithun Chakraborty            174    Drama   \n",
       "1  David Dhawan            35                Pran            171  Romance   \n",
       "2  Priyadarshan            27    Amitabh Bachchan            156   Action   \n",
       "\n",
       "   numGenreMovies  \n",
       "0            1498  \n",
       "1             781  \n",
       "2             756  "
      ]
     },
     "execution_count": 14,
     "metadata": {},
     "output_type": "execute_result"
    },
    {
     "data": {
      "text/html": [
       "<div>\n",
       "<style scoped>\n",
       "    .dataframe tbody tr th:only-of-type {\n",
       "        vertical-align: middle;\n",
       "    }\n",
       "\n",
       "    .dataframe tbody tr th {\n",
       "        vertical-align: top;\n",
       "    }\n",
       "\n",
       "    .dataframe thead th {\n",
       "        text-align: right;\n",
       "    }\n",
       "</style>\n",
       "<table border=\"1\" class=\"dataframe\">\n",
       "  <thead>\n",
       "    <tr style=\"text-align: right;\">\n",
       "      <th></th>\n",
       "      <th>dirNames</th>\n",
       "      <th>numDirMovies</th>\n",
       "      <th>castNames</th>\n",
       "      <th>numCastMovies</th>\n",
       "      <th>genre</th>\n",
       "      <th>numGenreMovies</th>\n",
       "    </tr>\n",
       "  </thead>\n",
       "  <tbody>\n",
       "    <tr>\n",
       "      <th>22</th>\n",
       "      <td>Umesh Mehra</td>\n",
       "      <td>15</td>\n",
       "      <td>Salman Khan</td>\n",
       "      <td>85</td>\n",
       "      <td>Political</td>\n",
       "      <td>10</td>\n",
       "    </tr>\n",
       "    <tr>\n",
       "      <th>23</th>\n",
       "      <td>Deepak Bahry</td>\n",
       "      <td>14</td>\n",
       "      <td>Sanjeev Kumar</td>\n",
       "      <td>81</td>\n",
       "      <td>Children</td>\n",
       "      <td>8</td>\n",
       "    </tr>\n",
       "    <tr>\n",
       "      <th>24</th>\n",
       "      <td>Ketan Mehta</td>\n",
       "      <td>14</td>\n",
       "      <td>Paresh Rawal</td>\n",
       "      <td>80</td>\n",
       "      <td>Psychological</td>\n",
       "      <td>7</td>\n",
       "    </tr>\n",
       "  </tbody>\n",
       "</table>\n",
       "</div>"
      ],
      "text/plain": [
       "        dirNames  numDirMovies      castNames  numCastMovies          genre  \\\n",
       "22   Umesh Mehra            15    Salman Khan             85      Political   \n",
       "23  Deepak Bahry            14  Sanjeev Kumar             81       Children   \n",
       "24   Ketan Mehta            14   Paresh Rawal             80  Psychological   \n",
       "\n",
       "    numGenreMovies  \n",
       "22              10  \n",
       "23               8  \n",
       "24               7  "
      ]
     },
     "execution_count": 14,
     "metadata": {},
     "output_type": "execute_result"
    }
   ],
   "source": [
    "# Convert each Counter into a pair of lists [names] & [counts]\n",
    "\n",
    "dirNames = []\n",
    "numDirMovies = []\n",
    "for dir in top25Directors:\n",
    "    dirNames.append(dir[0])\n",
    "    numDirMovies.append(dir[1])\n",
    "\n",
    "castNames = []\n",
    "numCastMovies = []\n",
    "for cast in top25CastMembers:\n",
    "    castNames.append(cast[0])\n",
    "    numCastMovies.append(cast[1])\n",
    "\n",
    "genre = []    \n",
    "numGenreMovies = []\n",
    "for gen in top25Genre:\n",
    "    genre.append(gen[0])\n",
    "    numGenreMovies.append(gen[1])\n",
    "    \n",
    "# 6 lists are combined into a dataframe\n",
    "    \n",
    "mLists = [dirNames, numDirMovies, castNames, numCastMovies, genre, numGenreMovies]\n",
    "movieCntsDF = pd.concat([pd.Series(x) for x in mLists], axis=1)\n",
    "movieCntsDF.columns = ['dirNames','numDirMovies','castNames','numCastMovies','genre','numGenreMovies']\n",
    "\n",
    "print('Structure of and sample rows from dataframe movieCntsDF:')\n",
    "movieCntsDF.shape\n",
    "movieCntsDF.head(3)\n",
    "movieCntsDF.tail(3)"
   ]
  },
  {
   "cell_type": "markdown",
   "metadata": {},
   "source": [
    "Once this is done the appropriate columns can be feed to a dataframe plotting function that produces bar charts based on each pair of name and count columns."
   ]
  },
  {
   "cell_type": "code",
   "execution_count": 15,
   "metadata": {},
   "outputs": [
    {
     "data": {
      "text/plain": [
       "<matplotlib.axes._subplots.AxesSubplot at 0x1df432cae48>"
      ]
     },
     "execution_count": 15,
     "metadata": {},
     "output_type": "execute_result"
    },
    {
     "data": {
      "text/plain": [
       "<matplotlib.axes._subplots.AxesSubplot at 0x1df453d8470>"
      ]
     },
     "execution_count": 15,
     "metadata": {},
     "output_type": "execute_result"
    },
    {
     "data": {
      "text/plain": [
       "<matplotlib.axes._subplots.AxesSubplot at 0x1df45458860>"
      ]
     },
     "execution_count": 15,
     "metadata": {},
     "output_type": "execute_result"
    },
    {
     "data": {
      "image/png": "[encoded data removed]",
      "text/plain": [
       "<Figure size 432x288 with 1 Axes>"
      ]
     },
     "metadata": {
      "needs_background": "light"
     },
     "output_type": "display_data"
    },
    {
     "data": {
      "image/png": "[encoded data removed]",
      "text/plain": [
       "<Figure size 432x288 with 1 Axes>"
      ]
     },
     "metadata": {
      "needs_background": "light"
     },
     "output_type": "display_data"
    },
    {
     "data": {
      "image/png": "[encoded data removed]",
      "text/plain": [
       "<Figure size 432x288 with 1 Axes>"
      ]
     },
     "metadata": {
      "needs_background": "light"
     },
     "output_type": "display_data"
    }
   ],
   "source": [
    "movieCntsDF.plot(kind='bar', x='dirNames', y='numDirMovies', color='blue', title='Top25 Directors by Number of Movies')\n",
    "movieCntsDF.plot(kind='bar', x='castNames', y='numCastMovies', color='green', title='Top25 Cast by Number of Movies')\n",
    "movieCntsDF.plot(kind='bar', x='genre', y='numGenreMovies', color='orange', title='Top25 Genre by Number of Movies')"
   ]
  },
  {
   "cell_type": "markdown",
   "metadata": {},
   "source": [
    "<a id='skewed_distribution'></a>"
   ]
  },
  {
   "cell_type": "markdown",
   "metadata": {},
   "source": [
    "<h5>Skewed Distributions for Ranked Listings of Directors, Cast Members and Genre</h5>\n",
    "<a href='#toc'>Return to TOC</a>\n",
    "\n",
    "The distribution of all these ranked listings is clearly skewed, a pattern easily seen from the bar plots.\n",
    "\n",
    "For directors, the individual who directed the most movies was Mahesh Bhatt with 38.  He was followed quite closely by David Dhawan with 35.  The director in tenth position was Shibu Mitra with 19 movies, half of Bhatt's number. In comparison, this doesn't seem like that many movies.\n",
    "\n",
    "For directors and starring cast members, part of the skewed distribution may be accounted for by the differences in age and career longevity among the various directors and starring cast members. Older directors and starring cast members have usually been around longer (in the industry) and, as a consequence, have had a greater opportunity than their counterparts to be involved in more movies. While this may account for some of the differences, as we'll see shortly, it doesn't completely explain the differences because even the top directors and starring cast members all seem to have a (single) peak in their careers which tapers off as time passes.\n",
    "\n",
    "The same is not necessarily true for 'genre'.  Over the years, there have been 107 unique genre labels used (either alone or in combination) to describe the thematic content of Bollywood movies. While 107 is a fairly long list for a 'tag' collection, you can see from the above distribution that the top 5 labels -- drama, romance, action, comedy, thriller -- seem to dominate, accounting for ~80% of all the 5214 labels applied to the movies from 1970 to the present. The top 10 genre, account for ~90%. So, that leaves about 500 movies for the other 97 genre. In the grand scheme, most of these remaining genre are basically 'noise'."
   ]
  },
  {
   "cell_type": "markdown",
   "metadata": {},
   "source": [
    "<a id='dictionary_longitudinal_individuals'></a>"
   ]
  },
  {
   "cell_type": "markdown",
   "metadata": {},
   "source": [
    "<h5>Creating a Dictionary for Longitudinal Analysis of Individual Entity Counts and Rankings</h5>\n",
    "<a href='#toc'>Return to TOC</a>\n",
    "\n",
    "In order to view these individual counts and rankings from a longitudinal perspective, it's best to create a second dictionary, labeled 'years5Dict', to divide the counts and rankings into 5 year intervals. So, for instance, we'd divide the counts for 'Mahesh Bhatt' (the top ranked director) across the ten time intervals (1970-74, 1975-1979, ..., 2015-2019). In this way we can capture his career from a longitudinal perspective -- when did he start? when did he peak? when did his directorial career end? How long was his career? etc. It's the same sort of questions that can be applied to all the other directors, cast members, and to the genre labels. While individual views are interesting, en masse they provide a combined image of a typical career or typical genre usage.\n",
    "\n",
    "The end result of the grouping process is nested dictionary (year5Dict) whose outer keys are the time intervals (designated by the lower limits of the interval) and whose inner keys include:\n",
    "\n",
    "<ul>\n",
    "    <li>Lists for all the individual entity names or labels: dirlist, castList, and genreList.</li>\n",
    "    <li>Counters (tuples) for all the individual entity counts: directorCnt, castMemCnt, and genreCnt.</li>\n",
    "    <li>Counters (tuples) for the 25 most frequent individual entities of each type: dirMostCommon25, castMostCommon25, and genreMostCommon25. The</li>\n",
    "</ul>"
   ]
  },
  {
   "cell_type": "code",
   "execution_count": 16,
   "metadata": {},
   "outputs": [
    {
     "name": "stdout",
     "output_type": "stream",
     "text": [
      "***year5Dict keys:\n"
     ]
    },
    {
     "data": {
      "text/plain": [
       "dict_keys([1970, 1975, 1980, 1985, 1990, 1995, 2000, 2005, 2010, 2015])"
      ]
     },
     "execution_count": 16,
     "metadata": {},
     "output_type": "execute_result"
    },
    {
     "name": "stdout",
     "output_type": "stream",
     "text": [
      "\n",
      "***names of fields for each 5 year interval:\n"
     ]
    },
    {
     "data": {
      "text/plain": [
       "dict_keys(['dirList', 'castList', 'genreList', 'movieCnt', 'directorCnt', 'dirMostCommon25', 'castMemCnt', 'castMostCommon25', 'genreCnt', 'genreMostCommon10'])"
      ]
     },
     "execution_count": 16,
     "metadata": {},
     "output_type": "execute_result"
    },
    {
     "name": "stdout",
     "output_type": "stream",
     "text": [
      "\n",
      "***Sample field 'directorCnt' -- counts from sample of 10 out of 213 director in the list for 1970-74:\n",
      "note: converted to dictionary in order to restrict out - otherwise get the whole list\n",
      "\n",
      "[('A. Salaam', 1), ('Mukul Dutt', 3), ('P. Madhavan', 2), ('Subodh Mukherjee', 1), ('Kotayya Pratyagatma', 3), ('Babubhai Mistri', 2), ('Raja Nawathe', 2), ('James Ivory', 1), ('B.R. Ishara', 8), ('Mohammed Hussain', 4)]\n",
      "\n",
      "***Sample field 'dirMostCommon25' -- list of the 25 directors who have directed the most movies from 1970-74:\n",
      "\n",
      "[('B.R. Ishara', 8), ('Hrishikesh Mukherjee', 8), ('Shakti Samanta', 7), ('Adurthi Subba Rao', 6), ('Naresh Kumar', 6), ('A. Bhimsingh', 6), ('Manmohan Desai', 6), ('Chandrakant', 6), ('Prakash Mehra', 6), ('Ravikant Nagaich', 5), ('Satyen Bose', 5), ('Asit Sen', 5), ('K. Shankar', 5), ('Mohammed Hussain', 4), ('Ramanna', 4), ('Vijay Anand', 4), ('Rajendra Bhatia', 4), ('Dev Anand', 4), ('Bhappi Sonie', 4), ('Atma Ram', 4), ('Mohan Kumar', 4), ('S.M. Sagar', 4), ('Tapi Chanakya', 4), ('B. R. Ishara', 4), ('Narendra Bedi', 4)]\n"
     ]
    }
   ],
   "source": [
    "# Creating a new dictionary 'years5Dict' to hold all the 5 year interval lists and\n",
    "# counts for total movies, directors, headline cast members, and genre\n",
    "\n",
    "years5Dict = {}\n",
    "for ky in bollywoodDict.keys():\n",
    "    years5 = bollywoodDict[ky]['movie5Year']\n",
    "    # for each 5 year period initialize a dictionary\n",
    "    if years5 not in years5Dict.keys():\n",
    "        years5Dict[years5] = {}\n",
    "        years5Dict[years5]['dirList'] = []\n",
    "        years5Dict[years5]['castList'] = []\n",
    "        years5Dict[years5]['genreList'] = []\n",
    "    years5Dict[years5]['dirList'] = years5Dict[years5]['dirList'] + bollywoodDict[ky]['movieDirectorList']\n",
    "    years5Dict[years5]['castList'] = years5Dict[years5]['castList'] + bollywoodDict[ky]['movieCastList']      \n",
    "    years5Dict[years5]['genreList'] = years5Dict[years5]['genreList'] + bollywoodDict[ky]['movieGenreList']\n",
    "\n",
    "# create list of movie counts for 5 year interval -- uses bollywoodDF\n",
    "# note this is a bit of a cheat.  Could have done the same thing using\n",
    "# a separate collection counter on 'movie5Year' (although more involved)\n",
    "\n",
    "movieCnts5Years = bollywoodDF.groupby('movie5Year')['movie5Year'].count()\n",
    "\n",
    "# use collection counters -- cl.Counter() -- to count directors, cast members and genre for 5 year intervals\n",
    "\n",
    "def createCounter(yDict, entityList,entityCntStr,entityMCStr,numEntities):\n",
    "    tempDict = {}\n",
    "    for ky in yDict.keys(): tempDict[ky] = {}\n",
    "    for ky in yDict.keys():\n",
    "        entityCnt = cl.Counter()\n",
    "        for eName in yDict[ky][entityList]:\n",
    "            if type(eName) != float:\n",
    "                entityCnt[eName] += 1\n",
    "        tempDict[ky][entityCntStr] = entityCnt\n",
    "        tempDict[ky][entityMCStr] = entityCnt.most_common(numEntities)\n",
    "    return tempDict\n",
    "\n",
    "tempDirDict = createCounter(years5Dict, 'dirList', 'directorCnt', 'dirMostCommon25', 25 )\n",
    "tempCastDict = createCounter(years5Dict, 'castList', 'castMemCnt', 'castMostCommon25', 25 )\n",
    "tempGenreDict = createCounter(years5Dict, 'genreList', 'genreCnt', 'genreMostCommon10', 10 )\n",
    "\n",
    "for ky in years5Dict.keys():\n",
    "    years5Dict[ky]['movieCnt'] = movieCnts5Years[ky]\n",
    "    years5Dict[ky]['directorCnt'] = tempDirDict[ky]['directorCnt']\n",
    "    years5Dict[ky]['dirMostCommon25'] = tempDirDict[ky]['dirMostCommon25']\n",
    "    years5Dict[ky]['castMemCnt'] = tempCastDict[ky]['castMemCnt']\n",
    "    years5Dict[ky]['castMostCommon25'] = tempCastDict[ky]['castMostCommon25']\n",
    "    years5Dict[ky]['genreCnt'] = tempGenreDict[ky]['genreCnt']\n",
    "    years5Dict[ky]['genreMostCommon10'] = tempGenreDict[ky]['genreMostCommon10']\n",
    "\n",
    "print(\"***year5Dict keys:\")\n",
    "years5Dict.keys()\n",
    "print(\"\")\n",
    "print(\"***names of fields for each 5 year interval:\")\n",
    "years5Dict[1970].keys()\n",
    "print(\"\")\n",
    "print(\"***Sample field 'directorCnt' -- counts from sample of 10 out of 213 director in the list for 1970-74:\")\n",
    "print(\"note: converted to dictionary in order to restrict out - otherwise get the whole list\")\n",
    "print(\"\")\n",
    "dir1970Cnt = dict(years5Dict[1970]['directorCnt'])\n",
    "dir1970CntList = list(dir1970Cnt.items())\n",
    "print(dir1970CntList[0:10])\n",
    "print(\"\")\n",
    "print(\"***Sample field 'dirMostCommon25' -- list of the 25 directors who have directed the most movies from 1970-74:\")\n",
    "print(\"\")\n",
    "print(years5Dict[1970]['dirMostCommon25'])"
   ]
  },
  {
   "cell_type": "markdown",
   "metadata": {},
   "source": [
    "<a id='individual_entities'></a>"
   ]
  },
  {
   "cell_type": "markdown",
   "metadata": {},
   "source": [
    "<h4>Patterns of Interest in Individual Directors, Cast Members and Genre</h4>\n",
    "<a href='#toc'>Return to TOC</a>\n",
    "\n",
    "The analyses which follows in the remainder of this notebook is focused on investigating the following trends across the 5 year time intervals from 1970 to the present:\n",
    "<ol>\n",
    "    <li>Movie counts for the 'top' individual directors, cast members, and genre.</li>\n",
    "    <li>Appearances in the top 25 by individual directors, cast members, and genre.</li>\n",
    "    <li>Typical 'career lifespan' of all directors, cast members, and genre based on start dates</li>\n",
    "</ol>\n",
    "\n",
    "The code that follows is divided into 2 blocks with the first black handling the first two sets of trends and the second block covering covering the last set of trends.\n",
    "<br>"
   ]
  },
  {
   "cell_type": "markdown",
   "metadata": {},
   "source": [
    "<a id='view_top'></a>"
   ]
  },
  {
   "cell_type": "markdown",
   "metadata": {},
   "source": [
    "<h5>View from the Top: How Many Movies and How Many Years?</h5>\n",
    "<a href='#toc'>Return to TOC</a>\n",
    "\n",
    "The first two trends of interest involve the top entities. More specifically, the top 25 directors, 25 starring cast members, and 25 genre.  The patterns of interest revolve are the questions: (1) how many movies were they involved over the span of 5 year intervals from 1970 to the present; and (2) how persistent was their presence at the top (i.e. when and how often were they in the top group over the span of 5 year intervals from 1970 to the present). The answer to these two questions are provided by the following two functions.\n",
    "\n",
    "The first function 'createDFTop' returns a dataframe whose:\n",
    "\n",
    "<ul>\n",
    "    <li>rows are the names of a specified number (numEntities) of top entities by total number of movies over all the years from l9170 to the present</li>\n",
    "    <li>columns are the 5 year periods from 1970 to the present</li>\n",
    "    <li>cells indicate the number of movies in which the named entity was active (directed, acted or labeled) during the specified 5 year period.</li>\n",
    "</ul>\n",
    "\n",
    "For example, as shown below in this dataframe for top directors, 'Maresh Bhatt' directed the most movies (38) from 1970 to the present.  His data is in the top row. He started showly directed 1 movie from 1970-1974, 1 from 1975-1979, 3 from 1980-1984, 7 from 1985-1989, 15 from 1990-1994, 10 from 1995-1999, 0 from 2000-2014 (a long stretch), 1 from 2015-2018. Obviously, these number give you a sense of the flow of his career from a 'count' perspective. The same is true for the rest of the top directors in this particular dataframe.\n",
    "\n",
    "The second function 'createDFInTopN' returns a dataframe whose:\n",
    "\n",
    "<ul>\n",
    "    <li>rows are the names of a specified number (entityCnt) of top entities by total number of times the entity was in the top N entities overall all the years from 1970 to the present</li>\n",
    "    <li>columns are the 5 year periods from 1970 to the present</li>\n",
    "    <li>each cell indicates whether the named entity was in (1) or out (0) of the top N entities for that time interval.</li>\n",
    "</ul>\n",
    "\n",
    "So, continuing with Mahesh Bhatt, we can see that he was not the overall leader in terms of appearances in the top 10 group. Instead, was 6th (in the 6th row). His entries in the dataframe indicate that he was in the top 10 for 4 of the ten 5 year intervals running consecutively from 1980-1999.     \n",
    "\n",
    "Taken together these two dataframes provide a quick summary of the 'lifespan' patterns for the top entities.  These patterns are discussed below for each group of entities."
   ]
  },
  {
   "cell_type": "code",
   "execution_count": 17,
   "metadata": {},
   "outputs": [],
   "source": [
    "# First function -- createDFTop\n",
    "\n",
    "# For those entities (director, actor, genre) with the highest (numEntities) overall counts\n",
    "# create a dataframe containing the total number of movies for each entity (row)\n",
    "# and for each 5 year time interval (column)\n",
    "\n",
    "# Parameters:\n",
    "\n",
    "# yearsDict -    dictionary with 5 year interval data (for us that's years5Dict)\n",
    "# numIntervals - number of 5 year intervals to analyze\n",
    "# numEntities -  number of top entities to analyze (directors,cast,genre)\n",
    "# entityCnt -    string that stands for the list of top entities, along with the number of movies \n",
    "#                produced, acted in or labeled. It is a collections.Counter \n",
    "#                (i.e. directorCnt, castMemCnt,or genreCnt)\n",
    "# topList -      list of the topN entities by name - at moment it's the top 25 \n",
    "# arrTop -       creates an numEntities x numIntervals np array where cells are the counts for a given\n",
    "#                entity in a given time interval\n",
    "# topDF -        function returns a pandas dataframe containing arrTop values with labeled cols and rows\n",
    "\n",
    "def createDFTop(yearsDict,numIntervals,numEntities,entityCnt,topList):\n",
    "    top = [i for i,j in topList[0:numEntities]]\n",
    "    yrList = list(years5Dict.keys())\n",
    "    arrTop = np.zeros((numEntities,numIntervals))\n",
    "    \n",
    "    for i in range(numEntities):\n",
    "        totEnts = 0\n",
    "        for j in range(len(yrList)):\n",
    "            numEnts = years5Dict[yrList[j]][entityCnt][top[i]]\n",
    "            arrTop[i,j] = numEnts\n",
    "            \n",
    "    topDF = pd.DataFrame(data=arrTop,columns=yrList,index=top)                              \n",
    "    return topDF"
   ]
  },
  {
   "cell_type": "code",
   "execution_count": 18,
   "metadata": {},
   "outputs": [],
   "source": [
    "# Second Function:\n",
    "\n",
    "# For those Entities with the highest topN overall counts\n",
    "# Show whether an individual entity was in or out of the topN\n",
    "# for each of the 5 year time intervals from 1970 to present\n",
    "\n",
    "# yearsDict and entityCnt same as above\n",
    "# topN - determines that rank positions against which to compare\n",
    "#        entities in entityCnt\n",
    "# entTopNList - list of TopN entities for each 5 year time interval\n",
    "# arrNTop - an np array whose columns and rows are numEntities x numIntervals\n",
    "#           and whose cells are either 0 or 1 indicating whether a given\n",
    "#           entity is in the TopN entities for a given 5 year time interval\n",
    "# topNDF - returned by function. It is the pandas dataframe representation of arrNTop\n",
    "\n",
    "def createDFInTopN(yearsDict,entityCnt,topN):\n",
    "   \n",
    "    yrList = list(yearsDict.keys())\n",
    "    numIntervals = len(yrList)\n",
    "    \n",
    "    entTopNList = []\n",
    "    for yr in yrList:\n",
    "        for i in range(0,topN):\n",
    "            entName = yearsDict[yr][entityCnt][i][0]\n",
    "            entTopNList = entTopNList + [entName]\n",
    "    entNamesSetList = list(set(entTopNList))\n",
    "    numEntities = len(entNamesSetList)\n",
    "\n",
    "    arrNTop = np.zeros((numEntities,numIntervals))\n",
    "    \n",
    "    for i in range(numIntervals):\n",
    "        yr = yrList[i]\n",
    "        tempNDict = dict(yearsDict[yr][entityCnt])\n",
    "        for j in range(numEntities):\n",
    "            entName = entNamesSetList[j]\n",
    "            if entName in tempNDict.keys():\n",
    "                arrNTop[j,i] = 1\n",
    "\n",
    "    topNDF = pd.DataFrame(data=arrNTop,columns=yrList,index=entNamesSetList)\n",
    "\n",
    "    return topNDF"
   ]
  },
  {
   "cell_type": "markdown",
   "metadata": {},
   "source": [
    "<a id='top_directors'></a>"
   ]
  },
  {
   "cell_type": "markdown",
   "metadata": {},
   "source": [
    "<h5>Analysis of 'Top' Individual Directors</h5>\n",
    "<a href='#toc'>Return to TOC</a>\n",
    "\n",
    "<i>Results for Total Movies and Top Rankings</i>\n",
    "\n",
    "The first dataframe shown (immediately below) pertains to the top 7 directors (by total movies directed) and displays the number of movies they directed by 5 year time interval along with the sum of these numbers for all time periods across all time intervals. In most cases, the top 5 would have been selected, but here the the total number of movies directed by the top 5-7 were essentially the same. So, 7 directors rather than 5 were analyzed.\n",
    "\n",
    "The second dataframe pertaining to directors shows the top 10 directors (by total number of times they were in the top 10). For each of these top directors, the numbers are essentially boolean flags (0,1) indicating whether they were in or out of the top 10 for a particular 5 year interval. "
   ]
  },
  {
   "cell_type": "code",
   "execution_count": 19,
   "metadata": {
    "scrolled": true
   },
   "outputs": [
    {
     "name": "stdout",
     "output_type": "stream",
     "text": [
      "Number of Movies directed in 5 year interval by Top 7 Directors\n"
     ]
    },
    {
     "data": {
      "text/html": [
       "<div>\n",
       "<style scoped>\n",
       "    .dataframe tbody tr th:only-of-type {\n",
       "        vertical-align: middle;\n",
       "    }\n",
       "\n",
       "    .dataframe tbody tr th {\n",
       "        vertical-align: top;\n",
       "    }\n",
       "\n",
       "    .dataframe thead th {\n",
       "        text-align: right;\n",
       "    }\n",
       "</style>\n",
       "<table border=\"1\" class=\"dataframe\">\n",
       "  <thead>\n",
       "    <tr style=\"text-align: right;\">\n",
       "      <th></th>\n",
       "      <th>1970</th>\n",
       "      <th>1975</th>\n",
       "      <th>1980</th>\n",
       "      <th>1985</th>\n",
       "      <th>1990</th>\n",
       "      <th>1995</th>\n",
       "      <th>2000</th>\n",
       "      <th>2005</th>\n",
       "      <th>2010</th>\n",
       "      <th>2015</th>\n",
       "      <th>Tot</th>\n",
       "    </tr>\n",
       "  </thead>\n",
       "  <tbody>\n",
       "    <tr>\n",
       "      <th>Mahesh Bhatt</th>\n",
       "      <td>1.0</td>\n",
       "      <td>1.0</td>\n",
       "      <td>3.0</td>\n",
       "      <td>7.0</td>\n",
       "      <td>15.0</td>\n",
       "      <td>10.0</td>\n",
       "      <td>0.0</td>\n",
       "      <td>0.0</td>\n",
       "      <td>0.0</td>\n",
       "      <td>1.0</td>\n",
       "      <td>38.0</td>\n",
       "    </tr>\n",
       "    <tr>\n",
       "      <th>David Dhawan</th>\n",
       "      <td>0.0</td>\n",
       "      <td>0.0</td>\n",
       "      <td>0.0</td>\n",
       "      <td>0.0</td>\n",
       "      <td>9.0</td>\n",
       "      <td>12.0</td>\n",
       "      <td>8.0</td>\n",
       "      <td>2.0</td>\n",
       "      <td>3.0</td>\n",
       "      <td>1.0</td>\n",
       "      <td>35.0</td>\n",
       "    </tr>\n",
       "    <tr>\n",
       "      <th>Priyadarshan</th>\n",
       "      <td>0.0</td>\n",
       "      <td>0.0</td>\n",
       "      <td>0.0</td>\n",
       "      <td>0.0</td>\n",
       "      <td>2.0</td>\n",
       "      <td>5.0</td>\n",
       "      <td>5.0</td>\n",
       "      <td>9.0</td>\n",
       "      <td>6.0</td>\n",
       "      <td>0.0</td>\n",
       "      <td>27.0</td>\n",
       "    </tr>\n",
       "    <tr>\n",
       "      <th>Vikram Bhatt</th>\n",
       "      <td>0.0</td>\n",
       "      <td>0.0</td>\n",
       "      <td>0.0</td>\n",
       "      <td>0.0</td>\n",
       "      <td>2.0</td>\n",
       "      <td>4.0</td>\n",
       "      <td>4.0</td>\n",
       "      <td>7.0</td>\n",
       "      <td>5.0</td>\n",
       "      <td>4.0</td>\n",
       "      <td>26.0</td>\n",
       "    </tr>\n",
       "    <tr>\n",
       "      <th>Ram Gopal Varma</th>\n",
       "      <td>0.0</td>\n",
       "      <td>0.0</td>\n",
       "      <td>0.0</td>\n",
       "      <td>0.0</td>\n",
       "      <td>1.0</td>\n",
       "      <td>6.0</td>\n",
       "      <td>3.0</td>\n",
       "      <td>8.0</td>\n",
       "      <td>4.0</td>\n",
       "      <td>2.0</td>\n",
       "      <td>24.0</td>\n",
       "    </tr>\n",
       "    <tr>\n",
       "      <th>Hrishikesh Mukherjee</th>\n",
       "      <td>8.0</td>\n",
       "      <td>5.0</td>\n",
       "      <td>6.0</td>\n",
       "      <td>3.0</td>\n",
       "      <td>0.0</td>\n",
       "      <td>1.0</td>\n",
       "      <td>0.0</td>\n",
       "      <td>0.0</td>\n",
       "      <td>0.0</td>\n",
       "      <td>0.0</td>\n",
       "      <td>23.0</td>\n",
       "    </tr>\n",
       "    <tr>\n",
       "      <th>K. Bapaiah</th>\n",
       "      <td>0.0</td>\n",
       "      <td>0.0</td>\n",
       "      <td>5.0</td>\n",
       "      <td>12.0</td>\n",
       "      <td>4.0</td>\n",
       "      <td>1.0</td>\n",
       "      <td>0.0</td>\n",
       "      <td>0.0</td>\n",
       "      <td>0.0</td>\n",
       "      <td>0.0</td>\n",
       "      <td>22.0</td>\n",
       "    </tr>\n",
       "  </tbody>\n",
       "</table>\n",
       "</div>"
      ],
      "text/plain": [
       "                      1970  1975  1980  1985  1990  1995  2000  2005  2010  \\\n",
       "Mahesh Bhatt           1.0   1.0   3.0   7.0  15.0  10.0   0.0   0.0   0.0   \n",
       "David Dhawan           0.0   0.0   0.0   0.0   9.0  12.0   8.0   2.0   3.0   \n",
       "Priyadarshan           0.0   0.0   0.0   0.0   2.0   5.0   5.0   9.0   6.0   \n",
       "Vikram Bhatt           0.0   0.0   0.0   0.0   2.0   4.0   4.0   7.0   5.0   \n",
       "Ram Gopal Varma        0.0   0.0   0.0   0.0   1.0   6.0   3.0   8.0   4.0   \n",
       "Hrishikesh Mukherjee   8.0   5.0   6.0   3.0   0.0   1.0   0.0   0.0   0.0   \n",
       "K. Bapaiah             0.0   0.0   5.0  12.0   4.0   1.0   0.0   0.0   0.0   \n",
       "\n",
       "                      2015   Tot  \n",
       "Mahesh Bhatt           1.0  38.0  \n",
       "David Dhawan           1.0  35.0  \n",
       "Priyadarshan           0.0  27.0  \n",
       "Vikram Bhatt           4.0  26.0  \n",
       "Ram Gopal Varma        2.0  24.0  \n",
       "Hrishikesh Mukherjee   0.0  23.0  \n",
       "K. Bapaiah             0.0  22.0  "
      ]
     },
     "execution_count": 19,
     "metadata": {},
     "output_type": "execute_result"
    },
    {
     "name": "stdout",
     "output_type": "stream",
     "text": [
      "5 year intervals in which director was ranked in Top 10\n",
      "Displays 12 because there were a number of ties at 3 appearances\n"
     ]
    },
    {
     "data": {
      "text/html": [
       "<div>\n",
       "<style scoped>\n",
       "    .dataframe tbody tr th:only-of-type {\n",
       "        vertical-align: middle;\n",
       "    }\n",
       "\n",
       "    .dataframe tbody tr th {\n",
       "        vertical-align: top;\n",
       "    }\n",
       "\n",
       "    .dataframe thead th {\n",
       "        text-align: right;\n",
       "    }\n",
       "</style>\n",
       "<table border=\"1\" class=\"dataframe\">\n",
       "  <thead>\n",
       "    <tr style=\"text-align: right;\">\n",
       "      <th></th>\n",
       "      <th>1970</th>\n",
       "      <th>1975</th>\n",
       "      <th>1980</th>\n",
       "      <th>1985</th>\n",
       "      <th>1990</th>\n",
       "      <th>1995</th>\n",
       "      <th>2000</th>\n",
       "      <th>2005</th>\n",
       "      <th>2010</th>\n",
       "      <th>2015</th>\n",
       "      <th>Tot</th>\n",
       "    </tr>\n",
       "  </thead>\n",
       "  <tbody>\n",
       "    <tr>\n",
       "      <th>Vikram Bhatt</th>\n",
       "      <td>0.0</td>\n",
       "      <td>0.0</td>\n",
       "      <td>0.0</td>\n",
       "      <td>0.0</td>\n",
       "      <td>0.0</td>\n",
       "      <td>1.0</td>\n",
       "      <td>1.0</td>\n",
       "      <td>1.0</td>\n",
       "      <td>1.0</td>\n",
       "      <td>1.0</td>\n",
       "      <td>5.0</td>\n",
       "    </tr>\n",
       "    <tr>\n",
       "      <th>Hrishikesh Mukherjee</th>\n",
       "      <td>1.0</td>\n",
       "      <td>1.0</td>\n",
       "      <td>1.0</td>\n",
       "      <td>1.0</td>\n",
       "      <td>0.0</td>\n",
       "      <td>0.0</td>\n",
       "      <td>0.0</td>\n",
       "      <td>0.0</td>\n",
       "      <td>0.0</td>\n",
       "      <td>0.0</td>\n",
       "      <td>4.0</td>\n",
       "    </tr>\n",
       "    <tr>\n",
       "      <th>David Dhawan</th>\n",
       "      <td>0.0</td>\n",
       "      <td>0.0</td>\n",
       "      <td>0.0</td>\n",
       "      <td>0.0</td>\n",
       "      <td>1.0</td>\n",
       "      <td>1.0</td>\n",
       "      <td>1.0</td>\n",
       "      <td>0.0</td>\n",
       "      <td>1.0</td>\n",
       "      <td>0.0</td>\n",
       "      <td>4.0</td>\n",
       "    </tr>\n",
       "    <tr>\n",
       "      <th>Priyadarshan</th>\n",
       "      <td>0.0</td>\n",
       "      <td>0.0</td>\n",
       "      <td>0.0</td>\n",
       "      <td>0.0</td>\n",
       "      <td>0.0</td>\n",
       "      <td>1.0</td>\n",
       "      <td>1.0</td>\n",
       "      <td>1.0</td>\n",
       "      <td>1.0</td>\n",
       "      <td>0.0</td>\n",
       "      <td>4.0</td>\n",
       "    </tr>\n",
       "    <tr>\n",
       "      <th>Ram Gopal Varma</th>\n",
       "      <td>0.0</td>\n",
       "      <td>0.0</td>\n",
       "      <td>0.0</td>\n",
       "      <td>0.0</td>\n",
       "      <td>0.0</td>\n",
       "      <td>1.0</td>\n",
       "      <td>1.0</td>\n",
       "      <td>1.0</td>\n",
       "      <td>1.0</td>\n",
       "      <td>0.0</td>\n",
       "      <td>4.0</td>\n",
       "    </tr>\n",
       "    <tr>\n",
       "      <th>Mahesh Bhatt</th>\n",
       "      <td>0.0</td>\n",
       "      <td>0.0</td>\n",
       "      <td>1.0</td>\n",
       "      <td>1.0</td>\n",
       "      <td>1.0</td>\n",
       "      <td>1.0</td>\n",
       "      <td>0.0</td>\n",
       "      <td>0.0</td>\n",
       "      <td>0.0</td>\n",
       "      <td>0.0</td>\n",
       "      <td>4.0</td>\n",
       "    </tr>\n",
       "    <tr>\n",
       "      <th>Shibu Mitra</th>\n",
       "      <td>0.0</td>\n",
       "      <td>1.0</td>\n",
       "      <td>1.0</td>\n",
       "      <td>1.0</td>\n",
       "      <td>1.0</td>\n",
       "      <td>0.0</td>\n",
       "      <td>0.0</td>\n",
       "      <td>0.0</td>\n",
       "      <td>0.0</td>\n",
       "      <td>0.0</td>\n",
       "      <td>4.0</td>\n",
       "    </tr>\n",
       "    <tr>\n",
       "      <th>Rohit Shetty</th>\n",
       "      <td>0.0</td>\n",
       "      <td>0.0</td>\n",
       "      <td>0.0</td>\n",
       "      <td>0.0</td>\n",
       "      <td>0.0</td>\n",
       "      <td>0.0</td>\n",
       "      <td>0.0</td>\n",
       "      <td>1.0</td>\n",
       "      <td>1.0</td>\n",
       "      <td>1.0</td>\n",
       "      <td>3.0</td>\n",
       "    </tr>\n",
       "    <tr>\n",
       "      <th>Prakash Jha</th>\n",
       "      <td>0.0</td>\n",
       "      <td>0.0</td>\n",
       "      <td>0.0</td>\n",
       "      <td>1.0</td>\n",
       "      <td>0.0</td>\n",
       "      <td>1.0</td>\n",
       "      <td>0.0</td>\n",
       "      <td>0.0</td>\n",
       "      <td>1.0</td>\n",
       "      <td>0.0</td>\n",
       "      <td>3.0</td>\n",
       "    </tr>\n",
       "    <tr>\n",
       "      <th>Anurag Kashyap</th>\n",
       "      <td>0.0</td>\n",
       "      <td>0.0</td>\n",
       "      <td>0.0</td>\n",
       "      <td>0.0</td>\n",
       "      <td>0.0</td>\n",
       "      <td>0.0</td>\n",
       "      <td>0.0</td>\n",
       "      <td>1.0</td>\n",
       "      <td>1.0</td>\n",
       "      <td>1.0</td>\n",
       "      <td>3.0</td>\n",
       "    </tr>\n",
       "    <tr>\n",
       "      <th>Ravikant Nagaich</th>\n",
       "      <td>1.0</td>\n",
       "      <td>1.0</td>\n",
       "      <td>1.0</td>\n",
       "      <td>0.0</td>\n",
       "      <td>0.0</td>\n",
       "      <td>0.0</td>\n",
       "      <td>0.0</td>\n",
       "      <td>0.0</td>\n",
       "      <td>0.0</td>\n",
       "      <td>0.0</td>\n",
       "      <td>3.0</td>\n",
       "    </tr>\n",
       "    <tr>\n",
       "      <th>Harmesh Malhotra</th>\n",
       "      <td>0.0</td>\n",
       "      <td>1.0</td>\n",
       "      <td>0.0</td>\n",
       "      <td>1.0</td>\n",
       "      <td>1.0</td>\n",
       "      <td>0.0</td>\n",
       "      <td>0.0</td>\n",
       "      <td>0.0</td>\n",
       "      <td>0.0</td>\n",
       "      <td>0.0</td>\n",
       "      <td>3.0</td>\n",
       "    </tr>\n",
       "  </tbody>\n",
       "</table>\n",
       "</div>"
      ],
      "text/plain": [
       "                      1970  1975  1980  1985  1990  1995  2000  2005  2010  \\\n",
       "Vikram Bhatt           0.0   0.0   0.0   0.0   0.0   1.0   1.0   1.0   1.0   \n",
       "Hrishikesh Mukherjee   1.0   1.0   1.0   1.0   0.0   0.0   0.0   0.0   0.0   \n",
       "David Dhawan           0.0   0.0   0.0   0.0   1.0   1.0   1.0   0.0   1.0   \n",
       "Priyadarshan           0.0   0.0   0.0   0.0   0.0   1.0   1.0   1.0   1.0   \n",
       "Ram Gopal Varma        0.0   0.0   0.0   0.0   0.0   1.0   1.0   1.0   1.0   \n",
       "Mahesh Bhatt           0.0   0.0   1.0   1.0   1.0   1.0   0.0   0.0   0.0   \n",
       "Shibu Mitra            0.0   1.0   1.0   1.0   1.0   0.0   0.0   0.0   0.0   \n",
       "Rohit Shetty           0.0   0.0   0.0   0.0   0.0   0.0   0.0   1.0   1.0   \n",
       "Prakash Jha            0.0   0.0   0.0   1.0   0.0   1.0   0.0   0.0   1.0   \n",
       "Anurag Kashyap         0.0   0.0   0.0   0.0   0.0   0.0   0.0   1.0   1.0   \n",
       "Ravikant Nagaich       1.0   1.0   1.0   0.0   0.0   0.0   0.0   0.0   0.0   \n",
       "Harmesh Malhotra       0.0   1.0   0.0   1.0   1.0   0.0   0.0   0.0   0.0   \n",
       "\n",
       "                      2015  Tot  \n",
       "Vikram Bhatt           1.0  5.0  \n",
       "Hrishikesh Mukherjee   0.0  4.0  \n",
       "David Dhawan           0.0  4.0  \n",
       "Priyadarshan           0.0  4.0  \n",
       "Ram Gopal Varma        0.0  4.0  \n",
       "Mahesh Bhatt           0.0  4.0  \n",
       "Shibu Mitra            0.0  4.0  \n",
       "Rohit Shetty           1.0  3.0  \n",
       "Prakash Jha            0.0  3.0  \n",
       "Anurag Kashyap         1.0  3.0  \n",
       "Ravikant Nagaich       0.0  3.0  \n",
       "Harmesh Malhotra       0.0  3.0  "
      ]
     },
     "execution_count": 19,
     "metadata": {},
     "output_type": "execute_result"
    },
    {
     "name": "stdout",
     "output_type": "stream",
     "text": [
      "Line Plot of Number of Movies directed in 5 year interval by Top 7 Directors\n"
     ]
    },
    {
     "data": {
      "text/plain": [
       "<matplotlib.axes._subplots.AxesSubplot at 0x1df4553a588>"
      ]
     },
     "execution_count": 19,
     "metadata": {},
     "output_type": "execute_result"
    },
    {
     "data": {
      "image/png": "[encoded data removed]",
      "text/plain": [
       "<Figure size 576x288 with 1 Axes>"
      ]
     },
     "metadata": {
      "needs_background": "light"
     },
     "output_type": "display_data"
    }
   ],
   "source": [
    "dirTopArrayDF = createDFTop(years5Dict, 10, 7, 'directorCnt', top25Directors)\n",
    "dirTopArrayDF['Tot'] = dirTopArrayDF.sum(axis=1)\n",
    "print(\"Number of Movies directed in 5 year interval by Top 7 Directors\")\n",
    "dirTopArrayDF\n",
    "\n",
    "# Created array of top 10 directors showing those time intervals in which\n",
    "# they were in the top 10 rankings\n",
    "\n",
    "dirInTopNDF = createDFInTopN(years5Dict,'dirMostCommon25',25)\n",
    "dirInTopNDF['Tot'] = dirInTopNDF.sum(axis=1)\n",
    "print(\"5 year intervals in which director was ranked in Top 10\")\n",
    "print(\"Displays 12 because there were a number of ties at 3 appearances\")\n",
    "dirInTopNDF.sort_values('Tot',ascending=False).head(12)\n",
    "yrList = list(years5Dict.keys())\n",
    "print(\"Line Plot of Number of Movies directed in 5 year interval by Top 7 Directors\")\n",
    "dirTopArrayDF[yrList].transpose().plot(kind='line',legend=True,figsize=(8,4))"
   ]
  },
  {
   "cell_type": "markdown",
   "metadata": {},
   "source": [
    "<i>Summary Results for 'Top' Individual Directors</i>\n",
    "\n",
    "Most of the Top ranked Directors (1-25) are well known to Bollywood fans. The figures provided in the above 2 tables and line plots indicate that these top directors typically:\n",
    "\n",
    "<ol>\n",
    "    <li>Enjoy Fairly Long Careers - Given that these are 5 year time intervals, each of these director's 'directing' careers spanned 5-6 of these intervals, indicating careers of 25 to 30 years. In actuality, the overall careers of many of the top directors were longer than this because many of them were also writers and producers. For example, Mahesh Bhatt, who at at the top, directed movies from 1970 - 1994. After 1994, he began producing movies and continues in that role today. </li>\n",
    "    <li>Have a 15 year Peak or Plateau - This trend or pattern is best seen in the line plots. In examining the flow of these plots it is important to remember that these are 5 year intervals, so that if someone has 4 movies in a given interval that's less than 1 movie a year, or if it's 9 movies that's less than 2 a year. Given this, it seems for many of the top directors there is approximately a 15 year period of sustained production in which the number of movies directed increases for about 5 years, hits a peak for 5 years, drops back for 5 years, and followed by a rapid decline to 0. The  prototype of this pattern is the Bollywood directing career of K. Bapaiah who began directing Bollywood movies in 1980 at which point he directed 5 movie from 1985-1989, 9 from 1990-1994, back down to 4 from 1995-1999, then basically 1 movie from 2000 on. This pattern of rise, peak and fall is also supported by looking at the pattern of intervals in which a director was ranked in the Top 1-10. Again, for K. Bapaiah (although not shown) there was a 15 year period in which he was in the top rankings. These years obviously matched the years of his peak production.  Like Bapaiah, most of the top directors were in the top rankings for approximately 15-20 years in a row (i.e. sequence of  3-4 '1s' preceded and followed by some number of '0s').</li>\n",
    "</ol>\n",
    "    \n",
    "Of course, these patterns begin to dissolve or fragment once the focus moves from the career patterns of the top directors to the career patterns of the average director. In the next segment or block of the analysis , what we will see is that the overwhelming mass of directors actually have short lived careers of 5 years or less.\n",
    "\n",
    "\\[Note: In looking at these figures, you should keep in mind that these are figures for Bollywood. There are other Indian films outside of Bollywood produced for other languages. For example, from 1970-1987, K. Bapaiah directed 27 Telegu films. For the most part his Telegu films followed the same pattern as his Hindi films, except they declined as his Bollywood output increased.\\]"
   ]
  },
  {
   "cell_type": "markdown",
   "metadata": {},
   "source": [
    "<a id='top_cast'></a>"
   ]
  },
  {
   "cell_type": "markdown",
   "metadata": {},
   "source": [
    "<h5>Analysis of 'Top' Individual Starring Cast Members</h5>\n",
    "<a href='#toc'>Return to TOC</a>\n",
    "\n",
    "<i>Results for Total Movies and Top Rankings</i>\n",
    "\n",
    "As before, the first dataframe shown pertains to the top 6 starring cast members (by total movies) and displays the number of movies in which they acted for each 5 year time interval along with the sum of these numbers across all time intervals. Again, 6 rather than 5 starring cast members were used, only this time the addition was made because Jackie Schroff was among the top actors in terms of number of appearances in the top 10 list.\n",
    "\n",
    "The second dataframe pertaining to starring cast members shows the top 10 starring cast members (by total number of times they were in the top 10). Again, the numbers in this dataframe are essentially boolean flags (0,1) indicating whether a particular cast member was in or out of the top 10 for a particular 5 year interval."
   ]
  },
  {
   "cell_type": "code",
   "execution_count": 20,
   "metadata": {
    "scrolled": true
   },
   "outputs": [
    {
     "name": "stdout",
     "output_type": "stream",
     "text": [
      "Number of Movies  per 5 year interval for Top 6 Cast Members\n"
     ]
    },
    {
     "data": {
      "text/html": [
       "<div>\n",
       "<style scoped>\n",
       "    .dataframe tbody tr th:only-of-type {\n",
       "        vertical-align: middle;\n",
       "    }\n",
       "\n",
       "    .dataframe tbody tr th {\n",
       "        vertical-align: top;\n",
       "    }\n",
       "\n",
       "    .dataframe thead th {\n",
       "        text-align: right;\n",
       "    }\n",
       "</style>\n",
       "<table border=\"1\" class=\"dataframe\">\n",
       "  <thead>\n",
       "    <tr style=\"text-align: right;\">\n",
       "      <th></th>\n",
       "      <th>1970</th>\n",
       "      <th>1975</th>\n",
       "      <th>1980</th>\n",
       "      <th>1985</th>\n",
       "      <th>1990</th>\n",
       "      <th>1995</th>\n",
       "      <th>2000</th>\n",
       "      <th>2005</th>\n",
       "      <th>2010</th>\n",
       "      <th>2015</th>\n",
       "      <th>Tot</th>\n",
       "    </tr>\n",
       "  </thead>\n",
       "  <tbody>\n",
       "    <tr>\n",
       "      <th>Mithun Chakraborty</th>\n",
       "      <td>0.0</td>\n",
       "      <td>3.0</td>\n",
       "      <td>38.0</td>\n",
       "      <td>36.0</td>\n",
       "      <td>31.0</td>\n",
       "      <td>39.0</td>\n",
       "      <td>4.0</td>\n",
       "      <td>14.0</td>\n",
       "      <td>9.0</td>\n",
       "      <td>0.0</td>\n",
       "      <td>174.0</td>\n",
       "    </tr>\n",
       "    <tr>\n",
       "      <th>Pran</th>\n",
       "      <td>49.0</td>\n",
       "      <td>26.0</td>\n",
       "      <td>43.0</td>\n",
       "      <td>25.0</td>\n",
       "      <td>15.0</td>\n",
       "      <td>12.0</td>\n",
       "      <td>1.0</td>\n",
       "      <td>0.0</td>\n",
       "      <td>0.0</td>\n",
       "      <td>0.0</td>\n",
       "      <td>171.0</td>\n",
       "    </tr>\n",
       "    <tr>\n",
       "      <th>Amitabh Bachchan</th>\n",
       "      <td>20.0</td>\n",
       "      <td>28.0</td>\n",
       "      <td>22.0</td>\n",
       "      <td>10.0</td>\n",
       "      <td>8.0</td>\n",
       "      <td>7.0</td>\n",
       "      <td>18.0</td>\n",
       "      <td>26.0</td>\n",
       "      <td>9.0</td>\n",
       "      <td>8.0</td>\n",
       "      <td>156.0</td>\n",
       "    </tr>\n",
       "    <tr>\n",
       "      <th>Dharmendra</th>\n",
       "      <td>28.0</td>\n",
       "      <td>22.0</td>\n",
       "      <td>26.0</td>\n",
       "      <td>22.0</td>\n",
       "      <td>21.0</td>\n",
       "      <td>16.0</td>\n",
       "      <td>5.0</td>\n",
       "      <td>4.0</td>\n",
       "      <td>4.0</td>\n",
       "      <td>2.0</td>\n",
       "      <td>150.0</td>\n",
       "    </tr>\n",
       "    <tr>\n",
       "      <th>Jeetendra</th>\n",
       "      <td>22.0</td>\n",
       "      <td>19.0</td>\n",
       "      <td>41.0</td>\n",
       "      <td>18.0</td>\n",
       "      <td>24.0</td>\n",
       "      <td>9.0</td>\n",
       "      <td>1.0</td>\n",
       "      <td>0.0</td>\n",
       "      <td>0.0</td>\n",
       "      <td>0.0</td>\n",
       "      <td>134.0</td>\n",
       "    </tr>\n",
       "    <tr>\n",
       "      <th>Jackie Shroff</th>\n",
       "      <td>0.0</td>\n",
       "      <td>0.0</td>\n",
       "      <td>1.0</td>\n",
       "      <td>20.0</td>\n",
       "      <td>22.0</td>\n",
       "      <td>29.0</td>\n",
       "      <td>21.0</td>\n",
       "      <td>16.0</td>\n",
       "      <td>13.0</td>\n",
       "      <td>6.0</td>\n",
       "      <td>128.0</td>\n",
       "    </tr>\n",
       "  </tbody>\n",
       "</table>\n",
       "</div>"
      ],
      "text/plain": [
       "                    1970  1975  1980  1985  1990  1995  2000  2005  2010  \\\n",
       "Mithun Chakraborty   0.0   3.0  38.0  36.0  31.0  39.0   4.0  14.0   9.0   \n",
       "Pran                49.0  26.0  43.0  25.0  15.0  12.0   1.0   0.0   0.0   \n",
       "Amitabh Bachchan    20.0  28.0  22.0  10.0   8.0   7.0  18.0  26.0   9.0   \n",
       "Dharmendra          28.0  22.0  26.0  22.0  21.0  16.0   5.0   4.0   4.0   \n",
       "Jeetendra           22.0  19.0  41.0  18.0  24.0   9.0   1.0   0.0   0.0   \n",
       "Jackie Shroff        0.0   0.0   1.0  20.0  22.0  29.0  21.0  16.0  13.0   \n",
       "\n",
       "                    2015    Tot  \n",
       "Mithun Chakraborty   0.0  174.0  \n",
       "Pran                 0.0  171.0  \n",
       "Amitabh Bachchan     8.0  156.0  \n",
       "Dharmendra           2.0  150.0  \n",
       "Jeetendra            0.0  134.0  \n",
       "Jackie Shroff        6.0  128.0  "
      ]
     },
     "execution_count": 20,
     "metadata": {},
     "output_type": "execute_result"
    },
    {
     "data": {
      "text/html": [
       "<div>\n",
       "<style scoped>\n",
       "    .dataframe tbody tr th:only-of-type {\n",
       "        vertical-align: middle;\n",
       "    }\n",
       "\n",
       "    .dataframe tbody tr th {\n",
       "        vertical-align: top;\n",
       "    }\n",
       "\n",
       "    .dataframe thead th {\n",
       "        text-align: right;\n",
       "    }\n",
       "</style>\n",
       "<table border=\"1\" class=\"dataframe\">\n",
       "  <thead>\n",
       "    <tr style=\"text-align: right;\">\n",
       "      <th></th>\n",
       "      <th>1970</th>\n",
       "      <th>1975</th>\n",
       "      <th>1980</th>\n",
       "      <th>1985</th>\n",
       "      <th>1990</th>\n",
       "      <th>1995</th>\n",
       "      <th>2000</th>\n",
       "      <th>2005</th>\n",
       "      <th>2010</th>\n",
       "      <th>2015</th>\n",
       "      <th>Tot</th>\n",
       "    </tr>\n",
       "  </thead>\n",
       "  <tbody>\n",
       "    <tr>\n",
       "      <th>Jackie Shroff</th>\n",
       "      <td>0.0</td>\n",
       "      <td>0.0</td>\n",
       "      <td>0.0</td>\n",
       "      <td>1.0</td>\n",
       "      <td>1.0</td>\n",
       "      <td>1.0</td>\n",
       "      <td>1.0</td>\n",
       "      <td>1.0</td>\n",
       "      <td>1.0</td>\n",
       "      <td>0.0</td>\n",
       "      <td>6.0</td>\n",
       "    </tr>\n",
       "    <tr>\n",
       "      <th>Amitabh Bachchan</th>\n",
       "      <td>1.0</td>\n",
       "      <td>1.0</td>\n",
       "      <td>1.0</td>\n",
       "      <td>0.0</td>\n",
       "      <td>0.0</td>\n",
       "      <td>0.0</td>\n",
       "      <td>1.0</td>\n",
       "      <td>1.0</td>\n",
       "      <td>0.0</td>\n",
       "      <td>1.0</td>\n",
       "      <td>6.0</td>\n",
       "    </tr>\n",
       "    <tr>\n",
       "      <th>Dharmendra</th>\n",
       "      <td>1.0</td>\n",
       "      <td>1.0</td>\n",
       "      <td>1.0</td>\n",
       "      <td>1.0</td>\n",
       "      <td>1.0</td>\n",
       "      <td>1.0</td>\n",
       "      <td>0.0</td>\n",
       "      <td>0.0</td>\n",
       "      <td>0.0</td>\n",
       "      <td>0.0</td>\n",
       "      <td>6.0</td>\n",
       "    </tr>\n",
       "    <tr>\n",
       "      <th>Akshay Kumar</th>\n",
       "      <td>0.0</td>\n",
       "      <td>0.0</td>\n",
       "      <td>0.0</td>\n",
       "      <td>0.0</td>\n",
       "      <td>1.0</td>\n",
       "      <td>1.0</td>\n",
       "      <td>1.0</td>\n",
       "      <td>1.0</td>\n",
       "      <td>1.0</td>\n",
       "      <td>1.0</td>\n",
       "      <td>6.0</td>\n",
       "    </tr>\n",
       "    <tr>\n",
       "      <th>Rishi Kapoor</th>\n",
       "      <td>0.0</td>\n",
       "      <td>1.0</td>\n",
       "      <td>1.0</td>\n",
       "      <td>0.0</td>\n",
       "      <td>1.0</td>\n",
       "      <td>0.0</td>\n",
       "      <td>0.0</td>\n",
       "      <td>0.0</td>\n",
       "      <td>1.0</td>\n",
       "      <td>1.0</td>\n",
       "      <td>5.0</td>\n",
       "    </tr>\n",
       "    <tr>\n",
       "      <th>Salman Khan</th>\n",
       "      <td>0.0</td>\n",
       "      <td>0.0</td>\n",
       "      <td>0.0</td>\n",
       "      <td>0.0</td>\n",
       "      <td>1.0</td>\n",
       "      <td>1.0</td>\n",
       "      <td>1.0</td>\n",
       "      <td>1.0</td>\n",
       "      <td>0.0</td>\n",
       "      <td>1.0</td>\n",
       "      <td>5.0</td>\n",
       "    </tr>\n",
       "    <tr>\n",
       "      <th>Jeetendra</th>\n",
       "      <td>1.0</td>\n",
       "      <td>1.0</td>\n",
       "      <td>1.0</td>\n",
       "      <td>1.0</td>\n",
       "      <td>1.0</td>\n",
       "      <td>0.0</td>\n",
       "      <td>0.0</td>\n",
       "      <td>0.0</td>\n",
       "      <td>0.0</td>\n",
       "      <td>0.0</td>\n",
       "      <td>5.0</td>\n",
       "    </tr>\n",
       "    <tr>\n",
       "      <th>Sanjay Dutt</th>\n",
       "      <td>0.0</td>\n",
       "      <td>0.0</td>\n",
       "      <td>0.0</td>\n",
       "      <td>0.0</td>\n",
       "      <td>1.0</td>\n",
       "      <td>1.0</td>\n",
       "      <td>1.0</td>\n",
       "      <td>1.0</td>\n",
       "      <td>1.0</td>\n",
       "      <td>0.0</td>\n",
       "      <td>5.0</td>\n",
       "    </tr>\n",
       "    <tr>\n",
       "      <th>Pran</th>\n",
       "      <td>1.0</td>\n",
       "      <td>1.0</td>\n",
       "      <td>1.0</td>\n",
       "      <td>1.0</td>\n",
       "      <td>1.0</td>\n",
       "      <td>0.0</td>\n",
       "      <td>0.0</td>\n",
       "      <td>0.0</td>\n",
       "      <td>0.0</td>\n",
       "      <td>0.0</td>\n",
       "      <td>5.0</td>\n",
       "    </tr>\n",
       "    <tr>\n",
       "      <th>Anil Kapoor</th>\n",
       "      <td>0.0</td>\n",
       "      <td>0.0</td>\n",
       "      <td>0.0</td>\n",
       "      <td>1.0</td>\n",
       "      <td>1.0</td>\n",
       "      <td>1.0</td>\n",
       "      <td>1.0</td>\n",
       "      <td>0.0</td>\n",
       "      <td>0.0</td>\n",
       "      <td>0.0</td>\n",
       "      <td>4.0</td>\n",
       "    </tr>\n",
       "  </tbody>\n",
       "</table>\n",
       "</div>"
      ],
      "text/plain": [
       "                  1970  1975  1980  1985  1990  1995  2000  2005  2010  2015  \\\n",
       "Jackie Shroff      0.0   0.0   0.0   1.0   1.0   1.0   1.0   1.0   1.0   0.0   \n",
       "Amitabh Bachchan   1.0   1.0   1.0   0.0   0.0   0.0   1.0   1.0   0.0   1.0   \n",
       "Dharmendra         1.0   1.0   1.0   1.0   1.0   1.0   0.0   0.0   0.0   0.0   \n",
       "Akshay Kumar       0.0   0.0   0.0   0.0   1.0   1.0   1.0   1.0   1.0   1.0   \n",
       "Rishi Kapoor       0.0   1.0   1.0   0.0   1.0   0.0   0.0   0.0   1.0   1.0   \n",
       "Salman Khan        0.0   0.0   0.0   0.0   1.0   1.0   1.0   1.0   0.0   1.0   \n",
       "Jeetendra          1.0   1.0   1.0   1.0   1.0   0.0   0.0   0.0   0.0   0.0   \n",
       "Sanjay Dutt        0.0   0.0   0.0   0.0   1.0   1.0   1.0   1.0   1.0   0.0   \n",
       "Pran               1.0   1.0   1.0   1.0   1.0   0.0   0.0   0.0   0.0   0.0   \n",
       "Anil Kapoor        0.0   0.0   0.0   1.0   1.0   1.0   1.0   0.0   0.0   0.0   \n",
       "\n",
       "                  Tot  \n",
       "Jackie Shroff     6.0  \n",
       "Amitabh Bachchan  6.0  \n",
       "Dharmendra        6.0  \n",
       "Akshay Kumar      6.0  \n",
       "Rishi Kapoor      5.0  \n",
       "Salman Khan       5.0  \n",
       "Jeetendra         5.0  \n",
       "Sanjay Dutt       5.0  \n",
       "Pran              5.0  \n",
       "Anil Kapoor       4.0  "
      ]
     },
     "execution_count": 20,
     "metadata": {},
     "output_type": "execute_result"
    },
    {
     "data": {
      "text/plain": [
       "<matplotlib.axes._subplots.AxesSubplot at 0x1df45562b00>"
      ]
     },
     "execution_count": 20,
     "metadata": {},
     "output_type": "execute_result"
    },
    {
     "data": {
      "image/png": "[encoded data removed]",
      "text/plain": [
       "<Figure size 576x288 with 1 Axes>"
      ]
     },
     "metadata": {
      "needs_background": "light"
     },
     "output_type": "display_data"
    }
   ],
   "source": [
    "castTopArrayDF = createDFTop(years5Dict, 10, 6, 'castMemCnt', top25CastMembers)\n",
    "castTopArrayDF['Tot'] = castTopArrayDF.sum(axis=1)\n",
    "print(\"Number of Movies  per 5 year interval for Top 6 Cast Members\")\n",
    "castTopArrayDF\n",
    "\n",
    "castInTop25DF = createDFInTopN(years5Dict,'castMostCommon25',10)\n",
    "castInTop25DF['Tot'] = castInTop25DF.sum(axis=1)\n",
    "castSorted25 = castInTop25DF.sort_values('Tot',ascending=False).head(10)\n",
    "castSorted25\n",
    "\n",
    "castTopArrayDF[yrList].transpose().plot(kind='line',legend=True,figsize=(8,4))"
   ]
  },
  {
   "cell_type": "markdown",
   "metadata": {},
   "source": [
    "<i>Summary Results for 'Top' Individual Starring Cast Members</i>\n",
    "\n",
    "Most of Top Ranked Starring Cast members are very well known to Bollywood fans and to much of the Indian population at large. Like their director counterparts, they also have enjoyed long careers highlighted by peak output. Succinctly put, the differences between the top actors and top directors is that top actors are usually involved in many more movies, their careers last longer, and the peaks in their output are more sustained. However, like directors who aren't at the top,  we'll also find a bit later that those actors not in the top ranks have very short careers also.\n",
    "\n",
    "In summary, the figures provided in the above 2 tables and line plots pertaining to cast members indicate that the 'top' actors typically:\n",
    "\n",
    "<ol>\n",
    "    <li>Work in many more movies - The top Bollywood director (Mahesh Bhatt) directed 38 movies, the top Bollywood actor (Mithun Chakraborty) was in 174 movies. The 5th ranked director (Ram Gopal Varma) directed 24 movies, the 5th ranked actor (Jeetendra) was in 134 movies. Of course, there'a only one director per movie but many actors. Additionally, directing a movie usually involves greater time committment to the single movie than acting does.</li>\n",
    "    <li>Have very long Careers - For 3 of the Top 6 actors, their careers started before the 1970s. Pran started in the 40s, Dharmendra in the 50s, and Jeetendra in the 60s. 2 of the 6 actors -- Amitabh Bachchan and Jackie Shroff -- are still active. Only one of them - Pran - is deceased. So far, Dharmendra has the longest career, 60 to 65 years (based on additional data), followed by Pran who worked for 55 years, and Bachchan who has worked for 50 years. Of course, it's still possible for Bachchan and Shroff to surpass Dharmendar in longevity because they are still active.</li>\n",
    "    <li>Usually reach a Peak that is often sustained - Again, you get a sense of the pattern by looking at the line charts for these Top actors. Here, you can discern a peak, but it's clear that for sometime before and after the actual peak the number of appearances is relatively high. The decline in appearances (output) for Top actors is also much more gradual than it is for Top directors. In fact, for 2 of these actors - Mithun Chakraborty and Amitabh Bachchan - they had career revivals after their original peak. For Bachchan, the revival (which was about 30 years later) was as strong as the original peak. You can get a sense of the length of sustained output by looking at those years in which the actor was in the top rankings -- here the sequences of '1s' preceded and followed by 'os' is usually 5-6 intervals in length (meaning a 25-30 year run at the top).</li>\n",
    "</ol>"
   ]
  },
  {
   "cell_type": "markdown",
   "metadata": {},
   "source": [
    "<a id='top_genre'></a>"
   ]
  },
  {
   "cell_type": "markdown",
   "metadata": {},
   "source": [
    "<h5>Analysis of 'Top' Individual Genre</h5>\n",
    "<a href='#toc'>Return to TOC</a>\n",
    "\n",
    "<i>Results for Total Movies and Top Rankings</i>\n",
    "\n",
    "As before, the first dataframe shown pertains to the top 6 genre (by total movie count) and displays the number of movies to which the Ttop individual genre were applied for each 5 year time interval along with the sum of these numbers for a given genre across all time intervals. Again, 6 rather than 5 genre were analyzed because the 6th ranked genre 'crime' enjoyed very wide spread use from 1980-1999 and has almost always been ranked among the top.\n",
    "\n",
    "In the same vein, the second dataframe, showing the number of 5 year time intervals where a genre was ranked among the top in terms of use, includes the top 6 rather than top 5 also because of 'crimes' wide spread use across the years."
   ]
  },
  {
   "cell_type": "code",
   "execution_count": 21,
   "metadata": {
    "scrolled": false
   },
   "outputs": [
    {
     "name": "stdout",
     "output_type": "stream",
     "text": [
      "Number of Movies per 5 year interval for Top 6 Genre\n"
     ]
    },
    {
     "data": {
      "text/html": [
       "<div>\n",
       "<style scoped>\n",
       "    .dataframe tbody tr th:only-of-type {\n",
       "        vertical-align: middle;\n",
       "    }\n",
       "\n",
       "    .dataframe tbody tr th {\n",
       "        vertical-align: top;\n",
       "    }\n",
       "\n",
       "    .dataframe thead th {\n",
       "        text-align: right;\n",
       "    }\n",
       "</style>\n",
       "<table border=\"1\" class=\"dataframe\">\n",
       "  <thead>\n",
       "    <tr style=\"text-align: right;\">\n",
       "      <th></th>\n",
       "      <th>1970</th>\n",
       "      <th>1975</th>\n",
       "      <th>1980</th>\n",
       "      <th>1985</th>\n",
       "      <th>1990</th>\n",
       "      <th>1995</th>\n",
       "      <th>2000</th>\n",
       "      <th>2005</th>\n",
       "      <th>2010</th>\n",
       "      <th>2015</th>\n",
       "      <th>Tot</th>\n",
       "    </tr>\n",
       "  </thead>\n",
       "  <tbody>\n",
       "    <tr>\n",
       "      <th>Drama</th>\n",
       "      <td>223.0</td>\n",
       "      <td>55.0</td>\n",
       "      <td>203.0</td>\n",
       "      <td>114.0</td>\n",
       "      <td>172.0</td>\n",
       "      <td>129.0</td>\n",
       "      <td>167.0</td>\n",
       "      <td>142.0</td>\n",
       "      <td>117.0</td>\n",
       "      <td>176.0</td>\n",
       "      <td>1498.0</td>\n",
       "    </tr>\n",
       "    <tr>\n",
       "      <th>Romance</th>\n",
       "      <td>69.0</td>\n",
       "      <td>33.0</td>\n",
       "      <td>73.0</td>\n",
       "      <td>45.0</td>\n",
       "      <td>117.0</td>\n",
       "      <td>85.0</td>\n",
       "      <td>119.0</td>\n",
       "      <td>78.0</td>\n",
       "      <td>93.0</td>\n",
       "      <td>69.0</td>\n",
       "      <td>781.0</td>\n",
       "    </tr>\n",
       "    <tr>\n",
       "      <th>Action</th>\n",
       "      <td>37.0</td>\n",
       "      <td>20.0</td>\n",
       "      <td>106.0</td>\n",
       "      <td>90.0</td>\n",
       "      <td>152.0</td>\n",
       "      <td>120.0</td>\n",
       "      <td>61.0</td>\n",
       "      <td>38.0</td>\n",
       "      <td>68.0</td>\n",
       "      <td>64.0</td>\n",
       "      <td>756.0</td>\n",
       "    </tr>\n",
       "    <tr>\n",
       "      <th>Comedy</th>\n",
       "      <td>17.0</td>\n",
       "      <td>9.0</td>\n",
       "      <td>49.0</td>\n",
       "      <td>28.0</td>\n",
       "      <td>42.0</td>\n",
       "      <td>50.0</td>\n",
       "      <td>63.0</td>\n",
       "      <td>121.0</td>\n",
       "      <td>139.0</td>\n",
       "      <td>125.0</td>\n",
       "      <td>643.0</td>\n",
       "    </tr>\n",
       "    <tr>\n",
       "      <th>Thriller</th>\n",
       "      <td>15.0</td>\n",
       "      <td>2.0</td>\n",
       "      <td>28.0</td>\n",
       "      <td>22.0</td>\n",
       "      <td>25.0</td>\n",
       "      <td>20.0</td>\n",
       "      <td>59.0</td>\n",
       "      <td>66.0</td>\n",
       "      <td>56.0</td>\n",
       "      <td>83.0</td>\n",
       "      <td>376.0</td>\n",
       "    </tr>\n",
       "    <tr>\n",
       "      <th>Crime</th>\n",
       "      <td>4.0</td>\n",
       "      <td>1.0</td>\n",
       "      <td>36.0</td>\n",
       "      <td>37.0</td>\n",
       "      <td>62.0</td>\n",
       "      <td>30.0</td>\n",
       "      <td>7.0</td>\n",
       "      <td>10.0</td>\n",
       "      <td>16.0</td>\n",
       "      <td>21.0</td>\n",
       "      <td>224.0</td>\n",
       "    </tr>\n",
       "  </tbody>\n",
       "</table>\n",
       "</div>"
      ],
      "text/plain": [
       "           1970  1975   1980   1985   1990   1995   2000   2005   2010   2015  \\\n",
       "Drama     223.0  55.0  203.0  114.0  172.0  129.0  167.0  142.0  117.0  176.0   \n",
       "Romance    69.0  33.0   73.0   45.0  117.0   85.0  119.0   78.0   93.0   69.0   \n",
       "Action     37.0  20.0  106.0   90.0  152.0  120.0   61.0   38.0   68.0   64.0   \n",
       "Comedy     17.0   9.0   49.0   28.0   42.0   50.0   63.0  121.0  139.0  125.0   \n",
       "Thriller   15.0   2.0   28.0   22.0   25.0   20.0   59.0   66.0   56.0   83.0   \n",
       "Crime       4.0   1.0   36.0   37.0   62.0   30.0    7.0   10.0   16.0   21.0   \n",
       "\n",
       "             Tot  \n",
       "Drama     1498.0  \n",
       "Romance    781.0  \n",
       "Action     756.0  \n",
       "Comedy     643.0  \n",
       "Thriller   376.0  \n",
       "Crime      224.0  "
      ]
     },
     "execution_count": 21,
     "metadata": {},
     "output_type": "execute_result"
    },
    {
     "data": {
      "text/html": [
       "<div>\n",
       "<style scoped>\n",
       "    .dataframe tbody tr th:only-of-type {\n",
       "        vertical-align: middle;\n",
       "    }\n",
       "\n",
       "    .dataframe tbody tr th {\n",
       "        vertical-align: top;\n",
       "    }\n",
       "\n",
       "    .dataframe thead th {\n",
       "        text-align: right;\n",
       "    }\n",
       "</style>\n",
       "<table border=\"1\" class=\"dataframe\">\n",
       "  <thead>\n",
       "    <tr style=\"text-align: right;\">\n",
       "      <th></th>\n",
       "      <th>1970</th>\n",
       "      <th>1975</th>\n",
       "      <th>1980</th>\n",
       "      <th>1985</th>\n",
       "      <th>1990</th>\n",
       "      <th>1995</th>\n",
       "      <th>2000</th>\n",
       "      <th>2005</th>\n",
       "      <th>2010</th>\n",
       "      <th>2015</th>\n",
       "      <th>Tot</th>\n",
       "    </tr>\n",
       "  </thead>\n",
       "  <tbody>\n",
       "    <tr>\n",
       "      <th>Romance</th>\n",
       "      <td>1.0</td>\n",
       "      <td>1.0</td>\n",
       "      <td>1.0</td>\n",
       "      <td>1.0</td>\n",
       "      <td>1.0</td>\n",
       "      <td>1.0</td>\n",
       "      <td>1.0</td>\n",
       "      <td>1.0</td>\n",
       "      <td>1.0</td>\n",
       "      <td>1.0</td>\n",
       "      <td>10.0</td>\n",
       "    </tr>\n",
       "    <tr>\n",
       "      <th>Comedy</th>\n",
       "      <td>1.0</td>\n",
       "      <td>1.0</td>\n",
       "      <td>1.0</td>\n",
       "      <td>1.0</td>\n",
       "      <td>1.0</td>\n",
       "      <td>1.0</td>\n",
       "      <td>1.0</td>\n",
       "      <td>1.0</td>\n",
       "      <td>1.0</td>\n",
       "      <td>1.0</td>\n",
       "      <td>10.0</td>\n",
       "    </tr>\n",
       "    <tr>\n",
       "      <th>Action</th>\n",
       "      <td>1.0</td>\n",
       "      <td>1.0</td>\n",
       "      <td>1.0</td>\n",
       "      <td>1.0</td>\n",
       "      <td>1.0</td>\n",
       "      <td>1.0</td>\n",
       "      <td>1.0</td>\n",
       "      <td>1.0</td>\n",
       "      <td>1.0</td>\n",
       "      <td>1.0</td>\n",
       "      <td>10.0</td>\n",
       "    </tr>\n",
       "    <tr>\n",
       "      <th>Thriller</th>\n",
       "      <td>1.0</td>\n",
       "      <td>1.0</td>\n",
       "      <td>1.0</td>\n",
       "      <td>1.0</td>\n",
       "      <td>1.0</td>\n",
       "      <td>1.0</td>\n",
       "      <td>1.0</td>\n",
       "      <td>1.0</td>\n",
       "      <td>1.0</td>\n",
       "      <td>1.0</td>\n",
       "      <td>10.0</td>\n",
       "    </tr>\n",
       "    <tr>\n",
       "      <th>Drama</th>\n",
       "      <td>1.0</td>\n",
       "      <td>1.0</td>\n",
       "      <td>1.0</td>\n",
       "      <td>1.0</td>\n",
       "      <td>1.0</td>\n",
       "      <td>1.0</td>\n",
       "      <td>1.0</td>\n",
       "      <td>1.0</td>\n",
       "      <td>1.0</td>\n",
       "      <td>1.0</td>\n",
       "      <td>10.0</td>\n",
       "    </tr>\n",
       "    <tr>\n",
       "      <th>Crime</th>\n",
       "      <td>1.0</td>\n",
       "      <td>0.0</td>\n",
       "      <td>1.0</td>\n",
       "      <td>1.0</td>\n",
       "      <td>1.0</td>\n",
       "      <td>1.0</td>\n",
       "      <td>1.0</td>\n",
       "      <td>1.0</td>\n",
       "      <td>1.0</td>\n",
       "      <td>1.0</td>\n",
       "      <td>9.0</td>\n",
       "    </tr>\n",
       "  </tbody>\n",
       "</table>\n",
       "</div>"
      ],
      "text/plain": [
       "          1970  1975  1980  1985  1990  1995  2000  2005  2010  2015   Tot\n",
       "Romance    1.0   1.0   1.0   1.0   1.0   1.0   1.0   1.0   1.0   1.0  10.0\n",
       "Comedy     1.0   1.0   1.0   1.0   1.0   1.0   1.0   1.0   1.0   1.0  10.0\n",
       "Action     1.0   1.0   1.0   1.0   1.0   1.0   1.0   1.0   1.0   1.0  10.0\n",
       "Thriller   1.0   1.0   1.0   1.0   1.0   1.0   1.0   1.0   1.0   1.0  10.0\n",
       "Drama      1.0   1.0   1.0   1.0   1.0   1.0   1.0   1.0   1.0   1.0  10.0\n",
       "Crime      1.0   0.0   1.0   1.0   1.0   1.0   1.0   1.0   1.0   1.0   9.0"
      ]
     },
     "execution_count": 21,
     "metadata": {},
     "output_type": "execute_result"
    },
    {
     "data": {
      "text/plain": [
       "<matplotlib.axes._subplots.AxesSubplot at 0x1df45612c88>"
      ]
     },
     "execution_count": 21,
     "metadata": {},
     "output_type": "execute_result"
    },
    {
     "data": {
      "image/png": "[encoded data removed]",
      "text/plain": [
       "<Figure size 576x288 with 1 Axes>"
      ]
     },
     "metadata": {
      "needs_background": "light"
     },
     "output_type": "display_data"
    }
   ],
   "source": [
    "genreTopArrayDF = createDFTop(years5Dict, 10, 6, 'genreCnt', top25Genre)\n",
    "genreTopArrayDF['Tot'] = genreTopArrayDF.sum(axis=1)\n",
    "print(\"Number of Movies per 5 year interval for Top 6 Genre\")\n",
    "genreTopArrayDF\n",
    "\n",
    "genreInTopNDF = createDFInTopN(years5Dict,'genreMostCommon10',6)\n",
    "genreInTopNDF['Tot'] = genreInTopNDF.sum(axis=1)\n",
    "genreSortedN = genreInTopNDF.sort_values('Tot',ascending=False).head(6)\n",
    "genreSortedN\n",
    "\n",
    "genreTopArrayDF[yrList].transpose().plot(kind='line',legend=True, figsize=(8,4))"
   ]
  },
  {
   "cell_type": "markdown",
   "metadata": {},
   "source": [
    "<i>Summary of 5 Year Movie Counts for the 'Top' Individual Genre</i>\n",
    "\n",
    "When it comes to applying various genre (thematic tags) to movies, the patterns and trends are different for the Top genre than they are for the Top directors and cast members. Bottomline, out of the 107 different genre that have been applied over the 49 year period from 1970 to the present day, 6 account for the overwhelming majority of the labels actually used -- Drama, Romance, Action, Comedy, Thriller and Crime. Currently, among these 6, 3 are declining in usage (Action, Romance and Crime), 2 are rising (Comedy and Thriller), and 1 (Drama) seems to seesaw back and forth while still maintaining the top slot. However, regardless of these shifts, there was only one time (for the 'Crime' genre in 1975) when there was any other label among the Top 6 and one time (2010-2014) when 'Drama' wasn't the most frequently used tag."
   ]
  },
  {
   "cell_type": "markdown",
   "metadata": {},
   "source": [
    "<a id='lifespan'></a>"
   ]
  },
  {
   "cell_type": "markdown",
   "metadata": {},
   "source": [
    "<h3>Survival Analysis: Analyzing the 'Lifespan' of Directors, Cast Members, and Genre</h3>\n",
    "<a href='#toc'>Return to TOC</a>\n",
    "\n",
    "There's a really old adage that \"old soldiers never die, they just fade away.\" While the same may be true for the top directors, actors, and possibly genre, it certainly isn't true for the average director, actor or genre. The 'lifespan' of the average is like a Mayfly - very short lived.\n",
    "\n",
    "<h4>Defining Survival Analysis</h4>\n",
    "\n",
    "Estimating or predicting lifespan comes under the heading of <a href=\"\">'survival analysis'</a>. More specifically, it is a:\n",
    "\n",
    ">branch of statistics for analyzing the expected duration of time until one or more events happen, such as death in biological organisms and failure in mechanical systems. This topic is called reliability theory or reliability analysis in engineering, duration analysis or duration modelling in economics, and event history analysis in sociology\n",
    "\n",
    "As noted, the events can be virtually anything that is time bound where the duration of the event is measure in time units commensurate with the nature of the phenomenon leading up to the event. This could be seconds, minutes, hours, days, weeks, months, years or larger intervals depending on the event of interest.  The duration of time leading up to the event of interest is called the <i>survival time</i>.\n",
    "\n",
    "In this project, \n",
    "\n",
    "<ul>\n",
    "    <li>The events of interests are the duration of a director's or actor's career or the lifetime usage of a particular genre.</li>\n",
    "    <li>The unit of time is measured in 5 year intervals.</li>\n",
    "    <li>Survival time is the number of years (in steps of 5 years) that a director or actor was active in at least one movie or a genre was used to describe at least one movie (within a 5 year interval).</li>\n",
    "</ul>\n",
    "\n",
    "<h4>Survival Function</h4>\n",
    "\n",
    "One of the major focal points of survival analysis is estimation of the 'survival function' <i>S(t)</i> of the population of interest. It is defined as:\n",
    "\n",
    "    S(t) = Pr(T>t) \n",
    "    \n",
    "where:\n",
    "\n",
    "<ul>\n",
    "    <li><i>T</i> is a 'non-negative' (≥0) random variable that represents a subject's survival time</li>\n",
    "    <li>The value of S(t) runs from 0≤S(t)≤1 (because it's a probability)</li>\n",
    "    <li>S(0) = 1</li>\n",
    "</ul>\n",
    "\n",
    "For a variety of reasons, in practice there is virtually no way to know the actual 'population' probability, so we estimate it. One popular method for estimating the probability is <i>Kaplan–Meier</i> which is defined as:\n",
    "\n",
    "    S(t)=∏(ni−di)/ni\n",
    "    \n",
    "where:\n",
    "\n",
    "<ul>\n",
    "    <li><i>di</i> is the number of events (deaths) observed at time <i>ti</i></li>\n",
    "    <li><i>ni</i> is the number of subjects at risk (of death) prior to time <i>t</i></li>\n",
    "    <li>the product sum is calculated for all <i>ti</i> less than <i>T</i></li>\n",
    "</ul>\n",
    "\n",
    "<h4>Missing Data and Censoring</h4>\n",
    "\n",
    "In many cases, the reason why we can't determine the actual population probability is because of incomplete or missing data produced in part because studies are \"time bound\". For instance, in this case I somewhat arbitrarily chose to investigate Bollywood movies produced from 1970 to 2018. However, the first silent Bollywood movie was <i>Raja Harishchandra</i> released in 1913 and the first sound film was <i>Alam Ara></i> released in 1931. So, there are obviously a number of directors, actors, and genre that are not included in this study. There are also a number of directors, actors, and genre that are included whose actual start years are missing from this study. This includes many of the 213 directors, 212 cast members, and 16 genre whose movie counts were greater than 1 or 2 in 1970, indicating that they probably worked in prior years. In the same vein, there are a number of directors, cast members and genre whose start dates we know (and others we don't) that are still active at the present time, meaning their end dates are yet to be determined. For both the former and later groups, where one or both of the boundary dates are unknown, the assumption is that the survival time and probabilities will reflect the larger sample whose start and end dates we do know. In survival analysis these sorts of missing data, where the boundary dates are missing, are given special labels. It's called <i>left censoring</i> when the start date is unknown and <i>right censoring</i> when the end date is unknown. Cases where the director, or cast members or genre are simply missing have no special label, even though they can still impact our probability estimates.\n",
    "    \n",
    "<h4>Estimating the Survival Function</h4>\n",
    "\n",
    "Fortunately, there are various open source modules or packages available for performing survival analysis, including estimating the survival function. So, we don't have to start from scratch. One of these is called <a href=\"https://lifelines.readthedocs.io/en/latest/index.html\">'lifelines'</a>, a module or package built on top of pandas.\n",
    "\n",
    "In order to calculate the Kaplan-Meier estimate using lifelines, we need a couple of pieces of information for each entity in the sample -- (1) the duration of hers/his/its activity and (2) whether the activity has stopped or not. The code immediately following creates a set of dictionaries for each entity that is then used to create the two vectors used by 'lifelines' to perform the analysis."
   ]
  },
  {
   "cell_type": "markdown",
   "metadata": {},
   "source": [
    "<a id='data_setup'></a>"
   ]
  },
  {
   "cell_type": "markdown",
   "metadata": {},
   "source": [
    "<h4>Setting up the Data for Estimating Survival Rates of Directors, Cast Members and Genre</h4>\n",
    "<a href='#toc'>Return to TOC</a>\n",
    "\n",
    "With respect to the Bollywood data set, both the start date and the end date are inferred from the number of movies that an individual directed or acted in or to which a genre tag was applied over the ~50 year time span of the data set. In particular, the individual start and end dates were determined in the following fashion:\n",
    "\n",
    "<ul>\n",
    "    <li>5 year interval in which they started -- the first interval in which the number of movies for the individual person or genre was equal to or greater than 1</li>\n",
    "    <li>5 year interval in which they ended -- the first interval after the start interval in which the number of movies reached 0. If no end was reached, the end interval is set to '2020'.</li>\n",
    "    <li>'ended' status -- For want of a better term, 'ended' is the label used to denoted the boolean variable indicating whether the associated activity 'ended' sometime during the 50 year time period of the study or not. Here, the flag is 0 if the end year equals '2020' and 1 otherwise.\n",
    "</ul>\n",
    "\n",
    "So, for example, if an actor's career started in 1983 and ended in 2001, then the start interval would be '1980' and the end interval would be 2000. The lifespan would be approximately '2000-1980 = 20' years (or 4 time intervals) and the 'ended' flag would be 1 indicating the his or her career had ended during the 50 year period covered by the study. On the other hand, if an actor's career had started in 1955 and he or she appeared in movies during the period from 2015 to the present, his or her start date would be 1970, the end date would be 2020, and the 'ended' flag would be 0.\n",
    "\n",
    "\\[Note: There are cases where a director's or an actor's career has basically ended but after at least 5 years (1 time interval) of dormancy they direct or act in a movie. In these cases the end is still set at the time interval in which their activity originally ceased.\\]\n",
    "\n",
    "The start date, end date, duration and 'ended' values for each individual entity are stored in a separate dictionary, one for each entity type (i.e. 'dir5Ydict, 'cast5YDict', and 'genre5YDict). In addition to these values, the dictionaries also house the interval counts for each individual entity by year (e.g. how many movies did director X direct from 1970-1974). It's these counts that are used in establishing the starting and ending intervals which in turn are used to determine the duration."
   ]
  },
  {
   "cell_type": "code",
   "execution_count": 22,
   "metadata": {
    "scrolled": false
   },
   "outputs": [
    {
     "name": "stdout",
     "output_type": "stream",
     "text": [
      "Number of Directors in dirY5Dict: 1867\n",
      "Sample Entry for 'Mahesh Bhatt' in dirY5Dict: {'counts': {1970: 1, 1975: 1, 1980: 3, 1985: 7, 1990: 15, 1995: 10, 2000: 0, 2005: 0, 2010: 0, 2015: 1}, 'movieCnt': 38, 'startYr': 1970, 'endYr': 2000, 'ended': 1, 'cLength': 30}\n",
      "\n",
      "Number of Starring Cast Members in castY5Dict: 3336\n",
      "Sample Entry for 'Mithun Chakraborty' in castY5Dict: {'counts': {1970: 0, 1975: 3, 1980: 38, 1985: 36, 1990: 31, 1995: 39, 2000: 4, 2005: 14, 2010: 9, 2015: 0}, 'movieCnt': 174, 'startYr': 1975, 'endYr': 2015, 'ended': 1, 'cLength': 40}\n",
      "\n",
      "Number of Genre in genreY 5Dict: 107\n",
      "Sample Entry for 'Drama' in genreY5Dict: {'counts': {1970: 223, 1975: 55, 1980: 203, 1985: 114, 1990: 172, 1995: 129, 2000: 167, 2005: 142, 2010: 117, 2015: 176}, 'movieCnt': 1498, 'startYr': 1970, 'endYr': 2020, 'ended': 0, 'cLength': 50}\n"
     ]
    }
   ],
   "source": [
    "# Step 1 -- determine the pool of individual entities\n",
    "# for a given type (i.e. set of all directors who directed one\n",
    "# or more movies from 1970-2018).\n",
    "# Step 2 -- create a dictionary of entities for this pool that\n",
    "# contains the number of movies in a given 5y interval in which\n",
    "# the entity participated\n",
    "# Step 3 -- using the counts determine the start interval,\n",
    "# end interval, duration and 'ended' status.\n",
    "\n",
    "def createLifeSpanDict(yearsDict, entityList, entityCounts):\n",
    "    totEntList = []\n",
    "    for yr in yearsDict.keys():\n",
    "        totEntList = totEntList + yearsDict[yr][entityList]\n",
    "    setTotEnt = list(set(totEntList))    \n",
    "\n",
    "    entY5arr = np.zeros([len(setTotEnt),2]) \n",
    "\n",
    "    cnt = 0\n",
    "    entY5Dict = {}\n",
    "    for ent in setTotEnt:\n",
    "        entY5Dict[ent] = {}\n",
    "        entY5Dict[ent]['counts'] = {}\n",
    "        yrList = years5Dict.keys()\n",
    "        startFlg = 0\n",
    "        endFlg = 0\n",
    "        movieCnt = 0\n",
    "        for yr in yrList:\n",
    "            if ent in years5Dict[yr][entityCounts].keys():\n",
    "                entY5Dict[ent]['counts'][yr] = yearsDict[yr][entityCounts][ent]\n",
    "            else:\n",
    "                entY5Dict[ent]['counts'][yr] = 0\n",
    "            if startFlg == 0 and entY5Dict[ent]['counts'][yr] > 0:\n",
    "                startFlg = 1\n",
    "                startYr = yr\n",
    "            if startFlg == 1 and endFlg == 0 and entY5Dict[ent]['counts'][yr] == 0:\n",
    "                endFlg = 1\n",
    "                endYr = yr\n",
    "            movieCnt += entY5Dict[ent]['counts'][yr]\n",
    "        entY5Dict[ent]['movieCnt'] = movieCnt\n",
    "        entY5Dict[ent]['startYr'] = startYr\n",
    "        if endFlg == 1:\n",
    "            entY5Dict[ent]['endYr'] = endYr\n",
    "            entY5Dict[ent]['ended'] = 1\n",
    "        else:\n",
    "            entY5Dict[ent]['endYr'] = 2020\n",
    "            entY5Dict[ent]['ended'] = 0\n",
    "        entY5Dict[ent]['cLength'] = entY5Dict[ent]['endYr'] - entY5Dict[ent]['startYr']\n",
    "        \n",
    "    return entY5Dict\n",
    "\n",
    "dirY5Dict = createLifeSpanDict(years5Dict, 'dirList', 'directorCnt')\n",
    "print(\"Number of Directors in dirY5Dict:\", len(dirY5Dict))\n",
    "listDir = list(dirY5Dict.keys())\n",
    "print(\"Sample Entry for 'Mahesh Bhatt' in dirY5Dict:\", dirY5Dict['Mahesh Bhatt'])\n",
    "print(\"\")\n",
    "castY5Dict = createLifeSpanDict(years5Dict, 'castList', 'castMemCnt')\n",
    "print(\"Number of Starring Cast Members in castY5Dict:\", len(castY5Dict))\n",
    "listCast = list(castY5Dict.keys())\n",
    "print(\"Sample Entry for 'Mithun Chakraborty' in castY5Dict:\", castY5Dict['Mithun Chakraborty'])\n",
    "print(\"\")\n",
    "genreY5Dict = createLifeSpanDict(years5Dict, 'genreList', 'genreCnt')\n",
    "print(\"Number of Genre in genreY 5Dict:\", len(genreY5Dict))\n",
    "listGenre = list(genreY5Dict.keys())\n",
    "print(\"Sample Entry for 'Drama' in genreY5Dict:\", genreY5Dict['Drama'])"
   ]
  },
  {
   "cell_type": "markdown",
   "metadata": {},
   "source": [
    "Given each of these dictionaries, it's a relatively simple matter to produce a pandas' DataFrame that contains the two vectors needed for the lifelines' survival function. This done next for each of the three entity types "
   ]
  },
  {
   "cell_type": "code",
   "execution_count": 23,
   "metadata": {},
   "outputs": [
    {
     "name": "stdout",
     "output_type": "stream",
     "text": [
      "Sample out from one of the dataframes - dirSurvDF\n",
      "\n",
      "dirSurvDF shape: num of rows and columns\n"
     ]
    },
    {
     "data": {
      "text/plain": [
       "(1867, 2)"
      ]
     },
     "execution_count": 23,
     "metadata": {},
     "output_type": "execute_result"
    },
    {
     "name": "stdout",
     "output_type": "stream",
     "text": [
      "\n",
      "dirSurvDF head: first 5 rows\n"
     ]
    },
    {
     "data": {
      "text/html": [
       "<div>\n",
       "<style scoped>\n",
       "    .dataframe tbody tr th:only-of-type {\n",
       "        vertical-align: middle;\n",
       "    }\n",
       "\n",
       "    .dataframe tbody tr th {\n",
       "        vertical-align: top;\n",
       "    }\n",
       "\n",
       "    .dataframe thead th {\n",
       "        text-align: right;\n",
       "    }\n",
       "</style>\n",
       "<table border=\"1\" class=\"dataframe\">\n",
       "  <thead>\n",
       "    <tr style=\"text-align: right;\">\n",
       "      <th></th>\n",
       "      <th>duration</th>\n",
       "      <th>ended</th>\n",
       "    </tr>\n",
       "  </thead>\n",
       "  <tbody>\n",
       "    <tr>\n",
       "      <th>0</th>\n",
       "      <td>5.0</td>\n",
       "      <td>1.0</td>\n",
       "    </tr>\n",
       "    <tr>\n",
       "      <th>1</th>\n",
       "      <td>5.0</td>\n",
       "      <td>1.0</td>\n",
       "    </tr>\n",
       "    <tr>\n",
       "      <th>2</th>\n",
       "      <td>5.0</td>\n",
       "      <td>1.0</td>\n",
       "    </tr>\n",
       "  </tbody>\n",
       "</table>\n",
       "</div>"
      ],
      "text/plain": [
       "   duration  ended\n",
       "0       5.0    1.0\n",
       "1       5.0    1.0\n",
       "2       5.0    1.0"
      ]
     },
     "execution_count": 23,
     "metadata": {},
     "output_type": "execute_result"
    }
   ],
   "source": [
    "from lifelines import KaplanMeierFitter\n",
    "\n",
    "def createSurvivalDF(entY5Dict):\n",
    "\n",
    "    entSurvArr = np.zeros([len(entY5Dict),2])\n",
    "\n",
    "    cnt = 0\n",
    "    for ky in entY5Dict.keys():\n",
    "        if entY5Dict[ky]['startYr'] < 2015:\n",
    "            entSurvArr[cnt,0] = entY5Dict[ky]['cLength']\n",
    "            entSurvArr[cnt,1] = entY5Dict[ky]['ended']\n",
    "            cnt += 1\n",
    "            \n",
    "    return pd.DataFrame(entSurvArr,columns = ['duration','ended'])\n",
    "\n",
    "# dataframe for survival analysis of directors, cast members and genre\n",
    "\n",
    "dirSurvDF = createSurvivalDF(dirY5Dict)\n",
    "castSurvDF = createSurvivalDF(castY5Dict)\n",
    "genreSurvDict = createSurvivalDF(genreY5Dict)\n",
    "\n",
    "#Sample output from one of the dataframes\n",
    "print(\"Sample out from one of the dataframes - dirSurvDF\")\n",
    "print(\"\")\n",
    "print(\"dirSurvDF shape: num of rows and columns\")\n",
    "dirSurvDF.shape\n",
    "print(\"\")\n",
    "print(\"dirSurvDF head: first 5 rows\")\n",
    "dirSurvDF.head(3)"
   ]
  },
  {
   "cell_type": "markdown",
   "metadata": {},
   "source": [
    "<a id='estimating_analyzing'></a>"
   ]
  },
  {
   "cell_type": "markdown",
   "metadata": {},
   "source": [
    "<h4>Estimating and Analyzing the Survival Functions and Probabilities for Directors, Starring Cast, and Genre</h4>\n",
    "<a href='#toc'>Return to TOC</a>\n",
    "\n",
    "Again, with the data in hand it is a very simple process to produce a KaplanMeijerFitter class that houses the estimates and can produce various artifacts for the survival analysis, chief of which is the survival function.\n",
    "\n",
    "While there are a variety of methods and artifacts associated with the 'KaplanMeijerFitter', this analysis is going to concentrate on three key elements including the:\n",
    "\n",
    "<ol>\n",
    "    <li><i>event_table</i> - a table containing actual counts of various events at each time interval. These counts are used in fitting the survival function </li>\n",
    "    <li><i>survival_function_</i> -- method for computing and displaying the complete set of survival probabilities for all time periods or intervals.</li>\n",
    "    <li><i>plot</i> -- (step function) plot of the survival function with each horizontal line representing that an entity is active after a given time ti.\n",
    "</ol>\n",
    "\n",
    "The analysis that follows produces and discusses these elements for directors, cast members and genre separately."
   ]
  },
  {
   "cell_type": "markdown",
   "metadata": {},
   "source": [
    "<a id='fitting_directors'></a>"
   ]
  },
  {
   "cell_type": "markdown",
   "metadata": {},
   "source": [
    "<h5>Lifespan of Directors: Fitting and Estimation</h5>\n",
    "<a href='#toc'>Return to TOC</a>\n",
    "\n",
    "While the steps for fitting, estimating and plotting the survival function for directors is the same as it is for the other two group (cast and genre). The discussion of the results for directors will be more detailed in order to introduce the underlying concepts.  The discussion for cast and genre will ignore this detail and simply report the results. "
   ]
  },
  {
   "cell_type": "code",
   "execution_count": 24,
   "metadata": {
    "scrolled": true
   },
   "outputs": [
    {
     "data": {
      "text/plain": [
       "<lifelines.KaplanMeierFitter: fitted with 1867 observations, 354 censored>"
      ]
     },
     "execution_count": 24,
     "metadata": {},
     "output_type": "execute_result"
    },
    {
     "name": "stdout",
     "output_type": "stream",
     "text": [
      "KaplanMeierFitter event table\n"
     ]
    },
    {
     "data": {
      "text/html": [
       "<div>\n",
       "<style scoped>\n",
       "    .dataframe tbody tr th:only-of-type {\n",
       "        vertical-align: middle;\n",
       "    }\n",
       "\n",
       "    .dataframe tbody tr th {\n",
       "        vertical-align: top;\n",
       "    }\n",
       "\n",
       "    .dataframe thead th {\n",
       "        text-align: right;\n",
       "    }\n",
       "</style>\n",
       "<table border=\"1\" class=\"dataframe\">\n",
       "  <thead>\n",
       "    <tr style=\"text-align: right;\">\n",
       "      <th></th>\n",
       "      <th>removed</th>\n",
       "      <th>observed</th>\n",
       "      <th>censored</th>\n",
       "      <th>entrance</th>\n",
       "      <th>at_risk</th>\n",
       "    </tr>\n",
       "    <tr>\n",
       "      <th>event_at</th>\n",
       "      <th></th>\n",
       "      <th></th>\n",
       "      <th></th>\n",
       "      <th></th>\n",
       "      <th></th>\n",
       "    </tr>\n",
       "  </thead>\n",
       "  <tbody>\n",
       "    <tr>\n",
       "      <th>0.0</th>\n",
       "      <td>249</td>\n",
       "      <td>0</td>\n",
       "      <td>249</td>\n",
       "      <td>1867</td>\n",
       "      <td>1867</td>\n",
       "    </tr>\n",
       "    <tr>\n",
       "      <th>5.0</th>\n",
       "      <td>1213</td>\n",
       "      <td>1213</td>\n",
       "      <td>0</td>\n",
       "      <td>0</td>\n",
       "      <td>1618</td>\n",
       "    </tr>\n",
       "    <tr>\n",
       "      <th>10.0</th>\n",
       "      <td>213</td>\n",
       "      <td>155</td>\n",
       "      <td>58</td>\n",
       "      <td>0</td>\n",
       "      <td>405</td>\n",
       "    </tr>\n",
       "    <tr>\n",
       "      <th>15.0</th>\n",
       "      <td>93</td>\n",
       "      <td>71</td>\n",
       "      <td>22</td>\n",
       "      <td>0</td>\n",
       "      <td>192</td>\n",
       "    </tr>\n",
       "    <tr>\n",
       "      <th>20.0</th>\n",
       "      <td>54</td>\n",
       "      <td>41</td>\n",
       "      <td>13</td>\n",
       "      <td>0</td>\n",
       "      <td>99</td>\n",
       "    </tr>\n",
       "    <tr>\n",
       "      <th>25.0</th>\n",
       "      <td>20</td>\n",
       "      <td>16</td>\n",
       "      <td>4</td>\n",
       "      <td>0</td>\n",
       "      <td>45</td>\n",
       "    </tr>\n",
       "    <tr>\n",
       "      <th>30.0</th>\n",
       "      <td>19</td>\n",
       "      <td>12</td>\n",
       "      <td>7</td>\n",
       "      <td>0</td>\n",
       "      <td>25</td>\n",
       "    </tr>\n",
       "    <tr>\n",
       "      <th>35.0</th>\n",
       "      <td>3</td>\n",
       "      <td>3</td>\n",
       "      <td>0</td>\n",
       "      <td>0</td>\n",
       "      <td>6</td>\n",
       "    </tr>\n",
       "    <tr>\n",
       "      <th>40.0</th>\n",
       "      <td>2</td>\n",
       "      <td>1</td>\n",
       "      <td>1</td>\n",
       "      <td>0</td>\n",
       "      <td>3</td>\n",
       "    </tr>\n",
       "    <tr>\n",
       "      <th>45.0</th>\n",
       "      <td>1</td>\n",
       "      <td>1</td>\n",
       "      <td>0</td>\n",
       "      <td>0</td>\n",
       "      <td>1</td>\n",
       "    </tr>\n",
       "  </tbody>\n",
       "</table>\n",
       "</div>"
      ],
      "text/plain": [
       "          removed  observed  censored  entrance  at_risk\n",
       "event_at                                                \n",
       "0.0           249         0       249      1867     1867\n",
       "5.0          1213      1213         0         0     1618\n",
       "10.0          213       155        58         0      405\n",
       "15.0           93        71        22         0      192\n",
       "20.0           54        41        13         0       99\n",
       "25.0           20        16         4         0       45\n",
       "30.0           19        12         7         0       25\n",
       "35.0            3         3         0         0        6\n",
       "40.0            2         1         1         0        3\n",
       "45.0            1         1         0         0        1"
      ]
     },
     "execution_count": 24,
     "metadata": {},
     "output_type": "execute_result"
    },
    {
     "name": "stdout",
     "output_type": "stream",
     "text": [
      "Survival Function: Probabilities for a director's career lasting longer than time T\n",
      "Calculated with 'kmf.survival_function_':\n"
     ]
    },
    {
     "data": {
      "text/html": [
       "<div>\n",
       "<style scoped>\n",
       "    .dataframe tbody tr th:only-of-type {\n",
       "        vertical-align: middle;\n",
       "    }\n",
       "\n",
       "    .dataframe tbody tr th {\n",
       "        vertical-align: top;\n",
       "    }\n",
       "\n",
       "    .dataframe thead th {\n",
       "        text-align: right;\n",
       "    }\n",
       "</style>\n",
       "<table border=\"1\" class=\"dataframe\">\n",
       "  <thead>\n",
       "    <tr style=\"text-align: right;\">\n",
       "      <th></th>\n",
       "      <th>KM_estimate</th>\n",
       "    </tr>\n",
       "    <tr>\n",
       "      <th>timeline</th>\n",
       "      <th></th>\n",
       "    </tr>\n",
       "  </thead>\n",
       "  <tbody>\n",
       "    <tr>\n",
       "      <th>0.0</th>\n",
       "      <td>1.00</td>\n",
       "    </tr>\n",
       "    <tr>\n",
       "      <th>5.0</th>\n",
       "      <td>0.25</td>\n",
       "    </tr>\n",
       "    <tr>\n",
       "      <th>10.0</th>\n",
       "      <td>0.15</td>\n",
       "    </tr>\n",
       "    <tr>\n",
       "      <th>15.0</th>\n",
       "      <td>0.10</td>\n",
       "    </tr>\n",
       "    <tr>\n",
       "      <th>20.0</th>\n",
       "      <td>0.06</td>\n",
       "    </tr>\n",
       "    <tr>\n",
       "      <th>25.0</th>\n",
       "      <td>0.04</td>\n",
       "    </tr>\n",
       "    <tr>\n",
       "      <th>30.0</th>\n",
       "      <td>0.02</td>\n",
       "    </tr>\n",
       "    <tr>\n",
       "      <th>35.0</th>\n",
       "      <td>0.01</td>\n",
       "    </tr>\n",
       "    <tr>\n",
       "      <th>40.0</th>\n",
       "      <td>0.01</td>\n",
       "    </tr>\n",
       "    <tr>\n",
       "      <th>45.0</th>\n",
       "      <td>0.00</td>\n",
       "    </tr>\n",
       "  </tbody>\n",
       "</table>\n",
       "</div>"
      ],
      "text/plain": [
       "          KM_estimate\n",
       "timeline             \n",
       "0.0              1.00\n",
       "5.0              0.25\n",
       "10.0             0.15\n",
       "15.0             0.10\n",
       "20.0             0.06\n",
       "25.0             0.04\n",
       "30.0             0.02\n",
       "35.0             0.01\n",
       "40.0             0.01\n",
       "45.0             0.00"
      ]
     },
     "execution_count": 24,
     "metadata": {},
     "output_type": "execute_result"
    },
    {
     "name": "stdout",
     "output_type": "stream",
     "text": [
      "\n",
      "Median Career Length: 5.0 years\n",
      "\n"
     ]
    },
    {
     "data": {
      "text/plain": [
       "<matplotlib.axes._subplots.AxesSubplot at 0x1df46315518>"
      ]
     },
     "execution_count": 24,
     "metadata": {},
     "output_type": "execute_result"
    },
    {
     "data": {
      "text/plain": [
       "Text(0.5, 1.0, 'Kaplan-Meijer Estimate for Directors 1970-Present')"
      ]
     },
     "execution_count": 24,
     "metadata": {},
     "output_type": "execute_result"
    },
    {
     "data": {
      "text/plain": [
       "Text(0, 0.5, 'Probability a Director is Still Active')"
      ]
     },
     "execution_count": 24,
     "metadata": {},
     "output_type": "execute_result"
    },
    {
     "data": {
      "image/png": "[encoded data removed]",
      "text/plain": [
       "<Figure size 432x288 with 1 Axes>"
      ]
     },
     "metadata": {
      "needs_background": "light"
     },
     "output_type": "display_data"
    }
   ],
   "source": [
    "# Analyzing the Survival Rate of Directors\n",
    "\n",
    "# Fitting KM estimates for directors\n",
    "kmf = KaplanMeierFitter()\n",
    "kmf.fit(durations = dirSurvDF.duration, event_observed = dirSurvDF.ended)\n",
    "\n",
    "# Event Table for directors\n",
    "print(\"KaplanMeierFitter event table\")\n",
    "kmf.event_table\n",
    "\n",
    "# Survival Function for directors\n",
    "print(\"Survival Function: Probabilities for a director's career lasting longer than time T\")\n",
    "print(\"Calculated with 'kmf.survival_function_':\")\n",
    "round(kmf.survival_function_,2)\n",
    "print(\"\")\n",
    "print(\"Median Career Length:\", kmf.median_, \"years\")\n",
    "print(\"\")\n",
    "\n",
    "# Plot of Survival Function for directors\n",
    "kmf.plot()\n",
    "plt.title(\"Kaplan-Meijer Estimate for Directors 1970-Present\")\n",
    "plt.ylabel(\"Probability a Director is Still Active\")\n",
    "plt.show()\n"
   ]
  },
  {
   "cell_type": "markdown",
   "metadata": {},
   "source": [
    "<a id='discussing_directors'></a>"
   ]
  },
  {
   "cell_type": "markdown",
   "metadata": {},
   "source": [
    "<h5>Lifespan of Directors: Results and Discussion of Fitting and Estimates</h5>\n",
    "<a href='#toc'>Return to TOC</a>\n",
    "\n",
    "<b>Event Table for Directors: Contents and Meaning</b>\n",
    "\n",
    "The event table for directors is displayed above. Except for the specific number, the default structure of the event table is the same for any type of event. The time intervals on the left (labeled <i>event_at</i>) represent the range of years (0-45) covered by the careers of all directors active sometime between 1970 to the present. In this analysis, 0 years is the starting point for all 1867 directors. Of these, 249 were (right) <i>censored</i> -- they started in 2015 and there is no way to know whether they will make it to the next 5 year interval or not (since that's in the future). In the same vein, none of these directors or any of the other directors \"officially\" dropped out at the beginning. Consequently, the number of <i>observed</i> events is 0 (I labeled this state as 'ended' in the code). So, at this point, the probability of making it to the next time interval (i.e. the event_at = '5.0') is:\n",
    "\n",
    "    S(0) = (at_risk(0) - observed(0))/at_risk(0) = (1867 - 0)/1867 = 1.00\n",
    "    \n",
    "At the next time interval '5', the number at risk equals:\n",
    "\n",
    "    at_risk(5) = at_risk(0) - removed(0) = 1867 - 249 = 1618\n",
    "    \n",
    "Using the same logic, the probability of making it from time interval '0' to time interval '5' is:\n",
    "\n",
    "    S(5) = (at_risk(5) - observed(5)/at_risk(5) = (1618 - 1213)/1618 = .25\n",
    "    \n",
    "The chances of making it from '5' to '10'? Well,\n",
    "\n",
    "    at_risk(10) = at_risk(5) - removed(5) = 1618 - 1213 = 405\n",
    "    \n",
    "So, the probability of making it from time interval '5' to time interval '10' is:\n",
    "\n",
    "    S(10) = (at_risk(10) - observed(10)/at_risk(10) = (405 - 155)/405 = .62\n",
    "    \n",
    "and so on with the other intervals.\n",
    "\n",
    "While these probabilities are important, they only tell us the chance of being active or alive from one time interval to the next. This isn't the survival probability. The survival probability answers the question: what's the chance of being active or alive from a given time period or interval forward.  In our parlance, what's the chance that a director will have a career that is at least 5 years (or 5 years or longer), at least 10 years, at least 15 years, etc.? \n",
    "\n",
    "As noted earlier, in the Kaplan Meier estimate the answer is provided by the cross product of all the individual probabilities up to and including the time interval of interest, i.e. \n",
    "\n",
    "    S(t)=∏(ni−di)/ni\n",
    "    \n",
    "Here, if we want to know the probability of having a directing career that lasts longer than 5 years, the answer would be:\n",
    "\n",
    "    S(t>5) = S(0) * S(5) = 1.00 * .25 = .25\n",
    "    \n",
    "The probability of a career longer than 10 years, would be:\n",
    "\n",
    "    S(t>10) = S(0) * S(5) * S(10) = 1.00 * .25 * .62 = .155\n",
    "    \n",
    "And so on.\n",
    "\n",
    "Luckily, we don't have to do this by hand.  The 'survival_function_' method does this for us. When combined with a plot of the survival function, they provide a clear image of the overall structure of the survival rates."
   ]
  },
  {
   "cell_type": "markdown",
   "metadata": {},
   "source": [
    "<b>Survival Function and Plot for Directors</b>\n",
    "\n",
    "What's clear from the 'survival function' probabilities along with the step-function chart of the distribution is that being a Bollywood director is usually a shortlived career with the majority of the careers ending at 5 years or less. As the median indicates this is what happens to 50% of the directors. The total distribution indicates it's also true for 75% of the directors. Additionally, of the total that start, 15% make it past 10 years, 10% past 15 years, etc. If these were age survival rates for the population of a country or marriage survival rates, they'd obviously be catastrophic. Fortunately, they aren't.\n",
    "\n",
    "\n",
    "<b>Directors with Very Long Careers</b>\n",
    "\n",
    "What leads to a very long career among directors? Take a look at the directors with very long running careers (35+ years)."
   ]
  },
  {
   "cell_type": "code",
   "execution_count": 25,
   "metadata": {},
   "outputs": [
    {
     "name": "stdout",
     "output_type": "stream",
     "text": [
      "Directors with very long running careers of 35+ years\n",
      "\n",
      "Rajkumar Kohli {'counts': {1970: 1, 1975: 1, 1980: 3, 1985: 4, 1990: 2, 1995: 1, 2000: 1, 2005: 0, 2010: 0, 2015: 0}, 'movieCnt': 13, 'startYr': 1970, 'endYr': 2005, 'ended': 1, 'cLength': 35}\n",
      "\n",
      "Subhash Ghai {'counts': {1970: 0, 1975: 2, 1980: 4, 1985: 2, 1990: 2, 1995: 2, 2000: 1, 2005: 3, 2010: 1, 2015: 0}, 'movieCnt': 17, 'startYr': 1975, 'endYr': 2015, 'ended': 1, 'cLength': 40}\n",
      "\n",
      "Anil Sharma {'counts': {1970: 0, 1975: 0, 1980: 1, 1985: 1, 1990: 2, 1995: 2, 2000: 3, 2005: 1, 2010: 2, 2015: 1}, 'movieCnt': 13, 'startYr': 1980, 'endYr': 2020, 'ended': 0, 'cLength': 40}\n",
      "\n",
      "Harmesh Malhotra {'counts': {1970: 1, 1975: 3, 1980: 3, 1985: 4, 1990: 4, 1995: 2, 2000: 1, 2005: 0, 2010: 0, 2015: 0}, 'movieCnt': 18, 'startYr': 1970, 'endYr': 2005, 'ended': 1, 'cLength': 35}\n",
      "\n",
      "Yash Chopra {'counts': {1970: 2, 1975: 3, 1980: 2, 1985: 3, 1990: 2, 1995: 1, 2000: 1, 2005: 0, 2010: 1, 2015: 0}, 'movieCnt': 15, 'startYr': 1970, 'endYr': 2005, 'ended': 1, 'cLength': 35}\n",
      "\n",
      "Shyam Benegal {'counts': {1970: 1, 1975: 4, 1980: 3, 1985: 2, 1990: 3, 1995: 3, 2000: 2, 2005: 1, 2010: 1, 2015: 0}, 'movieCnt': 20, 'startYr': 1970, 'endYr': 2015, 'ended': 1, 'cLength': 45}\n",
      "\n"
     ]
    }
   ],
   "source": [
    "print(\"Directors with very long running careers of 35+ years\")\n",
    "print(\"\")\n",
    "for name in dirY5Dict.keys():\n",
    "    dirLength = dirY5Dict[name]['cLength']\n",
    "    if dirLength >= 35:\n",
    "        print(name, dirY5Dict[name])\n",
    "        print(\"\")"
   ]
  },
  {
   "cell_type": "markdown",
   "metadata": {},
   "source": [
    "There are 6 directors with careers longer than 35 years. No way to know how or why they lasted that long solely from the data provided here. However, it appears that being one of the more prolific directors in terms of total movies doesn't assure longevity. If you look at those directors with the longest careers, none of them is among the top 5 in terms of total movies and only one of them (Shyam Benegal) was in the top 10. Basically, the pattern they display is a slow steady stream of a few movies every 5 years. Answering the question of how they manage or generate this pattern requires a wider variety of data than provided in the Bollywood listings.\n",
    "\n",
    "What about starring cast members? As an aggregate, do their careers reflect the same patterns as directors? As the analysis below indicates, the survival rates are somewhat better. Yet, there's still a steep decline after year 5.   "
   ]
  },
  {
   "cell_type": "markdown",
   "metadata": {},
   "source": [
    "<a id='fitting_cast'></a>"
   ]
  },
  {
   "cell_type": "markdown",
   "metadata": {},
   "source": [
    "<h5>Lifespan of Starring Cast: Fitting and Estimation</h5>\n",
    "<a href='#toc'>Return to TOC</a>"
   ]
  },
  {
   "cell_type": "code",
   "execution_count": 26,
   "metadata": {
    "scrolled": true
   },
   "outputs": [
    {
     "data": {
      "text/plain": [
       "<lifelines.KaplanMeierFitter: fitted with 3336 observations, 979 censored>"
      ]
     },
     "execution_count": 26,
     "metadata": {},
     "output_type": "execute_result"
    },
    {
     "data": {
      "text/html": [
       "<div>\n",
       "<style scoped>\n",
       "    .dataframe tbody tr th:only-of-type {\n",
       "        vertical-align: middle;\n",
       "    }\n",
       "\n",
       "    .dataframe tbody tr th {\n",
       "        vertical-align: top;\n",
       "    }\n",
       "\n",
       "    .dataframe thead th {\n",
       "        text-align: right;\n",
       "    }\n",
       "</style>\n",
       "<table border=\"1\" class=\"dataframe\">\n",
       "  <thead>\n",
       "    <tr style=\"text-align: right;\">\n",
       "      <th></th>\n",
       "      <th>removed</th>\n",
       "      <th>observed</th>\n",
       "      <th>censored</th>\n",
       "      <th>entrance</th>\n",
       "      <th>at_risk</th>\n",
       "    </tr>\n",
       "    <tr>\n",
       "      <th>event_at</th>\n",
       "      <th></th>\n",
       "      <th></th>\n",
       "      <th></th>\n",
       "      <th></th>\n",
       "      <th></th>\n",
       "    </tr>\n",
       "  </thead>\n",
       "  <tbody>\n",
       "    <tr>\n",
       "      <th>0.0</th>\n",
       "      <td>622</td>\n",
       "      <td>0</td>\n",
       "      <td>622</td>\n",
       "      <td>3336</td>\n",
       "      <td>3336</td>\n",
       "    </tr>\n",
       "    <tr>\n",
       "      <th>5.0</th>\n",
       "      <td>1844</td>\n",
       "      <td>1844</td>\n",
       "      <td>0</td>\n",
       "      <td>0</td>\n",
       "      <td>2714</td>\n",
       "    </tr>\n",
       "    <tr>\n",
       "      <th>10.0</th>\n",
       "      <td>458</td>\n",
       "      <td>269</td>\n",
       "      <td>189</td>\n",
       "      <td>0</td>\n",
       "      <td>870</td>\n",
       "    </tr>\n",
       "    <tr>\n",
       "      <th>15.0</th>\n",
       "      <td>194</td>\n",
       "      <td>126</td>\n",
       "      <td>68</td>\n",
       "      <td>0</td>\n",
       "      <td>412</td>\n",
       "    </tr>\n",
       "    <tr>\n",
       "      <th>20.0</th>\n",
       "      <td>106</td>\n",
       "      <td>54</td>\n",
       "      <td>52</td>\n",
       "      <td>0</td>\n",
       "      <td>218</td>\n",
       "    </tr>\n",
       "    <tr>\n",
       "      <th>25.0</th>\n",
       "      <td>45</td>\n",
       "      <td>32</td>\n",
       "      <td>13</td>\n",
       "      <td>0</td>\n",
       "      <td>112</td>\n",
       "    </tr>\n",
       "    <tr>\n",
       "      <th>30.0</th>\n",
       "      <td>33</td>\n",
       "      <td>20</td>\n",
       "      <td>13</td>\n",
       "      <td>0</td>\n",
       "      <td>67</td>\n",
       "    </tr>\n",
       "    <tr>\n",
       "      <th>35.0</th>\n",
       "      <td>13</td>\n",
       "      <td>9</td>\n",
       "      <td>4</td>\n",
       "      <td>0</td>\n",
       "      <td>34</td>\n",
       "    </tr>\n",
       "    <tr>\n",
       "      <th>40.0</th>\n",
       "      <td>10</td>\n",
       "      <td>2</td>\n",
       "      <td>8</td>\n",
       "      <td>0</td>\n",
       "      <td>21</td>\n",
       "    </tr>\n",
       "    <tr>\n",
       "      <th>45.0</th>\n",
       "      <td>6</td>\n",
       "      <td>1</td>\n",
       "      <td>5</td>\n",
       "      <td>0</td>\n",
       "      <td>11</td>\n",
       "    </tr>\n",
       "    <tr>\n",
       "      <th>50.0</th>\n",
       "      <td>5</td>\n",
       "      <td>0</td>\n",
       "      <td>5</td>\n",
       "      <td>0</td>\n",
       "      <td>5</td>\n",
       "    </tr>\n",
       "  </tbody>\n",
       "</table>\n",
       "</div>"
      ],
      "text/plain": [
       "          removed  observed  censored  entrance  at_risk\n",
       "event_at                                                \n",
       "0.0           622         0       622      3336     3336\n",
       "5.0          1844      1844         0         0     2714\n",
       "10.0          458       269       189         0      870\n",
       "15.0          194       126        68         0      412\n",
       "20.0          106        54        52         0      218\n",
       "25.0           45        32        13         0      112\n",
       "30.0           33        20        13         0       67\n",
       "35.0           13         9         4         0       34\n",
       "40.0           10         2         8         0       21\n",
       "45.0            6         1         5         0       11\n",
       "50.0            5         0         5         0        5"
      ]
     },
     "execution_count": 26,
     "metadata": {},
     "output_type": "execute_result"
    },
    {
     "name": "stdout",
     "output_type": "stream",
     "text": [
      "Survival Probabilities for a starring cast member's career lasting longer than T\n",
      "Calculated with 'kmf.survival_function_':\n",
      "          KM_estimate\n",
      "timeline             \n",
      "0.0              1.00\n",
      "5.0              0.32\n",
      "10.0             0.22\n",
      "15.0             0.15\n",
      "20.0             0.12\n",
      "25.0             0.08\n",
      "30.0             0.06\n",
      "35.0             0.04\n",
      "40.0             0.04\n",
      "45.0             0.04\n",
      "50.0             0.04\n",
      "\n",
      "Median Career Length: 5.0 years\n",
      "\n"
     ]
    },
    {
     "data": {
      "text/plain": [
       "<matplotlib.axes._subplots.AxesSubplot at 0x1df4637ab00>"
      ]
     },
     "execution_count": 26,
     "metadata": {},
     "output_type": "execute_result"
    },
    {
     "data": {
      "text/plain": [
       "Text(0.5, 1.0, 'Kaplan-Meijer Estimate for Cast Members 1970-Present')"
      ]
     },
     "execution_count": 26,
     "metadata": {},
     "output_type": "execute_result"
    },
    {
     "data": {
      "text/plain": [
       "Text(0, 0.5, 'Probability a Cast Members is Still Active')"
      ]
     },
     "execution_count": 26,
     "metadata": {},
     "output_type": "execute_result"
    },
    {
     "data": {
      "image/png": "[encoded data removed]",
      "text/plain": [
       "<Figure size 432x288 with 1 Axes>"
      ]
     },
     "metadata": {
      "needs_background": "light"
     },
     "output_type": "display_data"
    }
   ],
   "source": [
    "# Survival probabilities for starring cast members in Bollywood movies 1970 to present\n",
    "\n",
    "# fitting KM estimates\n",
    "kmf = KaplanMeierFitter()\n",
    "kmf.fit(durations = castSurvDF.duration, event_observed = castSurvDF.ended)\n",
    "kmf.event_table\n",
    "\n",
    "# calculating Survival Function\n",
    "print(\"Survival Probabilities for a starring cast member's career lasting longer than T\")\n",
    "print(\"Calculated with 'kmf.survival_function_':\")\n",
    "print(round(kmf.survival_function_,2))\n",
    "print(\"\")\n",
    "print(\"Median Career Length:\", kmf.median_, \"years\")\n",
    "print(\"\")\n",
    "\n",
    "# plot of Survival Function\n",
    "kmf.plot()\n",
    "plt.title(\"Kaplan-Meijer Estimate for Cast Members 1970-Present\")\n",
    "plt.ylabel(\"Probability a Cast Members is Still Active\")\n",
    "plt.show()"
   ]
  },
  {
   "cell_type": "markdown",
   "metadata": {},
   "source": [
    "<a id='discussing_cast'></a>"
   ]
  },
  {
   "cell_type": "markdown",
   "metadata": {},
   "source": [
    "<h5>Lifespan of Starring Cast: Results and Discussion of Fitting and Estimation</h5>\n",
    "<a href='#toc'>Return to TOC</a>\n",
    "\n",
    "While the median length of a starring cast member's career is still 5 years (or less), the dropout rates are not quite as drastic as they are for directors. Instead of the .25 survival rate after year 5, it's .35. For the rest of the time intervals after 5 years, the decline is less steep than it is for directors and bottoms out at .4 with handful of actors having careers of 50+ years (indicating they are still active).\n",
    "\n",
    "<b>Starring Cast with Very Long Careers</b>\n",
    "\n",
    "Whose included among the handful of actors with very long careers? The answer is below:"
   ]
  },
  {
   "cell_type": "code",
   "execution_count": 27,
   "metadata": {},
   "outputs": [
    {
     "name": "stdout",
     "output_type": "stream",
     "text": [
      "Actors with careers of 50+ years\n",
      "\n",
      "Rishi Kapoor {'counts': {1970: 3, 1975: 16, 1980: 16, 1985: 12, 1990: 25, 1995: 7, 2000: 7, 2005: 12, 2010: 12, 2015: 7}, 'movieCnt': 117, 'startYr': 1970, 'endYr': 2020, 'ended': 0, 'cLength': 50}\n",
      "\n",
      "Amitabh Bachchan {'counts': {1970: 20, 1975: 28, 1980: 22, 1985: 10, 1990: 8, 1995: 7, 2000: 18, 2005: 26, 2010: 9, 2015: 8}, 'movieCnt': 156, 'startYr': 1970, 'endYr': 2020, 'ended': 0, 'cLength': 50}\n",
      "\n",
      "Shabana Azmi {'counts': {1970: 4, 1975: 14, 1980: 32, 1985: 9, 1990: 7, 1995: 4, 2000: 4, 2005: 6, 2010: 2, 2015: 3}, 'movieCnt': 85, 'startYr': 1970, 'endYr': 2020, 'ended': 0, 'cLength': 50}\n",
      "\n",
      "Hema Malini {'counts': {1970: 22, 1975: 30, 1980: 26, 1985: 15, 1990: 2, 1995: 4, 2000: 3, 2005: 1, 2010: 3, 2015: 1}, 'movieCnt': 107, 'startYr': 1970, 'endYr': 2020, 'ended': 0, 'cLength': 50}\n",
      "\n",
      "Dharmendra {'counts': {1970: 28, 1975: 22, 1980: 26, 1985: 22, 1990: 21, 1995: 16, 2000: 5, 2005: 4, 2010: 4, 2015: 2}, 'movieCnt': 150, 'startYr': 1970, 'endYr': 2020, 'ended': 0, 'cLength': 50}\n",
      "\n"
     ]
    }
   ],
   "source": [
    "print(\"Actors with careers of 50+ years\")\n",
    "print(\"\")\n",
    "for name in castY5Dict.keys():\n",
    "    careerLength = castY5Dict[name]['cLength']\n",
    "    if careerLength > 45:\n",
    "        print(name, castY5Dict[name])\n",
    "        print(\"\")"
   ]
  },
  {
   "cell_type": "markdown",
   "metadata": {},
   "source": [
    "Unlike directors, 2 out of the 5 actors (Dharmendra and Amitabh Bachchan) are among the top 5 most prolific actors, and another (Rishi Kapoor) is in the top 10. Only, Shabana Azmi is out of the top 20. So, being prolific may be necessary but it certainly isn't sufficient.  If there's any pattern here, it's the case that most of these actors were prolific for 20+ years followed by diminished activity for another 20+ years. The major exception to the pattern was Bachchan's resurgence in the 2000-2010 time frames (mentioned earlier), although his activity has slowed since then."
   ]
  },
  {
   "cell_type": "markdown",
   "metadata": {},
   "source": [
    "<a id='fitting_genre'></a>"
   ]
  },
  {
   "cell_type": "markdown",
   "metadata": {},
   "source": [
    "<h5>Lifespan of Genre: Results and Discussion of Fitting and Estimation</h5>\n",
    "<a href='#toc'>Return to TOC</a>\n",
    "\n",
    "The final set of survival probabilities deal with the lifespan of genre. From earlier analysis we already know that among the 107 genre that have been used to describe movies over the 50 year time period since 1970, a small group of less than 10 genre account for the thematic tags or labels applied to most of the movies. So again, what we would expect to see is a substantial drop off in survival rates after the first 5 years but a somewhat persistant rate after 5 years (because of the persistent core). The actual results shown below support this expectation."
   ]
  },
  {
   "cell_type": "code",
   "execution_count": 28,
   "metadata": {
    "scrolled": true
   },
   "outputs": [
    {
     "data": {
      "text/plain": [
       "<lifelines.KaplanMeierFitter: fitted with 107 observations, 42 censored>"
      ]
     },
     "execution_count": 28,
     "metadata": {},
     "output_type": "execute_result"
    },
    {
     "data": {
      "text/html": [
       "<div>\n",
       "<style scoped>\n",
       "    .dataframe tbody tr th:only-of-type {\n",
       "        vertical-align: middle;\n",
       "    }\n",
       "\n",
       "    .dataframe tbody tr th {\n",
       "        vertical-align: top;\n",
       "    }\n",
       "\n",
       "    .dataframe thead th {\n",
       "        text-align: right;\n",
       "    }\n",
       "</style>\n",
       "<table border=\"1\" class=\"dataframe\">\n",
       "  <thead>\n",
       "    <tr style=\"text-align: right;\">\n",
       "      <th></th>\n",
       "      <th>removed</th>\n",
       "      <th>observed</th>\n",
       "      <th>censored</th>\n",
       "      <th>entrance</th>\n",
       "      <th>at_risk</th>\n",
       "    </tr>\n",
       "    <tr>\n",
       "      <th>event_at</th>\n",
       "      <th></th>\n",
       "      <th></th>\n",
       "      <th></th>\n",
       "      <th></th>\n",
       "      <th></th>\n",
       "    </tr>\n",
       "  </thead>\n",
       "  <tbody>\n",
       "    <tr>\n",
       "      <th>0.0</th>\n",
       "      <td>19</td>\n",
       "      <td>0</td>\n",
       "      <td>19</td>\n",
       "      <td>107</td>\n",
       "      <td>107</td>\n",
       "    </tr>\n",
       "    <tr>\n",
       "      <th>5.0</th>\n",
       "      <td>57</td>\n",
       "      <td>57</td>\n",
       "      <td>0</td>\n",
       "      <td>0</td>\n",
       "      <td>88</td>\n",
       "    </tr>\n",
       "    <tr>\n",
       "      <th>10.0</th>\n",
       "      <td>13</td>\n",
       "      <td>4</td>\n",
       "      <td>9</td>\n",
       "      <td>0</td>\n",
       "      <td>31</td>\n",
       "    </tr>\n",
       "    <tr>\n",
       "      <th>15.0</th>\n",
       "      <td>4</td>\n",
       "      <td>2</td>\n",
       "      <td>2</td>\n",
       "      <td>0</td>\n",
       "      <td>18</td>\n",
       "    </tr>\n",
       "    <tr>\n",
       "      <th>20.0</th>\n",
       "      <td>2</td>\n",
       "      <td>0</td>\n",
       "      <td>2</td>\n",
       "      <td>0</td>\n",
       "      <td>14</td>\n",
       "    </tr>\n",
       "    <tr>\n",
       "      <th>25.0</th>\n",
       "      <td>1</td>\n",
       "      <td>0</td>\n",
       "      <td>1</td>\n",
       "      <td>0</td>\n",
       "      <td>12</td>\n",
       "    </tr>\n",
       "    <tr>\n",
       "      <th>45.0</th>\n",
       "      <td>3</td>\n",
       "      <td>2</td>\n",
       "      <td>1</td>\n",
       "      <td>0</td>\n",
       "      <td>11</td>\n",
       "    </tr>\n",
       "    <tr>\n",
       "      <th>50.0</th>\n",
       "      <td>8</td>\n",
       "      <td>0</td>\n",
       "      <td>8</td>\n",
       "      <td>0</td>\n",
       "      <td>8</td>\n",
       "    </tr>\n",
       "  </tbody>\n",
       "</table>\n",
       "</div>"
      ],
      "text/plain": [
       "          removed  observed  censored  entrance  at_risk\n",
       "event_at                                                \n",
       "0.0            19         0        19       107      107\n",
       "5.0            57        57         0         0       88\n",
       "10.0           13         4         9         0       31\n",
       "15.0            4         2         2         0       18\n",
       "20.0            2         0         2         0       14\n",
       "25.0            1         0         1         0       12\n",
       "45.0            3         2         1         0       11\n",
       "50.0            8         0         8         0        8"
      ]
     },
     "execution_count": 28,
     "metadata": {},
     "output_type": "execute_result"
    },
    {
     "name": "stdout",
     "output_type": "stream",
     "text": [
      "Survival Probabilities for a genre's usage lasting longer than 0, 5, and 10 years\n",
      "Calculated with 'kmf.predict([0, 5, 10])':\n",
      "0     1.00\n",
      "5     0.35\n",
      "10    0.31\n",
      "Name: KM_estimate, dtype: float64\n",
      "\n",
      "Survival Probabilities for a genre's usage lasting longer than T\n",
      "Calculated with 'kmf.survival_function_':\n",
      "          KM_estimate\n",
      "timeline             \n",
      "0.0              1.00\n",
      "5.0              0.35\n",
      "10.0             0.31\n",
      "15.0             0.27\n",
      "20.0             0.27\n",
      "25.0             0.27\n",
      "45.0             0.22\n",
      "50.0             0.22\n",
      "Median Career Length: 5.0 years\n",
      "\n"
     ]
    },
    {
     "data": {
      "text/plain": [
       "<matplotlib.axes._subplots.AxesSubplot at 0x1df46371b00>"
      ]
     },
     "execution_count": 28,
     "metadata": {},
     "output_type": "execute_result"
    },
    {
     "data": {
      "text/plain": [
       "Text(0.5, 1.0, 'Kaplan-Meijer Estimate for Genre 1970-Present')"
      ]
     },
     "execution_count": 28,
     "metadata": {},
     "output_type": "execute_result"
    },
    {
     "data": {
      "text/plain": [
       "Text(0, 0.5, 'Probability a Genre is Still Active')"
      ]
     },
     "execution_count": 28,
     "metadata": {},
     "output_type": "execute_result"
    },
    {
     "data": {
      "image/png": "[encoded data removed]",
      "text/plain": [
       "<Figure size 432x288 with 1 Axes>"
      ]
     },
     "metadata": {
      "needs_background": "light"
     },
     "output_type": "display_data"
    }
   ],
   "source": [
    "# Survival probabilities for genre used to tag Bollywood movies 1970 to present\n",
    "genreSurvDF = createSurvivalDF(genreY5Dict)\n",
    "\n",
    "kmf = KaplanMeierFitter()\n",
    "kmf.fit(durations = genreSurvDF.duration, event_observed = genreSurvDF.ended)\n",
    "kmf.event_table\n",
    "\n",
    "print(\"Survival Probabilities for a genre's usage lasting longer than 0, 5, and 10 years\")\n",
    "print(\"Calculated with 'kmf.predict([0, 5, 10])':\")\n",
    "print(round(kmf.predict([0, 5, 10]),2))\n",
    "print(\"\")\n",
    "print(\"Survival Probabilities for a genre's usage lasting longer than T\")\n",
    "print(\"Calculated with 'kmf.survival_function_':\")\n",
    "print(round(kmf.survival_function_,2))\n",
    "print(\"Median Career Length:\", kmf.median_, \"years\")\n",
    "print(\"\")\n",
    "kmf.plot()\n",
    "plt.title(\"Kaplan-Meijer Estimate for Genre 1970-Present\")\n",
    "plt.ylabel(\"Probability a Genre is Still Active\")\n",
    "plt.show()"
   ]
  },
  {
   "cell_type": "markdown",
   "metadata": {},
   "source": [
    "<a id='discussing_genre'></a>"
   ]
  },
  {
   "cell_type": "markdown",
   "metadata": {},
   "source": [
    "<h5>Lifespan of Genre: Results and Discussion of Fitting and Estimation</h5>\n",
    "<a href='#toc'>Return to TOC</a>\n",
    "\n",
    "Like directors and actors, the average lifespan of the majority of genre is 5 years or less. However, unlike these other groups there rates stabilize after 15 years but eventually drop after 45. If we look at those genre that have enjoyed continued usage over time, it's the usual suspects. This time, instead of simply listing those with the longest overall longevity, I've provided a list of the genre lasting longer that each of the 5 year intervals from 15 years on."
   ]
  },
  {
   "cell_type": "code",
   "execution_count": 29,
   "metadata": {},
   "outputs": [
    {
     "name": "stdout",
     "output_type": "stream",
     "text": [
      "Genre used for at least\n",
      "15 years, includes 18 genre ['Sports', 'Romantic', 'Political', 'Comedy', 'Psychological', 'Drama', 'History', 'Horror', 'War', 'Action', 'Fantasy', 'Musical', 'Crime', 'Romance', 'Thriller', 'Family', 'Erotic', 'Adventure']\n",
      "\n",
      "20 years, includes 14 genre ['Sports', 'Romantic', 'Comedy', 'Drama', 'Horror', 'War', 'Action', 'Fantasy', 'Musical', 'Crime', 'Romance', 'Thriller', 'Family', 'Erotic']\n",
      "\n",
      "25 years, includes 12 genre ['Romantic', 'Comedy', 'Drama', 'Horror', 'War', 'Action', 'Fantasy', 'Musical', 'Crime', 'Romance', 'Thriller', 'Family']\n",
      "\n",
      "30 years, includes 11 genre ['Romantic', 'Comedy', 'Drama', 'Horror', 'Action', 'Fantasy', 'Musical', 'Crime', 'Romance', 'Thriller', 'Family']\n",
      "\n",
      "35 years, includes 11 genre ['Romantic', 'Comedy', 'Drama', 'Horror', 'Action', 'Fantasy', 'Musical', 'Crime', 'Romance', 'Thriller', 'Family']\n",
      "\n",
      "40 years, includes 11 genre ['Romantic', 'Comedy', 'Drama', 'Horror', 'Action', 'Fantasy', 'Musical', 'Crime', 'Romance', 'Thriller', 'Family']\n",
      "\n",
      "45 years, includes 11 genre ['Romantic', 'Comedy', 'Drama', 'Horror', 'Action', 'Fantasy', 'Musical', 'Crime', 'Romance', 'Thriller', 'Family']\n",
      "\n",
      "50 years, includes 8 genre ['Comedy', 'Drama', 'Horror', 'Action', 'Musical', 'Crime', 'Romance', 'Thriller']\n",
      "\n"
     ]
    }
   ],
   "source": [
    "print(\"Genre used for at least\")\n",
    "\n",
    "# note: this is really an inefficient way of doing this but it's a small list\n",
    "for lngth in range(15,55,5):\n",
    "    usageYrsList = []\n",
    "    for name in genreY5Dict.keys():\n",
    "        usageLength = genreY5Dict[name]['cLength']\n",
    "        if usageLength >= lngth:\n",
    "            usageYrsList = usageYrsList +[name]\n",
    "    print(lngth, \"years,\", \"includes\", len(usageYrsList), \"genre\", usageYrsList)\n",
    "    print(\"\")"
   ]
  },
  {
   "cell_type": "markdown",
   "metadata": {},
   "source": [
    "<b>Long Lasting Genre</b>\n",
    "\n",
    "During this 35 year span 11-12 genre have persisted throughout with 8 lasting 50+ years. Actually, the counts are probably 10-11 and 7 since the 'Romantic' and 'Romance' genres are probably the same with the term 'Romance' dominating.\n",
    "\n",
    "The thing about genre is that unlike people they can come back from the dead. There's nothing that keeps marketing groups from resurrecting old terms, especially really generic ones that seems timeless. So, for instance, you might see a term like 'Family' appearing again, but you're not likely to see a tag like 'Mythology' anytime soon (even though it was used to describe most of the movies in the very early years of Bollywood)."
   ]
  },
  {
   "cell_type": "markdown",
   "metadata": {},
   "source": [
    "<a id='closing'></a>"
   ]
  },
  {
   "cell_type": "markdown",
   "metadata": {},
   "source": [
    "<h3>Closing Comments and Next Phase</h3>\n",
    "<a href='#toc'>Return to TOC</a>\n",
    "\n",
    "This has been a brief (he say's sarcastically) 50 page statistical overview of the life and times of directors, starring cast members, and genre for Bollywood movies from 1970 to the present. For the most part the statistical overview has looked at various counts by years for each of these entities either in the aggregate or as individuals. The questions answered by the overview are primarily descriptive rather than explanatory - how many, how long, and who's at the top rather than why some many or few, why so long or short, or why at the top or the bottom. They also look at activity as an individual rather than a group endeavor,looking at who works with whom and why these group patterns might exist?\n",
    " \n",
    "In the next phase of the analysis, I'm going focus primarily on the later questions by undertaking a social network analysis (SNA) based on the same data sets, although I may take a brief look at the IMDB data sets to see what the relationship is with the Bollywood movie listings in Wikipedia. If the IMDB data sets have fewer missing values, I way switch playing fields."
   ]
  }
 ],
 "metadata": {
  "CodeCell": {
   "cm_config": {
    "lineWrapping": true
   }
  },
  "MarkdownCell": {
   "cm_config": {
    "lineWrapping": true
   }
  },
  "kernelspec": {
   "display_name": "Python 3",
   "language": "python",
   "name": "python3"
  },
  "language_info": {
   "codemirror_mode": {
    "name": "ipython",
    "version": 3
   },
   "file_extension": ".py",
   "mimetype": "text/x-python",
   "name": "python",
   "nbconvert_exporter": "python",
   "pygments_lexer": "ipython3",
   "version": "3.6.6"
  }
 },
 "nbformat": 4,
 "nbformat_minor": 2
}
